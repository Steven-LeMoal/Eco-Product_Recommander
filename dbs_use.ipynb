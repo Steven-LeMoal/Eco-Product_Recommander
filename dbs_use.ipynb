{
 "cells": [
  {
   "cell_type": "code",
   "execution_count": 4,
   "metadata": {},
   "outputs": [],
   "source": [
    "from Products_database import ProductDatabase\n",
    "from shopping import ShoppingCart\n",
    "import pandas as pd\n",
    "from tqdm import tqdm\n",
    "import json"
   ]
  },
  {
   "cell_type": "code",
   "execution_count": 2,
   "metadata": {},
   "outputs": [],
   "source": [
    "import importlib\n",
    "\n",
    "import Products_database\n",
    "\n",
    "importlib.reload(Products_database)\n",
    "from Products_database import ProductDatabase\n",
    "\n",
    "import shopping\n",
    "\n",
    "importlib.reload(shopping)\n",
    "from shopping import ShoppingCart"
   ]
  },
  {
   "cell_type": "code",
   "execution_count": null,
   "metadata": {},
   "outputs": [],
   "source": []
  },
  {
   "cell_type": "code",
   "execution_count": 8,
   "metadata": {},
   "outputs": [],
   "source": [
    "json_file = \"final_extracted_products.json\""
   ]
  },
  {
   "cell_type": "code",
   "execution_count": 9,
   "metadata": {},
   "outputs": [],
   "source": [
    "f = open(json_file)\n",
    "json_data = json.load(f)"
   ]
  },
  {
   "cell_type": "code",
   "execution_count": 5,
   "metadata": {},
   "outputs": [],
   "source": [
    "csv_data = pd.read_csv(\"PRICE_subset.csv\")\n",
    "csv_data['codebarre'] = csv_data['codebarre'].astype(str)  # Convert to string"
   ]
  },
  {
   "cell_type": "code",
   "execution_count": 6,
   "metadata": {},
   "outputs": [
    {
     "data": {
      "text/html": [
       "<div>\n",
       "<style scoped>\n",
       "    .dataframe tbody tr th:only-of-type {\n",
       "        vertical-align: middle;\n",
       "    }\n",
       "\n",
       "    .dataframe tbody tr th {\n",
       "        vertical-align: top;\n",
       "    }\n",
       "\n",
       "    .dataframe thead th {\n",
       "        text-align: right;\n",
       "    }\n",
       "</style>\n",
       "<table border=\"1\" class=\"dataframe\">\n",
       "  <thead>\n",
       "    <tr style=\"text-align: right;\">\n",
       "      <th></th>\n",
       "      <th>codebarre</th>\n",
       "      <th>carrefour</th>\n",
       "    </tr>\n",
       "  </thead>\n",
       "  <tbody>\n",
       "    <tr>\n",
       "      <th>0</th>\n",
       "      <td>3274080005003</td>\n",
       "      <td>NaN</td>\n",
       "    </tr>\n",
       "    <tr>\n",
       "      <th>1</th>\n",
       "      <td>3017620422003</td>\n",
       "      <td>3,21</td>\n",
       "    </tr>\n",
       "    <tr>\n",
       "      <th>2</th>\n",
       "      <td>7622210449283</td>\n",
       "      <td>1,49</td>\n",
       "    </tr>\n",
       "    <tr>\n",
       "      <th>3</th>\n",
       "      <td>5449000214911</td>\n",
       "      <td>NaN</td>\n",
       "    </tr>\n",
       "    <tr>\n",
       "      <th>4</th>\n",
       "      <td>3017620425035</td>\n",
       "      <td>5,89</td>\n",
       "    </tr>\n",
       "  </tbody>\n",
       "</table>\n",
       "</div>"
      ],
      "text/plain": [
       "       codebarre carrefour\n",
       "0  3274080005003       NaN\n",
       "1  3017620422003      3,21\n",
       "2  7622210449283      1,49\n",
       "3  5449000214911       NaN\n",
       "4  3017620425035      5,89"
      ]
     },
     "execution_count": 6,
     "metadata": {},
     "output_type": "execute_result"
    }
   ],
   "source": [
    "csv_data.head()"
   ]
  },
  {
   "cell_type": "code",
   "execution_count": 13,
   "metadata": {},
   "outputs": [
    {
     "name": "stderr",
     "output_type": "stream",
     "text": [
      "100%|██████████| 692/692 [00:00<00:00, 16077.70it/s]\n"
     ]
    }
   ],
   "source": [
    "# Merging CSV data with JSON data\n",
    "for index, row in tqdm(csv_data.iterrows(), total=len(csv_data)):\n",
    "    product_id = row['codebarre']\n",
    "    price = row['carrefour']\n",
    "    if price and product_id in json_data:\n",
    "        json_data[product_id]['price'] = int(price) if type(price) is float() and 'N' in price else 0"
   ]
  },
  {
   "cell_type": "code",
   "execution_count": 14,
   "metadata": {},
   "outputs": [
    {
     "name": "stdout",
     "output_type": "stream",
     "text": [
      "Data with price saved to final_extracted_products.json\n"
     ]
    }
   ],
   "source": [
    "with open(json_file, 'w', encoding='utf-8') as file:\n",
    "    json.dump(json_data, file, ensure_ascii=False, indent=4)\n",
    "\n",
    "print(f\"Data with price saved to {json_file}\")"
   ]
  },
  {
   "cell_type": "code",
   "execution_count": null,
   "metadata": {},
   "outputs": [],
   "source": [
    "f = open(json_file)\n",
    "json_data = json.load(f)"
   ]
  },
  {
   "cell_type": "code",
   "execution_count": 5,
   "metadata": {},
   "outputs": [],
   "source": [
    "product_database = ProductDatabase(json_data, ngram_size=3)"
   ]
  },
  {
   "cell_type": "code",
   "execution_count": 6,
   "metadata": {},
   "outputs": [
    {
     "name": "stdout",
     "output_type": "stream",
     "text": [
      "Product(ID: 3560070218196, Name: Pain azyme, Price: None, Eco Score: unknown, Nutriscore Score: a)\n",
      "Product(ID: 3523680374317, Name: Pain Nordique, Price: None, Eco Score: unknown, Nutriscore Score: unknown)\n",
      "Product(ID: 3560071442033, Name: Pain de mie, Price: None, Eco Score: b, Nutriscore Score: c)\n",
      "Product(ID: 3523680383616, Name: Pain nordique, Price: None, Eco Score: unknown, Nutriscore Score: a)\n",
      "Product(ID: 3560070434169, Name: Piperade, Price: None, Eco Score: a, Nutriscore Score: a)\n"
     ]
    }
   ],
   "source": [
    "search_results = product_database.search_products_lvsn_dist(\"pain perdu\")\n",
    "print(*search_results[:5], sep=\"\\n\")"
   ]
  },
  {
   "cell_type": "code",
   "execution_count": 7,
   "metadata": {},
   "outputs": [
    {
     "name": "stdout",
     "output_type": "stream",
     "text": [
      "Product(ID: 3228857001194, Name: Harrys beau & bon pain de mie farine de ble cereales & graines 320g, Price: None, Eco Score: b, Nutriscore Score: a)\n",
      "Product(ID: 3175681085688, Name: Pain complet de seigle aux graines de tournesol, Price: None, Eco Score: b, Nutriscore Score: a)\n",
      "Product(ID: 3513851560724, Name: Pain multicéréales et graines, Price: None, Eco Score: unknown, Nutriscore Score: a)\n",
      "Product(ID: 3175681161252, Name: Pain complet de seigle aux graines de courges, Price: None, Eco Score: b, Nutriscore Score: a)\n",
      "Product(ID: 3523680357501, Name: Pain aux graines bio, Price: None, Eco Score: unknown, Nutriscore Score: a)\n"
     ]
    }
   ],
   "source": [
    "search_results = product_database.search_products_ngram(\"pain perdu\")\n",
    "print(*search_results[:5], sep=\"\\n\")"
   ]
  },
  {
   "cell_type": "code",
   "execution_count": 8,
   "metadata": {},
   "outputs": [],
   "source": [
    "panier = ShoppingCart(product_database)"
   ]
  },
  {
   "cell_type": "code",
   "execution_count": 9,
   "metadata": {},
   "outputs": [],
   "source": [
    "panier.add_product(\"3228857001194\")"
   ]
  },
  {
   "cell_type": "code",
   "execution_count": 10,
   "metadata": {},
   "outputs": [
    {
     "data": {
      "text/plain": [
       "dict_values([<Products.Product object at 0x17f34f370>])"
      ]
     },
     "execution_count": 10,
     "metadata": {},
     "output_type": "execute_result"
    }
   ],
   "source": [
    "panier.list_products()"
   ]
  },
  {
   "cell_type": "code",
   "execution_count": 11,
   "metadata": {},
   "outputs": [],
   "source": [
    "panier.remove_product(\"3228857001194\")"
   ]
  },
  {
   "cell_type": "code",
   "execution_count": 12,
   "metadata": {},
   "outputs": [
    {
     "data": {
      "text/plain": [
       "dict_values([])"
      ]
     },
     "execution_count": 12,
     "metadata": {},
     "output_type": "execute_result"
    }
   ],
   "source": [
    "panier.list_products()"
   ]
  },
  {
   "cell_type": "code",
   "execution_count": 15,
   "metadata": {},
   "outputs": [
    {
     "name": "stdout",
     "output_type": "stream",
     "text": [
      "\u001b[0m\n",
      "\u001b[34m\u001b[1m  You can now view your Streamlit app in your browser.\u001b[0m\n",
      "\u001b[0m\n",
      "\u001b[34m  Local URL: \u001b[0m\u001b[1mhttp://localhost:8501\u001b[0m\n",
      "\u001b[34m  Network URL: \u001b[0m\u001b[1mhttp://10.1.175.190:8501\u001b[0m\n",
      "\u001b[0m\n",
      "\u001b[34m\u001b[1m  For better performance, install the Watchdog module:\u001b[0m\n",
      "\n",
      "  $ xcode-select --install\n",
      "  $ pip install watchdog\n",
      "            \u001b[0m\n",
      "2024-01-17 09:16:16.323 loading Word2Vec object from ingredients2vec.model\n",
      "2024-01-17 09:16:16.335 loading wv recursively from ingredients2vec.model.wv.* with mmap=None\n",
      "2024-01-17 09:16:16.336 setting ignored attribute cum_table to None\n",
      "2024-01-17 09:16:16.378 Word2Vec lifecycle event {'fname': 'ingredients2vec.model', 'datetime': '2024-01-17T09:16:16.337848', 'gensim': '4.3.1', 'python': '3.9.12 (main, Apr  5 2022, 01:52:34) \\n[Clang 12.0.0 ]', 'platform': 'macOS-14.2-arm64-arm-64bit', 'event': 'loaded'}\n"
     ]
    }
   ],
   "source": [
    "! streamlit run app.py"
   ]
  },
  {
   "cell_type": "code",
   "execution_count": null,
   "metadata": {},
   "outputs": [],
   "source": []
  }
 ],
 "metadata": {
  "kernelspec": {
   "display_name": "base",
   "language": "python",
   "name": "python3"
  },
  "language_info": {
   "codemirror_mode": {
    "name": "ipython",
    "version": 3
   },
   "file_extension": ".py",
   "mimetype": "text/x-python",
   "name": "python",
   "nbconvert_exporter": "python",
   "pygments_lexer": "ipython3",
   "version": "3.9.12"
  }
 },
 "nbformat": 4,
 "nbformat_minor": 2
}
