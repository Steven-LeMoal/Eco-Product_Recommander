{
 "cells": [
  {
   "cell_type": "code",
   "execution_count": 1,
   "metadata": {},
   "outputs": [],
   "source": [
    "from Products_database import ProductDatabase\n",
    "from shopping import ShoppingCart\n",
    "import json"
   ]
  },
  {
   "cell_type": "code",
   "execution_count": 2,
   "metadata": {},
   "outputs": [],
   "source": [
    "import importlib\n",
    "\n",
    "import Products_database\n",
    "\n",
    "importlib.reload(Products_database)\n",
    "from Products_database import ProductDatabase\n",
    "\n",
    "import shopping\n",
    "\n",
    "importlib.reload(shopping)\n",
    "from shopping import ShoppingCart"
   ]
  },
  {
   "cell_type": "code",
   "execution_count": 3,
   "metadata": {},
   "outputs": [],
   "source": [
    "json_file = \"final_extracted_products.json\""
   ]
  },
  {
   "cell_type": "code",
   "execution_count": 4,
   "metadata": {},
   "outputs": [],
   "source": [
    "f = open(json_file)\n",
    "json_data = json.load(f)"
   ]
  },
  {
   "cell_type": "code",
   "execution_count": 5,
   "metadata": {},
   "outputs": [],
   "source": [
    "product_database = ProductDatabase(json_data, ngram_size=3)"
   ]
  },
  {
   "cell_type": "code",
   "execution_count": 6,
   "metadata": {},
   "outputs": [
    {
     "name": "stdout",
     "output_type": "stream",
     "text": [
      "Product(ID: 3560070218196, Name: Pain azyme, Price: None, Eco Score: unknown, Nutriscore Score: a)\n",
      "Product(ID: 3523680374317, Name: Pain Nordique, Price: None, Eco Score: unknown, Nutriscore Score: unknown)\n",
      "Product(ID: 3560071442033, Name: Pain de mie, Price: None, Eco Score: b, Nutriscore Score: c)\n",
      "Product(ID: 3523680383616, Name: Pain nordique, Price: None, Eco Score: unknown, Nutriscore Score: a)\n",
      "Product(ID: 3560070434169, Name: Piperade, Price: None, Eco Score: a, Nutriscore Score: a)\n"
     ]
    }
   ],
   "source": [
    "search_results = product_database.search_products_lvsn_dist(\"pain perdu\")\n",
    "print(*search_results[:5], sep=\"\\n\")"
   ]
  },
  {
   "cell_type": "code",
   "execution_count": 7,
   "metadata": {},
   "outputs": [
    {
     "name": "stdout",
     "output_type": "stream",
     "text": [
      "Product(ID: 3228857001194, Name: Harrys beau & bon pain de mie farine de ble cereales & graines 320g, Price: None, Eco Score: b, Nutriscore Score: a)\n",
      "Product(ID: 3175681085688, Name: Pain complet de seigle aux graines de tournesol, Price: None, Eco Score: b, Nutriscore Score: a)\n",
      "Product(ID: 3513851560724, Name: Pain multicéréales et graines, Price: None, Eco Score: unknown, Nutriscore Score: a)\n",
      "Product(ID: 3175681161252, Name: Pain complet de seigle aux graines de courges, Price: None, Eco Score: b, Nutriscore Score: a)\n",
      "Product(ID: 3523680357501, Name: Pain aux graines bio, Price: None, Eco Score: unknown, Nutriscore Score: a)\n"
     ]
    }
   ],
   "source": [
    "search_results = product_database.search_products_ngram(\"pain perdu\")\n",
    "print(*search_results[:5], sep=\"\\n\")"
   ]
  },
  {
   "cell_type": "code",
   "execution_count": 8,
   "metadata": {},
   "outputs": [],
   "source": [
    "panier = ShoppingCart(product_database)"
   ]
  },
  {
   "cell_type": "code",
   "execution_count": 9,
   "metadata": {},
   "outputs": [],
   "source": [
    "panier.add_product(\"3228857001194\")"
   ]
  },
  {
   "cell_type": "code",
   "execution_count": 10,
   "metadata": {},
   "outputs": [
    {
     "data": {
      "text/plain": [
       "dict_values([<Products.Product object at 0x17f34f370>])"
      ]
     },
     "execution_count": 10,
     "metadata": {},
     "output_type": "execute_result"
    }
   ],
   "source": [
    "panier.list_products()"
   ]
  },
  {
   "cell_type": "code",
   "execution_count": 11,
   "metadata": {},
   "outputs": [],
   "source": [
    "panier.remove_product(\"3228857001194\")"
   ]
  },
  {
   "cell_type": "code",
   "execution_count": 12,
   "metadata": {},
   "outputs": [
    {
     "data": {
      "text/plain": [
       "dict_values([])"
      ]
     },
     "execution_count": 12,
     "metadata": {},
     "output_type": "execute_result"
    }
   ],
   "source": [
    "panier.list_products()"
   ]
  },
  {
   "cell_type": "code",
   "execution_count": 13,
   "metadata": {},
   "outputs": [
    {
     "name": "stdout",
     "output_type": "stream",
     "text": [
      "\u001b[0m\n",
      "\u001b[34m\u001b[1m  You can now view your Streamlit app in your browser.\u001b[0m\n",
      "\u001b[0m\n",
      "\u001b[34m  Local URL: \u001b[0m\u001b[1mhttp://localhost:8501\u001b[0m\n",
      "\u001b[34m  Network URL: \u001b[0m\u001b[1mhttp://100.66.5.233:8501\u001b[0m\n",
      "\u001b[0m\n",
      "\u001b[34m\u001b[1m  For better performance, install the Watchdog module:\u001b[0m\n",
      "\n",
      "  $ xcode-select --install\n",
      "  $ pip install watchdog\n",
      "            \u001b[0m\n",
      "^C\n",
      "\u001b[34m  Stopping...\u001b[0m\n"
     ]
    }
   ],
   "source": [
    "! streamlit run app.py"
   ]
  }
 ],
 "metadata": {
  "kernelspec": {
   "display_name": "base",
   "language": "python",
   "name": "python3"
  },
  "language_info": {
   "codemirror_mode": {
    "name": "ipython",
    "version": 3
   },
   "file_extension": ".py",
   "mimetype": "text/x-python",
   "name": "python",
   "nbconvert_exporter": "python",
   "pygments_lexer": "ipython3",
   "version": "3.9.12"
  }
 },
 "nbformat": 4,
 "nbformat_minor": 2
}
