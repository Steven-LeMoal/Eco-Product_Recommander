{
 "cells": [
  {
   "cell_type": "code",
   "execution_count": 1,
   "metadata": {},
   "outputs": [],
   "source": [
    "from Products_database import ProductDatabase\n",
    "import json"
   ]
  },
  {
   "cell_type": "code",
   "execution_count": 2,
   "metadata": {},
   "outputs": [],
   "source": [
    "json_file = 'final_extracted_products.json'"
   ]
  },
  {
   "cell_type": "code",
   "execution_count": 3,
   "metadata": {},
   "outputs": [],
   "source": [
    "f = open(json_file)\n",
    "json_data = json.load(f)"
   ]
  },
  {
   "cell_type": "code",
   "execution_count": 4,
   "metadata": {},
   "outputs": [],
   "source": [
    "product_database = ProductDatabase(json_data)"
   ]
  },
  {
   "cell_type": "code",
   "execution_count": 6,
   "metadata": {},
   "outputs": [
    {
     "name": "stdout",
     "output_type": "stream",
     "text": [
      "Product(ID: 3560070218196, Name: Pain azyme, Price: None, Eco Score: None, Nutriscore Score: {})\n",
      "Product(ID: 3523680374317, Name: Pain Nordique, Price: None, Eco Score: None, Nutriscore Score: {})\n",
      "Product(ID: 3560071442033, Name: Pain de mie, Price: None, Eco Score: 79, Nutriscore Score: {})\n",
      "Product(ID: 3523680383616, Name: Pain nordique, Price: None, Eco Score: None, Nutriscore Score: {})\n",
      "Product(ID: 3560070434169, Name: Piperade, Price: None, Eco Score: 80, Nutriscore Score: {})\n"
     ]
    }
   ],
   "source": [
    "search_results = product_database.search_products(\"pain perdu\")\n",
    "print(*search_results[:5], sep='\\n')"
   ]
  }
 ],
 "metadata": {
  "kernelspec": {
   "display_name": "base",
   "language": "python",
   "name": "python3"
  },
  "language_info": {
   "codemirror_mode": {
    "name": "ipython",
    "version": 3
   },
   "file_extension": ".py",
   "mimetype": "text/x-python",
   "name": "python",
   "nbconvert_exporter": "python",
   "pygments_lexer": "ipython3",
   "version": "3.9.12"
  }
 },
 "nbformat": 4,
 "nbformat_minor": 2
}
