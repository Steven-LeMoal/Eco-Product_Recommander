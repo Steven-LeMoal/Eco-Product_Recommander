{
 "cells": [
  {
   "cell_type": "code",
   "execution_count": 1,
   "metadata": {},
   "outputs": [],
   "source": [
    "from Products_database import ProductDatabase\n",
    "from shopping import ShoppingCart\n",
    "import pandas as pd\n",
    "from tqdm import tqdm\n",
    "import json"
   ]
  },
  {
   "cell_type": "code",
   "execution_count": 2,
   "metadata": {},
   "outputs": [],
   "source": [
    "import importlib\n",
    "\n",
    "import Products_database\n",
    "\n",
    "importlib.reload(Products_database)\n",
    "from Products_database import ProductDatabase\n",
    "\n",
    "import shopping\n",
    "\n",
    "importlib.reload(shopping)\n",
    "from shopping import ShoppingCart"
   ]
  },
  {
   "cell_type": "code",
   "execution_count": 3,
   "metadata": {},
   "outputs": [],
   "source": [
    "json_file = \"final_extracted_products.json\""
   ]
  },
  {
   "cell_type": "code",
   "execution_count": 4,
   "metadata": {},
   "outputs": [],
   "source": [
    "f = open(json_file)\n",
    "json_data = json.load(f)"
   ]
  },
  {
   "cell_type": "code",
   "execution_count": 7,
   "metadata": {},
   "outputs": [
    {
     "name": "stderr",
     "output_type": "stream",
     "text": [
      "100%|██████████| 9949/9949 [00:00<00:00, 63931.82it/s]\n"
     ]
    },
    {
     "data": {
      "text/plain": [
       "{'en:may-contain-palm-oil',\n",
       " 'en:maybe-vegan',\n",
       " 'en:maybe-vegetarian',\n",
       " 'en:non-vegan',\n",
       " 'en:non-vegetarian',\n",
       " 'en:palm-oil',\n",
       " 'en:palm-oil-content-unknown',\n",
       " 'en:palm-oil-free',\n",
       " 'en:vegan',\n",
       " 'en:vegan-status-unknown',\n",
       " 'en:vegetarian',\n",
       " 'en:vegetarian-status-unknown'}"
      ]
     },
     "execution_count": 7,
     "metadata": {},
     "output_type": "execute_result"
    }
   ],
   "source": [
    "unique_ingredients_analysis_tags = set()\n",
    "\n",
    "for product_id, product_data in tqdm(json_data.items()):\n",
    "    tags = product_data.get('ingredients_analysis_tags', None)\n",
    "    if tags:\n",
    "        unique_ingredients_analysis_tags.update(tags)\n",
    "\n",
    "# Displaying the unique values\n",
    "unique_ingredients_analysis_tags"
   ]
  },
  {
   "cell_type": "code",
   "execution_count": 9,
   "metadata": {},
   "outputs": [
    {
     "name": "stderr",
     "output_type": "stream",
     "text": [
      "100%|██████████| 9949/9949 [00:00<00:00, 67710.22it/s]"
     ]
    },
    {
     "name": "stdout",
     "output_type": "stream",
     "text": [
      "\n",
      "There are 496 product without vegan/vegetarian info\n",
      "\n",
      "There are 3242 product with vegan/vegetarian info unknwow\n"
     ]
    },
    {
     "name": "stderr",
     "output_type": "stream",
     "text": [
      "\n"
     ]
    }
   ],
   "source": [
    "nb_product_without_tags = 0\n",
    "nb_product_unknow_tags = 0\n",
    "\n",
    "for product_id, product_data in tqdm(json_data.items()):\n",
    "    tags = product_data.get('ingredients_analysis_tags', None)\n",
    "    if not tags:\n",
    "        nb_product_without_tags += 1\n",
    "    elif 'en:vegetarian-status-unknown' in tags or 'en:vegan-status-unknown' in tags:\n",
    "        nb_product_unknow_tags += 1\n",
    "# Displaying the unique values\n",
    "print(f\"\\nThere are {nb_product_without_tags} product without vegan/vegetarian info\")\n",
    "print(f\"\\nThere are {nb_product_unknow_tags} product with vegan/vegetarian info unknwow\")"
   ]
  },
  {
   "cell_type": "code",
   "execution_count": 11,
   "metadata": {},
   "outputs": [
    {
     "name": "stderr",
     "output_type": "stream",
     "text": [
      "  1%|          | 50/9949 [00:00<00:00, 259227.69it/s]\n"
     ]
    }
   ],
   "source": [
    "# new_json = {}\n",
    "# stop = 50\n",
    "\n",
    "# for product_id, row in tqdm(json_data.items()):\n",
    "#     new_json[product_id] = row\n",
    "#     stop = stop - 1\n",
    "#     if stop == -1:\n",
    "#         break\n",
    "\n",
    "# with open('json_data_50.json', 'w', encoding='utf-8') as file:\n",
    "#      json.dump(new_json, file, ensure_ascii=False, indent=4)"
   ]
  },
  {
   "cell_type": "code",
   "execution_count": 31,
   "metadata": {},
   "outputs": [],
   "source": [
    "# Extract 'ingredients_tags' and 'labels_tags'\n",
    "data = [{'id': product.get('_id'),\n",
    "        'ingredients_tags': product.get('ingredients_tags', []), \n",
    "         'labels_tags': product.get('ingredients_analysis_tags', [])} \n",
    "        for product in json_data.values()]\n",
    "\n",
    "# Create a DataFrame\n",
    "df = pd.DataFrame(data)"
   ]
  },
  {
   "cell_type": "code",
   "execution_count": 25,
   "metadata": {},
   "outputs": [
    {
     "data": {
      "text/html": [
       "<div>\n",
       "<style scoped>\n",
       "    .dataframe tbody tr th:only-of-type {\n",
       "        vertical-align: middle;\n",
       "    }\n",
       "\n",
       "    .dataframe tbody tr th {\n",
       "        vertical-align: top;\n",
       "    }\n",
       "\n",
       "    .dataframe thead th {\n",
       "        text-align: right;\n",
       "    }\n",
       "</style>\n",
       "<table border=\"1\" class=\"dataframe\">\n",
       "  <thead>\n",
       "    <tr style=\"text-align: right;\">\n",
       "      <th></th>\n",
       "      <th>id</th>\n",
       "      <th>ingredients_tags</th>\n",
       "      <th>labels_tags</th>\n",
       "    </tr>\n",
       "  </thead>\n",
       "  <tbody>\n",
       "    <tr>\n",
       "      <th>0</th>\n",
       "      <td>3274080005003</td>\n",
       "      <td>[en:spring-water, en:water]</td>\n",
       "      <td>[en:palm-oil-free, en:vegan, en:vegetarian]</td>\n",
       "    </tr>\n",
       "    <tr>\n",
       "      <th>1</th>\n",
       "      <td>3017620422003</td>\n",
       "      <td>[en:sugar, en:added-sugar, en:disaccharide, en...</td>\n",
       "      <td>[en:palm-oil, en:non-vegan, en:vegetarian-stat...</td>\n",
       "    </tr>\n",
       "    <tr>\n",
       "      <th>2</th>\n",
       "      <td>7622210449283</td>\n",
       "      <td>[en:cereal, en:sugar, en:added-sugar, en:disac...</td>\n",
       "      <td>[en:palm-oil, en:non-vegan, en:vegetarian-stat...</td>\n",
       "    </tr>\n",
       "    <tr>\n",
       "      <th>3</th>\n",
       "      <td>5449000214911</td>\n",
       "      <td>[en:carbonated-water, en:water, en:sugar, en:a...</td>\n",
       "      <td>[en:palm-oil-free, en:maybe-vegan, en:maybe-ve...</td>\n",
       "    </tr>\n",
       "    <tr>\n",
       "      <th>4</th>\n",
       "      <td>3017620425035</td>\n",
       "      <td>[en:sugar, en:added-sugar, en:disaccharide, en...</td>\n",
       "      <td>[en:palm-oil, en:non-vegan, en:vegetarian-stat...</td>\n",
       "    </tr>\n",
       "  </tbody>\n",
       "</table>\n",
       "</div>"
      ],
      "text/plain": [
       "              id                                   ingredients_tags  \\\n",
       "0  3274080005003                        [en:spring-water, en:water]   \n",
       "1  3017620422003  [en:sugar, en:added-sugar, en:disaccharide, en...   \n",
       "2  7622210449283  [en:cereal, en:sugar, en:added-sugar, en:disac...   \n",
       "3  5449000214911  [en:carbonated-water, en:water, en:sugar, en:a...   \n",
       "4  3017620425035  [en:sugar, en:added-sugar, en:disaccharide, en...   \n",
       "\n",
       "                                         labels_tags  \n",
       "0        [en:palm-oil-free, en:vegan, en:vegetarian]  \n",
       "1  [en:palm-oil, en:non-vegan, en:vegetarian-stat...  \n",
       "2  [en:palm-oil, en:non-vegan, en:vegetarian-stat...  \n",
       "3  [en:palm-oil-free, en:maybe-vegan, en:maybe-ve...  \n",
       "4  [en:palm-oil, en:non-vegan, en:vegetarian-stat...  "
      ]
     },
     "execution_count": 25,
     "metadata": {},
     "output_type": "execute_result"
    }
   ],
   "source": [
    "df.head()"
   ]
  },
  {
   "cell_type": "code",
   "execution_count": 20,
   "metadata": {},
   "outputs": [],
   "source": [
    "# df.to_csv('path_to_file.csv', index=False)"
   ]
  },
  {
   "cell_type": "code",
   "execution_count": null,
   "metadata": {},
   "outputs": [],
   "source": []
  },
  {
   "cell_type": "code",
   "execution_count": 39,
   "metadata": {},
   "outputs": [],
   "source": [
    "import matplotlib.pyplot as plt\n",
    "from collections import Counter\n",
    "import re"
   ]
  },
  {
   "cell_type": "code",
   "execution_count": 50,
   "metadata": {},
   "outputs": [],
   "source": [
    "def clean_ingredient_tags(tags):\n",
    "    # Remove 'en:' prefix and replace hyphens/underscores with spaces\n",
    "    if tags:\n",
    "        cleaned_tags = [re.sub(r\"(en:|-|_)\", \" \", str(tag)).strip() for tag in tags if tag]\n",
    "        return cleaned_tags\n",
    "    return ['']"
   ]
  },
  {
   "cell_type": "code",
   "execution_count": 56,
   "metadata": {},
   "outputs": [],
   "source": [
    "# Extract 'ingredients_tags' and 'labels_tags'\n",
    "data = [{'id': product.get('_id'),\n",
    "        'ingredients_tags': product.get('ingredients_tags', ['']), \n",
    "         'labels_tags': product.get('ingredients_analysis_tags', [''])} \n",
    "        for product in json_data.values()]\n",
    "\n",
    "# Create a DataFrame\n",
    "df = pd.DataFrame(data)"
   ]
  },
  {
   "cell_type": "code",
   "execution_count": 61,
   "metadata": {},
   "outputs": [],
   "source": [
    "df['cleaned_ingredients'] = df['ingredients_tags'].apply(clean_ingredient_tags)"
   ]
  },
  {
   "cell_type": "code",
   "execution_count": 154,
   "metadata": {},
   "outputs": [],
   "source": [
    "df['clean_labels_tags'] = df['labels_tags'].apply(lambda x : [str(y.split(':')[-1].replace('-', ' ')) for y in x if y] if x else [''])"
   ]
  },
  {
   "cell_type": "code",
   "execution_count": 53,
   "metadata": {},
   "outputs": [
    {
     "data": {
      "image/png": "[encoded data removed]",
      "text/plain": [
       "<Figure size 1000x600 with 1 Axes>"
      ]
     },
     "metadata": {},
     "output_type": "display_data"
    }
   ],
   "source": [
    "# Flatten the list of all ingredient tags to count the frequencies\n",
    "all_ingredients = [ingredient for sublist in df['cleaned_ingredients'] for ingredient in sublist]\n",
    "ingredient_counts = Counter(all_ingredients)\n",
    "\n",
    "# Display the most common ingredients\n",
    "most_common_ingredients = ingredient_counts.most_common(20)\n",
    "\n",
    "# Create a bar plot for the most common ingredients\n",
    "plt.figure(figsize=(10, 6))\n",
    "plt.barh([ingredient[0] for ingredient in most_common_ingredients], [ingredient[1] for ingredient in most_common_ingredients])\n",
    "plt.xlabel('Frequency')\n",
    "plt.ylabel('Ingredients')\n",
    "plt.title('Top 20 Most Common Ingredients')\n",
    "plt.gca().invert_yaxis() # To display the highest count at the top\n",
    "plt.show()"
   ]
  },
  {
   "cell_type": "code",
   "execution_count": 58,
   "metadata": {},
   "outputs": [],
   "source": [
    "# Create binary labels for 'Vegan' and 'Vegetarian'\n",
    "df['Vegan'] = df['labels_tags'].apply(lambda tags: 1 if tags and 'en:vegan' in tags else 0)\n",
    "df['Vegetarian'] = df['labels_tags'].apply(lambda tags: 1 if tags and 'en:vegetarian' in tags else 0)"
   ]
  },
  {
   "cell_type": "code",
   "execution_count": 62,
   "metadata": {},
   "outputs": [
    {
     "data": {
      "text/html": [
       "<div>\n",
       "<style scoped>\n",
       "    .dataframe tbody tr th:only-of-type {\n",
       "        vertical-align: middle;\n",
       "    }\n",
       "\n",
       "    .dataframe tbody tr th {\n",
       "        vertical-align: top;\n",
       "    }\n",
       "\n",
       "    .dataframe thead th {\n",
       "        text-align: right;\n",
       "    }\n",
       "</style>\n",
       "<table border=\"1\" class=\"dataframe\">\n",
       "  <thead>\n",
       "    <tr style=\"text-align: right;\">\n",
       "      <th></th>\n",
       "      <th>id</th>\n",
       "      <th>ingredients_tags</th>\n",
       "      <th>labels_tags</th>\n",
       "      <th>Vegan</th>\n",
       "      <th>Vegetarian</th>\n",
       "      <th>cleaned_ingredients</th>\n",
       "    </tr>\n",
       "  </thead>\n",
       "  <tbody>\n",
       "    <tr>\n",
       "      <th>0</th>\n",
       "      <td>3274080005003</td>\n",
       "      <td>[en:spring-water, en:water]</td>\n",
       "      <td>[en:palm-oil-free, en:vegan, en:vegetarian]</td>\n",
       "      <td>1</td>\n",
       "      <td>1</td>\n",
       "      <td>[spring water, water]</td>\n",
       "    </tr>\n",
       "    <tr>\n",
       "      <th>1</th>\n",
       "      <td>3017620422003</td>\n",
       "      <td>[en:sugar, en:added-sugar, en:disaccharide, en...</td>\n",
       "      <td>[en:palm-oil, en:non-vegan, en:vegetarian-stat...</td>\n",
       "      <td>0</td>\n",
       "      <td>0</td>\n",
       "      <td>[sugar, added sugar, disaccharide, palm oil, o...</td>\n",
       "    </tr>\n",
       "    <tr>\n",
       "      <th>2</th>\n",
       "      <td>7622210449283</td>\n",
       "      <td>[en:cereal, en:sugar, en:added-sugar, en:disac...</td>\n",
       "      <td>[en:palm-oil, en:non-vegan, en:vegetarian-stat...</td>\n",
       "      <td>0</td>\n",
       "      <td>0</td>\n",
       "      <td>[cereal, sugar, added sugar, disaccharide, pal...</td>\n",
       "    </tr>\n",
       "    <tr>\n",
       "      <th>3</th>\n",
       "      <td>5449000214911</td>\n",
       "      <td>[en:carbonated-water, en:water, en:sugar, en:a...</td>\n",
       "      <td>[en:palm-oil-free, en:maybe-vegan, en:maybe-ve...</td>\n",
       "      <td>0</td>\n",
       "      <td>0</td>\n",
       "      <td>[carbonated water, water, sugar, added sugar, ...</td>\n",
       "    </tr>\n",
       "    <tr>\n",
       "      <th>4</th>\n",
       "      <td>3017620425035</td>\n",
       "      <td>[en:sugar, en:added-sugar, en:disaccharide, en...</td>\n",
       "      <td>[en:palm-oil, en:non-vegan, en:vegetarian-stat...</td>\n",
       "      <td>0</td>\n",
       "      <td>0</td>\n",
       "      <td>[sugar, added sugar, disaccharide, palm oil, o...</td>\n",
       "    </tr>\n",
       "  </tbody>\n",
       "</table>\n",
       "</div>"
      ],
      "text/plain": [
       "              id                                   ingredients_tags  \\\n",
       "0  3274080005003                        [en:spring-water, en:water]   \n",
       "1  3017620422003  [en:sugar, en:added-sugar, en:disaccharide, en...   \n",
       "2  7622210449283  [en:cereal, en:sugar, en:added-sugar, en:disac...   \n",
       "3  5449000214911  [en:carbonated-water, en:water, en:sugar, en:a...   \n",
       "4  3017620425035  [en:sugar, en:added-sugar, en:disaccharide, en...   \n",
       "\n",
       "                                         labels_tags  Vegan  Vegetarian  \\\n",
       "0        [en:palm-oil-free, en:vegan, en:vegetarian]      1           1   \n",
       "1  [en:palm-oil, en:non-vegan, en:vegetarian-stat...      0           0   \n",
       "2  [en:palm-oil, en:non-vegan, en:vegetarian-stat...      0           0   \n",
       "3  [en:palm-oil-free, en:maybe-vegan, en:maybe-ve...      0           0   \n",
       "4  [en:palm-oil, en:non-vegan, en:vegetarian-stat...      0           0   \n",
       "\n",
       "                                 cleaned_ingredients  \n",
       "0                              [spring water, water]  \n",
       "1  [sugar, added sugar, disaccharide, palm oil, o...  \n",
       "2  [cereal, sugar, added sugar, disaccharide, pal...  \n",
       "3  [carbonated water, water, sugar, added sugar, ...  \n",
       "4  [sugar, added sugar, disaccharide, palm oil, o...  "
      ]
     },
     "execution_count": 62,
     "metadata": {},
     "output_type": "execute_result"
    }
   ],
   "source": [
    "df.head()"
   ]
  },
  {
   "cell_type": "code",
   "execution_count": 63,
   "metadata": {},
   "outputs": [
    {
     "data": {
      "text/plain": [
       "([('salt', 899),\n",
       "  ('vegetable', 821),\n",
       "  ('water', 761),\n",
       "  ('added sugar', 674),\n",
       "  ('disaccharide', 629),\n",
       "  ('oil and fat', 616),\n",
       "  ('vegetable oil and fat', 615),\n",
       "  ('sugar', 615),\n",
       "  ('fruit', 579),\n",
       "  ('vegetable oil', 536)],\n",
       " [('salt', 4482),\n",
       "  ('added sugar', 3957),\n",
       "  ('disaccharide', 3360),\n",
       "  ('sugar', 3326),\n",
       "  ('flavouring', 3269),\n",
       "  ('oil and fat', 3160),\n",
       "  ('dairy', 3011),\n",
       "  ('water', 2926),\n",
       "  ('vegetable oil and fat', 2817),\n",
       "  ('vegetable', 2423)],\n",
       " [('salt', 1292),\n",
       "  ('added sugar', 1008),\n",
       "  ('vegetable', 956),\n",
       "  ('disaccharide', 921),\n",
       "  ('water', 910),\n",
       "  ('sugar', 906),\n",
       "  ('oil and fat', 846),\n",
       "  ('vegetable oil and fat', 818),\n",
       "  ('cereal', 776),\n",
       "  ('fruit', 663)],\n",
       " [('salt', 4089),\n",
       "  ('added sugar', 3623),\n",
       "  ('flavouring', 3121),\n",
       "  ('disaccharide', 3068),\n",
       "  ('sugar', 3035),\n",
       "  ('oil and fat', 2930),\n",
       "  ('water', 2777),\n",
       "  ('vegetable oil and fat', 2614),\n",
       "  ('dairy', 2449),\n",
       "  ('vegetable', 2288)])"
      ]
     },
     "execution_count": 63,
     "metadata": {},
     "output_type": "execute_result"
    }
   ],
   "source": [
    "# Separate the dataset into vegan, non-vegan, vegetarian, and non-vegetarian groups\n",
    "vegan_products = df[df['Vegan'] == 1]['cleaned_ingredients']\n",
    "non_vegan_products = df[df['Vegan'] == 0]['cleaned_ingredients']\n",
    "vegetarian_products = df[df['Vegetarian'] == 1]['cleaned_ingredients']\n",
    "non_vegetarian_products = df[df['Vegetarian'] == 0]['cleaned_ingredients']\n",
    "\n",
    "# Function to count ingredient frequencies in a given dataset\n",
    "def count_ingredients(dataset):\n",
    "    all_ingredients = [ingredient for sublist in dataset for ingredient in sublist]\n",
    "    return Counter(all_ingredients)\n",
    "\n",
    "# Count the ingredient frequencies for each group\n",
    "vegan_ingredient_counts = count_ingredients(vegan_products)\n",
    "non_vegan_ingredient_counts = count_ingredients(non_vegan_products)\n",
    "vegetarian_ingredient_counts = count_ingredients(vegetarian_products)\n",
    "non_vegetarian_ingredient_counts = count_ingredients(non_vegetarian_products)\n",
    "\n",
    "# Display the most common ingredients in each group\n",
    "most_common_vegan = vegan_ingredient_counts.most_common(10)\n",
    "most_common_non_vegan = non_vegan_ingredient_counts.most_common(10)\n",
    "most_common_vegetarian = vegetarian_ingredient_counts.most_common(10)\n",
    "most_common_non_vegetarian = non_vegetarian_ingredient_counts.most_common(10)\n",
    "\n",
    "most_common_vegan, most_common_non_vegan, most_common_vegetarian, most_common_non_vegetarian\n"
   ]
  },
  {
   "cell_type": "markdown",
   "metadata": {},
   "source": [
    "The analysis of the most common ingredients in vegan, non-vegan, vegetarian, and non-vegetarian products yields interesting insights:\n",
    "\n",
    "### Vegan Products\n",
    "1. Salt\n",
    "2. Vegetable\n",
    "3. Water\n",
    "4. Added Sugar\n",
    "5. Disaccharide\n",
    "6. Oil and Fat\n",
    "7. Vegetable Oil and Fat\n",
    "8. Sugar\n",
    "9. Fruit\n",
    "10. Vegetable Oil\n",
    "\n",
    "### Non-Vegan Products\n",
    "1. Salt\n",
    "2. Added Sugar\n",
    "3. Disaccharide\n",
    "4. Sugar\n",
    "5. Flavouring\n",
    "6. Oil and Fat\n",
    "7. Dairy\n",
    "8. Water\n",
    "9. Vegetable Oil and Fat\n",
    "10. Vegetable\n",
    "\n",
    "### Vegetarian Products\n",
    "1. Salt\n",
    "2. Added Sugar\n",
    "3. Vegetable\n",
    "4. Disaccharide\n",
    "5. Water\n",
    "6. Sugar\n",
    "7. Oil and Fat\n",
    "8. Vegetable Oil and Fat\n",
    "9. Cereal\n",
    "10. Fruit\n",
    "\n",
    "### Non-Vegetarian Products\n",
    "1. Salt\n",
    "2. Added Sugar\n",
    "3. Flavouring\n",
    "4. Disaccharide\n",
    "5. Sugar\n",
    "6. Oil and Fat\n",
    "7. Water\n",
    "8. Vegetable Oil and Fat\n",
    "9. Dairy\n",
    "10. Vegetable\n",
    "\n",
    "### Observations:\n",
    "- **Common Ingredients**: Salt, added sugar, and various forms of fat and oil are common in all categories.\n",
    "- **Distinguishing Ingredients**: \n",
    "  - **Vegan**: Emphasizes 'fruit' and excludes 'dairy'.\n",
    "  - **Non-Vegan**: Includes 'dairy' and 'flavouring'.\n",
    "  - **Vegetarian**: Similar to vegan but includes 'cereal'.\n",
    "  - **Non-Vegetarian**: Similar to non-vegan, emphasizing 'flavouring' and 'dairy'."
   ]
  },
  {
   "cell_type": "code",
   "execution_count": 64,
   "metadata": {},
   "outputs": [
    {
     "data": {
      "text/plain": [
       "([(('added sugar', 'disaccharide'), 619),\n",
       "  (('oil and fat', 'vegetable oil and fat'), 613),\n",
       "  (('vegetable oil and fat', 'vegetable oil'), 488),\n",
       "  (('sugar', 'added sugar'), 456),\n",
       "  (('sunflower oil', 'oil and fat'), 298),\n",
       "  (('vegetable', 'fruit vegetable'), 224),\n",
       "  (('juice', 'fruit juice'), 223),\n",
       "  (('vegetable', 'legume'), 202),\n",
       "  (('vegetable', 'root vegetable'), 192),\n",
       "  (('legume', 'pulse'), 180)],\n",
       " [(('added sugar', 'disaccharide'), 3023),\n",
       "  (('oil and fat', 'vegetable oil and fat'), 2719),\n",
       "  (('sugar', 'added sugar'), 2582),\n",
       "  (('wheat', 'cereal flour'), 1682),\n",
       "  (('flour', 'wheat'), 1657),\n",
       "  (('cereal', 'flour'), 1588),\n",
       "  (('wheat flour', 'cereal'), 1448),\n",
       "  (('vegetable oil and fat', 'vegetable oil'), 1349),\n",
       "  (('monosaccharide', 'glucose'), 1227),\n",
       "  (('natural flavouring', 'flavouring'), 1156)],\n",
       " [(('added sugar', 'disaccharide'), 894),\n",
       "  (('oil and fat', 'vegetable oil and fat'), 808),\n",
       "  (('sugar', 'added sugar'), 646),\n",
       "  (('vegetable oil and fat', 'vegetable oil'), 584),\n",
       "  (('sunflower oil', 'oil and fat'), 363),\n",
       "  (('cereal', 'flour'), 330),\n",
       "  (('wheat', 'cereal flour'), 315),\n",
       "  (('flour', 'wheat'), 310),\n",
       "  (('dairy', 'milk'), 260),\n",
       "  (('juice', 'fruit juice'), 259)],\n",
       " [(('added sugar', 'disaccharide'), 2748),\n",
       "  (('oil and fat', 'vegetable oil and fat'), 2524),\n",
       "  (('sugar', 'added sugar'), 2392),\n",
       "  (('wheat', 'cereal flour'), 1514),\n",
       "  (('flour', 'wheat'), 1492),\n",
       "  (('cereal', 'flour'), 1427),\n",
       "  (('wheat flour', 'cereal'), 1306),\n",
       "  (('vegetable oil and fat', 'vegetable oil'), 1253),\n",
       "  (('monosaccharide', 'glucose'), 1184),\n",
       "  (('natural flavouring', 'flavouring'), 1122)])"
      ]
     },
     "execution_count": 64,
     "metadata": {},
     "output_type": "execute_result"
    }
   ],
   "source": [
    "from nltk.util import ngrams\n",
    "\n",
    "# Function to generate n-grams from a list of ingredients\n",
    "def generate_ngrams(ingredients_list, n=2):\n",
    "    n_grams = [ngram for sublist in ingredients_list for ngram in ngrams(sublist, n)]\n",
    "    return n_grams\n",
    "\n",
    "# Generate bi-grams for each category\n",
    "vegan_bigrams = generate_ngrams(vegan_products)\n",
    "non_vegan_bigrams = generate_ngrams(non_vegan_products)\n",
    "vegetarian_bigrams = generate_ngrams(vegetarian_products)\n",
    "non_vegetarian_bigrams = generate_ngrams(non_vegetarian_products)\n",
    "\n",
    "# Count the frequency of bi-grams in each category\n",
    "vegan_bigram_counts = Counter(vegan_bigrams)\n",
    "non_vegan_bigram_counts = Counter(non_vegan_bigrams)\n",
    "vegetarian_bigram_counts = Counter(vegetarian_bigrams)\n",
    "non_vegetarian_bigram_counts = Counter(non_vegetarian_bigrams)\n",
    "\n",
    "# Display the most common bi-grams in each category\n",
    "most_common_vegan_bigrams = vegan_bigram_counts.most_common(10)\n",
    "most_common_non_vegan_bigrams = non_vegan_bigram_counts.most_common(10)\n",
    "most_common_vegetarian_bigrams = vegetarian_bigram_counts.most_common(10)\n",
    "most_common_non_vegetarian_bigrams = non_vegetarian_bigram_counts.most_common(10)\n",
    "\n",
    "most_common_vegan_bigrams, most_common_non_vegan_bigrams, most_common_vegetarian_bigrams, most_common_non_vegetarian_bigrams"
   ]
  },
  {
   "cell_type": "markdown",
   "metadata": {},
   "source": [
    "### Steps for N-gram Analysis:\n",
    "1. **Generate N-grams**: We'll create bi-grams (pairs of ingredients) and possibly tri-grams (groups of three ingredients) from the `cleaned_ingredients` column.\n",
    "2. **Frequency Analysis**: Count the frequency of these N-grams in vegan, non-vegan, vegetarian, and non-vegetarian products.\n",
    "3. **Comparison**: Compare the most common N-grams across different categories to identify patterns.\n",
    "\n",
    "Let's start by generating and analyzing bi-grams for each category.\n",
    "\n",
    "The analysis of the most common bi-grams (pairs of ingredients) in vegan, non-vegan, vegetarian, and non-vegetarian products reveals the following patterns:\n",
    "\n",
    "### Vegan Products\n",
    "1. Added Sugar & Disaccharide\n",
    "2. Oil and Fat & Vegetable Oil and Fat\n",
    "3. Vegetable Oil and Fat & Vegetable Oil\n",
    "4. Sugar & Added Sugar\n",
    "5. Sunflower Oil & Oil and Fat\n",
    "6. Vegetable & Fruit Vegetable\n",
    "7. Juice & Fruit Juice\n",
    "8. Vegetable & Legume\n",
    "9. Vegetable & Root Vegetable\n",
    "10. Legume & Pulse\n",
    "\n",
    "### Non-Vegan Products\n",
    "1. Added Sugar & Disaccharide\n",
    "2. Oil and Fat & Vegetable Oil and Fat\n",
    "3. Sugar & Added Sugar\n",
    "4. Wheat & Cereal Flour\n",
    "5. Flour & Wheat\n",
    "6. Cereal & Flour\n",
    "7. Wheat Flour & Cereal\n",
    "8. Vegetable Oil and Fat & Vegetable Oil\n",
    "9. Monosaccharide & Glucose\n",
    "10. Natural Flavouring & Flavouring\n",
    "\n",
    "### Vegetarian Products\n",
    "1. Added Sugar & Disaccharide\n",
    "2. Oil and Fat & Vegetable Oil and Fat\n",
    "3. Sugar & Added Sugar\n",
    "4. Vegetable Oil and Fat & Vegetable Oil\n",
    "5. Sunflower Oil & Oil and Fat\n",
    "6. Cereal & Flour\n",
    "7. Wheat & Cereal Flour\n",
    "8. Flour & Wheat\n",
    "9. Dairy & Milk\n",
    "10. Juice & Fruit Juice\n",
    "\n",
    "### Non-Vegetarian Products\n",
    "1. Added Sugar & Disaccharide\n",
    "2. Oil and Fat & Vegetable Oil and Fat\n",
    "3. Sugar & Added Sugar\n",
    "4. Wheat & Cereal Flour\n",
    "5. Flour & Wheat\n",
    "6. Cereal & Flour\n",
    "7. Wheat Flour & Cereal\n",
    "8. Vegetable Oil and Fat & Vegetable Oil\n",
    "9. Monosaccharide & Glucose\n",
    "10. Natural Flavouring & Flavouring"
   ]
  },
  {
   "cell_type": "code",
   "execution_count": 65,
   "metadata": {},
   "outputs": [
    {
     "data": {
      "text/plain": [
       "{('added sugar', 'disaccharide'): {'Chi-Square Value': 62.62980513250667,\n",
       "  'p-Value': 2.4944971249522202e-15},\n",
       " ('oil and fat',\n",
       "  'vegetable oil and fat'): {'Chi-Square Value': 33.663906555209905, 'p-Value': 6.550489933208986e-09},\n",
       " ('vegetable', 'fruit vegetable'): {'Chi-Square Value': 2.669081218004293,\n",
       "  'p-Value': 0.10231507370219228},\n",
       " ('wheat', 'cereal flour'): {'Chi-Square Value': 69.09202114114504,\n",
       "  'p-Value': 9.397477595641078e-17},\n",
       " ('dairy', 'milk'): {'Chi-Square Value': 299.15783388390753,\n",
       "  'p-Value': 5.026339823925854e-67}}"
      ]
     },
     "execution_count": 65,
     "metadata": {},
     "output_type": "execute_result"
    }
   ],
   "source": [
    "from scipy.stats import chi2_contingency\n",
    "\n",
    "# Select a few bi-grams for testing\n",
    "selected_bigrams = [\n",
    "    ('added sugar', 'disaccharide'),\n",
    "    ('oil and fat', 'vegetable oil and fat'),\n",
    "    ('vegetable', 'fruit vegetable'),\n",
    "    ('wheat', 'cereal flour'),\n",
    "    ('dairy', 'milk')\n",
    "]\n",
    "\n",
    "# Function to create a contingency table for a given bi-gram\n",
    "def create_contingency_table(bigram, vegan_counts, non_vegan_counts, vegetarian_counts, non_vegetarian_counts):\n",
    "    vegan = vegan_counts[bigram]\n",
    "    non_vegan = non_vegan_counts[bigram]\n",
    "    vegetarian = vegetarian_counts[bigram]\n",
    "    non_vegetarian = non_vegetarian_counts[bigram]\n",
    "    return [[vegan, non_vegan], [vegetarian, non_vegetarian]]\n",
    "\n",
    "# Perform chi-square tests for each selected bi-gram\n",
    "chi_square_results = {}\n",
    "for bigram in selected_bigrams:\n",
    "    contingency_table = create_contingency_table(bigram, vegan_bigram_counts, non_vegan_bigram_counts, vegetarian_bigram_counts, non_vegetarian_bigram_counts)\n",
    "    chi2, p, dof, expected = chi2_contingency(contingency_table)\n",
    "    chi_square_results[bigram] = {'Chi-Square Value': chi2, 'p-Value': p}\n",
    "\n",
    "chi_square_results\n"
   ]
  },
  {
   "cell_type": "markdown",
   "metadata": {},
   "source": [
    "For the statistical analysis, we will use hypothesis testing to determine if the presence of certain bi-grams is significantly associated with vegan/vegetarian labels. This can be done using a chi-square test of independence. The idea is to see if the occurrence of specific bi-grams is independent of a product being vegan/vegetarian or not.\n",
    "\n",
    "### Steps for Statistical Testing:\n",
    "1. **Select Bi-grams for Testing**: Choose a few bi-grams that seem to be distinctly associated with vegan/vegetarian or non-vegan/non-vegetarian products based on the previous analysis.\n",
    "2. **Create Contingency Tables**: For each chosen bi-gram, create a contingency table comparing the frequency of the bi-gram in vegan/vegetarian and non-vegan/non-vegetarian products.\n",
    "3. **Chi-Square Test**: Perform the chi-square test on each contingency table to test for statistical significance.\n",
    "\n",
    "Let's start by selecting a few bi-grams for testing and creating contingency tables for each. We will then perform the chi-square tests.\n",
    "\n",
    "The chi-square test results for the selected bi-grams are as follows:\n",
    "\n",
    "1. **('Added Sugar', 'Disaccharide')**\n",
    "   - Chi-Square Value: 62.63\n",
    "   - p-Value: 2.49e-15\n",
    "\n",
    "2. **('Oil and Fat', 'Vegetable Oil and Fat')**\n",
    "   - Chi-Square Value: 33.66\n",
    "   - p-Value: 6.55e-09\n",
    "\n",
    "3. **('Vegetable', 'Fruit Vegetable')**\n",
    "   - Chi-Square Value: 2.67\n",
    "   - p-Value: 0.10\n",
    "\n",
    "4. **('Wheat', 'Cereal Flour')**\n",
    "   - Chi-Square Value: 69.09\n",
    "   - p-Value: 9.40e-17\n",
    "\n",
    "5. **('Dairy', 'Milk')**\n",
    "   - Chi-Square Value: 299.16\n",
    "   - p-Value: 5.03e-67\n",
    "\n",
    "### Interpretation:\n",
    "- **Significant Associations**: For the bi-grams ('Added Sugar', 'Disaccharide'), ('Oil and Fat', 'Vegetable Oil and Fat'), ('Wheat', 'Cereal Flour'), and ('Dairy', 'Milk'), the p-values are very low (less than 0.05), indicating that these bi-grams are significantly associated with the product's vegan/vegetarian status.\n",
    "- **Non-Significant Association**: The bi-gram ('Vegetable', 'Fruit Vegetable') does not show a significant association (p-value > 0.05).\n",
    "\n",
    "### Conclusion:\n",
    "The significant associations suggest that certain combinations of ingredients are strong indicators of whether a product is likely to be vegan/vegetarian or not. These findings can be very useful in developing a predictive model for classifying products based on their ingredients."
   ]
  },
  {
   "cell_type": "code",
   "execution_count": 85,
   "metadata": {},
   "outputs": [],
   "source": [
    "from gensim.models import Word2Vec\n",
    "import numpy as np\n",
    "from sklearn.manifold import TSNE\n",
    "import seaborn as sns\n",
    "import matplotlib.patches as patches\n",
    "import ast"
   ]
  },
  {
   "cell_type": "code",
   "execution_count": 71,
   "metadata": {},
   "outputs": [],
   "source": [
    "categories = ['Vegan', 'Vegetarian', 'Non-Vegan', 'Non-Vegetarian']"
   ]
  },
  {
   "cell_type": "code",
   "execution_count": 92,
   "metadata": {},
   "outputs": [
    {
     "data": {
      "text/plain": [
       "10095"
      ]
     },
     "execution_count": 92,
     "metadata": {},
     "output_type": "execute_result"
    }
   ],
   "source": [
    "ingredients = set()\n",
    "\n",
    "for prod in df['cleaned_ingredients'].tolist():\n",
    "    ingredients.update(set([str(x.split(':')[-1]) for x in prod]))\n",
    "    \n",
    "len(ingredients)"
   ]
  },
  {
   "cell_type": "code",
   "execution_count": 94,
   "metadata": {},
   "outputs": [],
   "source": [
    "# model = Word2Vec(sentences=ingredients, vector_size=len(ingredients), window=5, min_count=1, workers=4)\n",
    "\n",
    "# # Save the Word2Vec model\n",
    "# model.save('ingredients2vec.model')"
   ]
  },
  {
   "cell_type": "code",
   "execution_count": 95,
   "metadata": {},
   "outputs": [],
   "source": [
    "model = Word2Vec.load('ingredients2vec.model')"
   ]
  },
  {
   "cell_type": "code",
   "execution_count": null,
   "metadata": {},
   "outputs": [],
   "source": [
    "def product_embedding(ingredients):\n",
    "    valid_ingredients = [ingredient for ingredient in ingredients if ingredient in model.wv]\n",
    "    if not valid_ingredients:\n",
    "        return np.zeros(model.vector_size)\n",
    "    return np.mean([model.wv[ingredient] for ingredient in valid_ingredients], axis=0)"
   ]
  },
  {
   "cell_type": "code",
   "execution_count": 97,
   "metadata": {},
   "outputs": [],
   "source": [
    "product_embeddings = df['cleaned_ingredients'].apply(product_embedding)\n",
    "\n",
    "embedding_matrix = np.array(product_embeddings.tolist())"
   ]
  },
  {
   "cell_type": "code",
   "execution_count": 153,
   "metadata": {},
   "outputs": [
    {
     "data": {
      "text/html": [
       "<div>\n",
       "<style scoped>\n",
       "    .dataframe tbody tr th:only-of-type {\n",
       "        vertical-align: middle;\n",
       "    }\n",
       "\n",
       "    .dataframe tbody tr th {\n",
       "        vertical-align: top;\n",
       "    }\n",
       "\n",
       "    .dataframe thead th {\n",
       "        text-align: right;\n",
       "    }\n",
       "</style>\n",
       "<table border=\"1\" class=\"dataframe\">\n",
       "  <thead>\n",
       "    <tr style=\"text-align: right;\">\n",
       "      <th></th>\n",
       "      <th>id</th>\n",
       "      <th>ingredients_tags</th>\n",
       "      <th>labels_tags</th>\n",
       "      <th>Vegan</th>\n",
       "      <th>Vegetarian</th>\n",
       "      <th>cleaned_ingredients</th>\n",
       "      <th>clean_labels_tags</th>\n",
       "    </tr>\n",
       "  </thead>\n",
       "  <tbody>\n",
       "    <tr>\n",
       "      <th>0</th>\n",
       "      <td>3274080005003</td>\n",
       "      <td>[en:spring-water, en:water]</td>\n",
       "      <td>[en:palm-oil-free, en:vegan, en:vegetarian]</td>\n",
       "      <td>1</td>\n",
       "      <td>1</td>\n",
       "      <td>[spring water, water]</td>\n",
       "      <td>NaN</td>\n",
       "    </tr>\n",
       "    <tr>\n",
       "      <th>1</th>\n",
       "      <td>3017620422003</td>\n",
       "      <td>[en:sugar, en:added-sugar, en:disaccharide, en...</td>\n",
       "      <td>[en:palm-oil, en:non-vegan, en:vegetarian-stat...</td>\n",
       "      <td>0</td>\n",
       "      <td>0</td>\n",
       "      <td>[sugar, added sugar, disaccharide, palm oil, o...</td>\n",
       "      <td>NaN</td>\n",
       "    </tr>\n",
       "    <tr>\n",
       "      <th>2</th>\n",
       "      <td>7622210449283</td>\n",
       "      <td>[en:cereal, en:sugar, en:added-sugar, en:disac...</td>\n",
       "      <td>[en:palm-oil, en:non-vegan, en:vegetarian-stat...</td>\n",
       "      <td>0</td>\n",
       "      <td>0</td>\n",
       "      <td>[cereal, sugar, added sugar, disaccharide, pal...</td>\n",
       "      <td>NaN</td>\n",
       "    </tr>\n",
       "    <tr>\n",
       "      <th>3</th>\n",
       "      <td>5449000214911</td>\n",
       "      <td>[en:carbonated-water, en:water, en:sugar, en:a...</td>\n",
       "      <td>[en:palm-oil-free, en:maybe-vegan, en:maybe-ve...</td>\n",
       "      <td>0</td>\n",
       "      <td>0</td>\n",
       "      <td>[carbonated water, water, sugar, added sugar, ...</td>\n",
       "      <td>NaN</td>\n",
       "    </tr>\n",
       "    <tr>\n",
       "      <th>4</th>\n",
       "      <td>3017620425035</td>\n",
       "      <td>[en:sugar, en:added-sugar, en:disaccharide, en...</td>\n",
       "      <td>[en:palm-oil, en:non-vegan, en:vegetarian-stat...</td>\n",
       "      <td>0</td>\n",
       "      <td>0</td>\n",
       "      <td>[sugar, added sugar, disaccharide, palm oil, o...</td>\n",
       "      <td>NaN</td>\n",
       "    </tr>\n",
       "    <tr>\n",
       "      <th>...</th>\n",
       "      <td>...</td>\n",
       "      <td>...</td>\n",
       "      <td>...</td>\n",
       "      <td>...</td>\n",
       "      <td>...</td>\n",
       "      <td>...</td>\n",
       "      <td>...</td>\n",
       "    </tr>\n",
       "    <tr>\n",
       "      <th>9944</th>\n",
       "      <td>3456300004397</td>\n",
       "      <td>[fr:sauce-tomate-cuisinee-au-soja-et-au-basili...</td>\n",
       "      <td>[en:palm-oil-free, en:vegan, en:vegetarian]</td>\n",
       "      <td>1</td>\n",
       "      <td>1</td>\n",
       "      <td>[fr:sauce tomate cuisinee au soja et au basili...</td>\n",
       "      <td>NaN</td>\n",
       "    </tr>\n",
       "    <tr>\n",
       "      <th>9945</th>\n",
       "      <td>3456777780565</td>\n",
       "      <td>None</td>\n",
       "      <td>None</td>\n",
       "      <td>0</td>\n",
       "      <td>0</td>\n",
       "      <td>[]</td>\n",
       "      <td>NaN</td>\n",
       "    </tr>\n",
       "    <tr>\n",
       "      <th>9946</th>\n",
       "      <td>3459860000670</td>\n",
       "      <td>[en:poultry, en:mechanically-separated-meat, e...</td>\n",
       "      <td>[en:palm-oil-free, en:non-vegan, en:non-vegeta...</td>\n",
       "      <td>0</td>\n",
       "      <td>0</td>\n",
       "      <td>[poultry, mechanically separated meat, meat, w...</td>\n",
       "      <td>NaN</td>\n",
       "    </tr>\n",
       "    <tr>\n",
       "      <th>9947</th>\n",
       "      <td>3459860004364</td>\n",
       "      <td>[en:poultry-meat, en:poultry, en:water, en:mec...</td>\n",
       "      <td>[en:palm-oil-free, en:non-vegan, en:non-vegeta...</td>\n",
       "      <td>0</td>\n",
       "      <td>0</td>\n",
       "      <td>[poultry meat, poultry, water, mechanically se...</td>\n",
       "      <td>NaN</td>\n",
       "    </tr>\n",
       "    <tr>\n",
       "      <th>9948</th>\n",
       "      <td>3459860004852</td>\n",
       "      <td>[en:turkey-meat, en:poultry, en:turkey, en:sal...</td>\n",
       "      <td>[en:palm-oil-free, en:non-vegan, en:non-vegeta...</td>\n",
       "      <td>0</td>\n",
       "      <td>0</td>\n",
       "      <td>[turkey meat, poultry, turkey, salt, preservat...</td>\n",
       "      <td>NaN</td>\n",
       "    </tr>\n",
       "  </tbody>\n",
       "</table>\n",
       "<p>9949 rows × 7 columns</p>\n",
       "</div>"
      ],
      "text/plain": [
       "                 id                                   ingredients_tags  \\\n",
       "0     3274080005003                        [en:spring-water, en:water]   \n",
       "1     3017620422003  [en:sugar, en:added-sugar, en:disaccharide, en...   \n",
       "2     7622210449283  [en:cereal, en:sugar, en:added-sugar, en:disac...   \n",
       "3     5449000214911  [en:carbonated-water, en:water, en:sugar, en:a...   \n",
       "4     3017620425035  [en:sugar, en:added-sugar, en:disaccharide, en...   \n",
       "...             ...                                                ...   \n",
       "9944  3456300004397  [fr:sauce-tomate-cuisinee-au-soja-et-au-basili...   \n",
       "9945  3456777780565                                               None   \n",
       "9946  3459860000670  [en:poultry, en:mechanically-separated-meat, e...   \n",
       "9947  3459860004364  [en:poultry-meat, en:poultry, en:water, en:mec...   \n",
       "9948  3459860004852  [en:turkey-meat, en:poultry, en:turkey, en:sal...   \n",
       "\n",
       "                                            labels_tags  Vegan  Vegetarian  \\\n",
       "0           [en:palm-oil-free, en:vegan, en:vegetarian]      1           1   \n",
       "1     [en:palm-oil, en:non-vegan, en:vegetarian-stat...      0           0   \n",
       "2     [en:palm-oil, en:non-vegan, en:vegetarian-stat...      0           0   \n",
       "3     [en:palm-oil-free, en:maybe-vegan, en:maybe-ve...      0           0   \n",
       "4     [en:palm-oil, en:non-vegan, en:vegetarian-stat...      0           0   \n",
       "...                                                 ...    ...         ...   \n",
       "9944        [en:palm-oil-free, en:vegan, en:vegetarian]      1           1   \n",
       "9945                                               None      0           0   \n",
       "9946  [en:palm-oil-free, en:non-vegan, en:non-vegeta...      0           0   \n",
       "9947  [en:palm-oil-free, en:non-vegan, en:non-vegeta...      0           0   \n",
       "9948  [en:palm-oil-free, en:non-vegan, en:non-vegeta...      0           0   \n",
       "\n",
       "                                    cleaned_ingredients  clean_labels_tags  \n",
       "0                                 [spring water, water]                NaN  \n",
       "1     [sugar, added sugar, disaccharide, palm oil, o...                NaN  \n",
       "2     [cereal, sugar, added sugar, disaccharide, pal...                NaN  \n",
       "3     [carbonated water, water, sugar, added sugar, ...                NaN  \n",
       "4     [sugar, added sugar, disaccharide, palm oil, o...                NaN  \n",
       "...                                                 ...                ...  \n",
       "9944  [fr:sauce tomate cuisinee au soja et au basili...                NaN  \n",
       "9945                                                 []                NaN  \n",
       "9946  [poultry, mechanically separated meat, meat, w...                NaN  \n",
       "9947  [poultry meat, poultry, water, mechanically se...                NaN  \n",
       "9948  [turkey meat, poultry, turkey, salt, preservat...                NaN  \n",
       "\n",
       "[9949 rows x 7 columns]"
      ]
     },
     "execution_count": 153,
     "metadata": {},
     "output_type": "execute_result"
    }
   ],
   "source": [
    "df"
   ]
  },
  {
   "cell_type": "code",
   "execution_count": 109,
   "metadata": {},
   "outputs": [],
   "source": [
    "labels_tags = [\n",
    "    'vegan',\n",
    "    'non vegan',\n",
    "    'vegetarian',\n",
    "    'non vegetarian'\n",
    "]"
   ]
  },
  {
   "cell_type": "code",
   "execution_count": 133,
   "metadata": {},
   "outputs": [
    {
     "name": "stderr",
     "output_type": "stream",
     "text": [
      "/Users/steven/opt/miniconda3/lib/python3.9/site-packages/sklearn/manifold/_t_sne.py:800: FutureWarning: The default initialization in TSNE will change from 'random' to 'pca' in 1.2.\n",
      "  warnings.warn(\n",
      "/Users/steven/opt/miniconda3/lib/python3.9/site-packages/sklearn/manifold/_t_sne.py:810: FutureWarning: The default learning rate in TSNE will change from 200.0 to 'auto' in 1.2.\n",
      "  warnings.warn(\n"
     ]
    }
   ],
   "source": [
    "tsne = TSNE(n_components=2, random_state=1236)\n",
    "reduced_embeddings = tsne.fit_transform(embedding_matrix)"
   ]
  },
  {
   "cell_type": "code",
   "execution_count": 134,
   "metadata": {},
   "outputs": [
    {
     "name": "stderr",
     "output_type": "stream",
     "text": [
      "100%|██████████| 4/4 [00:00<00:00, 31.18it/s]\n"
     ]
    },
    {
     "name": "stdout",
     "output_type": "stream",
     "text": [
      "0.8268927\n",
      "0.8268927\n",
      "0.8268927\n",
      "0.8268927\n"
     ]
    },
    {
     "data": {
      "image/png": "[encoded data removed]",
      "text/plain": [
       "<Figure size 1200x800 with 1 Axes>"
      ]
     },
     "metadata": {},
     "output_type": "display_data"
    }
   ],
   "source": [
    "plt.figure(figsize=(12, 8))\n",
    "for category in tqdm(labels_tags):\n",
    "    indices = df[df['clean_labels_tags'].apply(lambda x: category in x)].index\n",
    "    print(np.std(reduced_embeddings))\n",
    "    plt.scatter(reduced_embeddings[indices, 0], reduced_embeddings[indices, 1], alpha=1, label=category)\n",
    "\n",
    "plt.title('Product Embeddings Visualized with TSNE')\n",
    "plt.xlabel('TSNE Component 1')\n",
    "plt.ylabel('TSNE Component 2')\n",
    "plt.legend()\n",
    "plt.show()"
   ]
  },
  {
   "cell_type": "code",
   "execution_count": null,
   "metadata": {},
   "outputs": [],
   "source": [
    "from sklearn.decomposition import PCA"
   ]
  },
  {
   "cell_type": "code",
   "execution_count": 146,
   "metadata": {},
   "outputs": [],
   "source": [
    "pca = PCA(n_components=2, random_state=1236)\n",
    "reduced_embeddings = pca.fit_transform(embedding_matrix)"
   ]
  },
  {
   "cell_type": "code",
   "execution_count": 155,
   "metadata": {},
   "outputs": [
    {
     "name": "stderr",
     "output_type": "stream",
     "text": [
      "  0%|          | 0/4 [00:00<?, ?it/s]"
     ]
    },
    {
     "name": "stderr",
     "output_type": "stream",
     "text": [
      "100%|██████████| 4/4 [00:00<00:00, 42.15it/s]\n"
     ]
    },
    {
     "name": "stdout",
     "output_type": "stream",
     "text": [
      "0.04255533751148956\n",
      "0.04255533751148956\n",
      "0.04255533751148956\n",
      "0.04255533751148956\n"
     ]
    },
    {
     "data": {
      "image/png": "[encoded data removed]",
      "text/plain": [
       "<Figure size 1200x800 with 1 Axes>"
      ]
     },
     "metadata": {},
     "output_type": "display_data"
    }
   ],
   "source": [
    "plt.figure(figsize=(12, 8))\n",
    "for category in tqdm(labels_tags):\n",
    "    indices = df[df['clean_labels_tags'].apply(lambda x: category in x)].index\n",
    "    print(np.std(reduced_embeddings))\n",
    "    plt.scatter(reduced_embeddings[indices, 0], reduced_embeddings[indices, 1], alpha=1, label=category)\n",
    "\n",
    "plt.title('Product Embeddings Visualized with PCA')\n",
    "plt.xlabel('PCA Component 1')\n",
    "plt.ylabel('PCA Component 2')\n",
    "plt.legend()\n",
    "plt.show()"
   ]
  },
  {
   "cell_type": "markdown",
   "metadata": {},
   "source": [
    "Here's the visualization of Word2Vec ingredient embeddings using TSNE reduction. This scatter plot shows how different ingredients are positioned relative to each other in a reduced 2-dimensional space. Each point represents an ingredient, and ingredients that are closer together in this space are more similar in the context of the recipes.\n",
    "\n",
    "### Interpretation:\n",
    "- Ingredients clustered together likely share similar contexts in recipes.\n",
    "- This visualization can help in understanding ingredient relationships and possibly in predicting ingredient substitutions or complementarity."
   ]
  },
  {
   "cell_type": "code",
   "execution_count": 81,
   "metadata": {},
   "outputs": [],
   "source": [
    "# df.to_csv('data.csv', index=False)"
   ]
  },
  {
   "cell_type": "code",
   "execution_count": 148,
   "metadata": {},
   "outputs": [],
   "source": [
    "from sklearn.model_selection import train_test_split\n",
    "from sklearn.metrics.pairwise import cosine_similarity\n",
    "from collections import Counter"
   ]
  },
  {
   "cell_type": "code",
   "execution_count": 157,
   "metadata": {},
   "outputs": [
    {
     "data": {
      "text/plain": [
       "((4015, 7), (1004, 7))"
      ]
     },
     "execution_count": 157,
     "metadata": {},
     "output_type": "execute_result"
    }
   ],
   "source": [
    "vegan_class = ['vegan', 'non vegan']\n",
    "vegetarian_class = ['vegetarian', 'non vegetarian']\n",
    "\n",
    "specific_class_df = df[df['clean_labels_tags'].apply(\n",
    "    lambda x: \n",
    "        any(category in x for category in vegan_class) and any(category in x for category in vegetarian_class)\n",
    "    )]\n",
    "\n",
    "train_df, test_df = train_test_split(specific_class_df, test_size=0.2, random_state=42)\n",
    "\n",
    "train_embeddings = np.array(train_df['cleaned_ingredients'].apply(product_embedding).tolist())\n",
    "test_embeddings = np.array(test_df['cleaned_ingredients'].apply(product_embedding).tolist())\n",
    "\n",
    "train_df.shape, test_df.shape"
   ]
  },
  {
   "cell_type": "code",
   "execution_count": null,
   "metadata": {},
   "outputs": [],
   "source": [
    "from itertools import chain"
   ]
  },
  {
   "cell_type": "code",
   "execution_count": 168,
   "metadata": {},
   "outputs": [
    {
     "name": "stderr",
     "output_type": "stream",
     "text": [
      "Assigning Classes:   0%|          | 0/1004 [00:00<?, ?it/s]"
     ]
    },
    {
     "name": "stderr",
     "output_type": "stream",
     "text": [
      "Assigning Classes: 100%|██████████| 1004/1004 [04:14<00:00,  3.95it/s]\n"
     ]
    },
    {
     "data": {
      "text/html": [
       "<div>\n",
       "<style scoped>\n",
       "    .dataframe tbody tr th:only-of-type {\n",
       "        vertical-align: middle;\n",
       "    }\n",
       "\n",
       "    .dataframe tbody tr th {\n",
       "        vertical-align: top;\n",
       "    }\n",
       "\n",
       "    .dataframe thead th {\n",
       "        text-align: right;\n",
       "    }\n",
       "</style>\n",
       "<table border=\"1\" class=\"dataframe\">\n",
       "  <thead>\n",
       "    <tr style=\"text-align: right;\">\n",
       "      <th></th>\n",
       "      <th>clean_labels_tags</th>\n",
       "      <th>assigned_primary</th>\n",
       "      <th>assigned_secondary</th>\n",
       "    </tr>\n",
       "  </thead>\n",
       "  <tbody>\n",
       "    <tr>\n",
       "      <th>4993</th>\n",
       "      <td>[palm oil free, non vegan, non vegetarian]</td>\n",
       "      <td>vegan</td>\n",
       "      <td>vegetarian</td>\n",
       "    </tr>\n",
       "    <tr>\n",
       "      <th>5744</th>\n",
       "      <td>[palm oil content unknown, non vegan, non vege...</td>\n",
       "      <td>vegan</td>\n",
       "      <td>vegetarian</td>\n",
       "    </tr>\n",
       "    <tr>\n",
       "      <th>8574</th>\n",
       "      <td>[palm oil content unknown, vegan, vegetarian]</td>\n",
       "      <td>vegan</td>\n",
       "      <td>vegetarian</td>\n",
       "    </tr>\n",
       "    <tr>\n",
       "      <th>4585</th>\n",
       "      <td>[palm oil free, vegan, vegetarian]</td>\n",
       "      <td>vegan</td>\n",
       "      <td>vegetarian</td>\n",
       "    </tr>\n",
       "    <tr>\n",
       "      <th>2275</th>\n",
       "      <td>[palm oil free, non vegan, non vegetarian]</td>\n",
       "      <td>vegan</td>\n",
       "      <td>vegetarian</td>\n",
       "    </tr>\n",
       "  </tbody>\n",
       "</table>\n",
       "</div>"
      ],
      "text/plain": [
       "                                      clean_labels_tags assigned_primary  \\\n",
       "4993         [palm oil free, non vegan, non vegetarian]            vegan   \n",
       "5744  [palm oil content unknown, non vegan, non vege...            vegan   \n",
       "8574      [palm oil content unknown, vegan, vegetarian]            vegan   \n",
       "4585                 [palm oil free, vegan, vegetarian]            vegan   \n",
       "2275         [palm oil free, non vegan, non vegetarian]            vegan   \n",
       "\n",
       "     assigned_secondary  \n",
       "4993         vegetarian  \n",
       "5744         vegetarian  \n",
       "8574         vegetarian  \n",
       "4585         vegetarian  \n",
       "2275         vegetarian  "
      ]
     },
     "execution_count": 168,
     "metadata": {},
     "output_type": "execute_result"
    }
   ],
   "source": [
    "def assign_dual_class_based_on_neighbors_flat_lists(test_embeddings, train_embeddings, train_labels, primary_classes, secondary_classes, k=15):\n",
    "    \"\"\"\n",
    "    Assign a dual class (primary and secondary) to each test product based on the k closest neighbors in the training set.\n",
    "    This function is designed to handle flat lists (or arrays) of embeddings for efficiency.\n",
    "    \"\"\"\n",
    "    assigned_primary = []\n",
    "    assigned_secondary = []\n",
    "\n",
    "    # Iterate over test embeddings\n",
    "    for test_embedding in tqdm(test_embeddings, desc=\"Assigning Classes\"):\n",
    "        # Compute cosine similarities between the test product and all train products\n",
    "        similarities = cosine_similarity([test_embedding], train_embeddings)[0]\n",
    "\n",
    "        # Get the indices of the k closest neighbors\n",
    "        neighbors_indices = similarities.argsort()[-k:][::-1]\n",
    "\n",
    "        # Get the class labels of these neighbors\n",
    "        neighbor_labels = train_labels.iloc[neighbors_indices]\n",
    "        flat_neighbor_labels = list(chain.from_iterable(neighbor_labels))\n",
    "\n",
    "        # Assign primary class (vegan/non-vegan)\n",
    "        primary_neighbor_labels = [label for label in flat_neighbor_labels if label in primary_classes]\n",
    "        primary_class = Counter(primary_neighbor_labels).most_common(1)[0][0]\n",
    "\n",
    "        # Assign secondary class (vegetarian/non-vegetarian)\n",
    "        secondary_neighbor_labels = [label for label in flat_neighbor_labels if label in secondary_classes]\n",
    "        secondary_class = Counter(secondary_neighbor_labels).most_common(1)[0][0]\n",
    "\n",
    "        # Append results\n",
    "        assigned_primary.append(primary_class)\n",
    "        assigned_secondary.append(secondary_class)\n",
    "\n",
    "    return assigned_primary, assigned_secondary\n",
    "\n",
    "\n",
    "# Define primary and secondary classes\n",
    "primary_classes = ['vegan', 'non vegan']\n",
    "secondary_classes = ['vegetarian', 'non vegetarian']\n",
    "\n",
    "# Now applying the function to the entire test dataset\n",
    "test_primary, test_secondary = assign_dual_class_based_on_neighbors_flat_lists(\n",
    "    test_embeddings,\n",
    "    train_embeddings,\n",
    "    train_df['clean_labels_tags'],\n",
    "    primary_classes,\n",
    "    secondary_classes,\n",
    "    k=15\n",
    ")\n",
    "\n",
    "# Assigning the results back to the test dataframe\n",
    "test_df['assigned_primary'] = test_primary\n",
    "test_df['assigned_secondary'] = test_secondary\n",
    "\n",
    "# Display the first few rows of the test set with the assigned labels\n",
    "test_df[['clean_labels_tags', 'assigned_primary', 'assigned_secondary']].head()"
   ]
  },
  {
   "cell_type": "code",
   "execution_count": 169,
   "metadata": {},
   "outputs": [],
   "source": [
    "from sklearn.metrics import accuracy_score, precision_score, recall_score, f1_score"
   ]
  },
  {
   "cell_type": "code",
   "execution_count": 170,
   "metadata": {},
   "outputs": [
    {
     "name": "stderr",
     "output_type": "stream",
     "text": [
      "/Users/steven/opt/miniconda3/lib/python3.9/site-packages/sklearn/metrics/_classification.py:1334: UndefinedMetricWarning: Precision is ill-defined and being set to 0.0 in labels with no predicted samples. Use `zero_division` parameter to control this behavior.\n",
      "  _warn_prf(average, modifier, msg_start, len(result))\n"
     ]
    },
    {
     "data": {
      "text/plain": [
       "{'Accuracy': 0.4531872509960159,\n",
       " 'Precision': 0.20537868446532595,\n",
       " 'Recall': 0.4531872509960159,\n",
       " 'F1 Score': 0.2826596287912093}"
      ]
     },
     "execution_count": 170,
     "metadata": {},
     "output_type": "execute_result"
    }
   ],
   "source": [
    "def split_composite_label(label):\n",
    "    primary = 'vegan' if 'vegan' in label else 'non-vegan'\n",
    "    secondary = 'vegetarian' if 'vegetarian' in label else 'non-vegetarian'\n",
    "    return primary, secondary\n",
    "\n",
    "true_primary, true_secondary = zip(*test_df['clean_labels_tags'].apply(split_composite_label))\n",
    "\n",
    "# Calculate performance metrics for primary class\n",
    "primary_accuracy = accuracy_score(true_primary, test_df['assigned_primary'])\n",
    "primary_precision = precision_score(true_primary, test_df['assigned_primary'], average='weighted')\n",
    "primary_recall = recall_score(true_primary, test_df['assigned_primary'], average='weighted')\n",
    "primary_f1 = f1_score(true_primary, test_df['assigned_primary'], average='weighted')\n",
    "\n",
    "primary_metrics = {\n",
    "    \"Accuracy\": primary_accuracy,\n",
    "    \"Precision\": primary_precision,\n",
    "    \"Recall\": primary_recall,\n",
    "    \"F1 Score\": primary_f1\n",
    "}\n",
    "\n",
    "primary_metrics"
   ]
  },
  {
   "cell_type": "code",
   "execution_count": 171,
   "metadata": {},
   "outputs": [
    {
     "name": "stderr",
     "output_type": "stream",
     "text": [
      "/Users/steven/opt/miniconda3/lib/python3.9/site-packages/sklearn/metrics/_classification.py:1334: UndefinedMetricWarning: Precision is ill-defined and being set to 0.0 in labels with no predicted samples. Use `zero_division` parameter to control this behavior.\n",
      "  _warn_prf(average, modifier, msg_start, len(result))\n"
     ]
    },
    {
     "data": {
      "text/plain": [
       "{'Accuracy': 0.6045816733067729,\n",
       " 'Precision': 0.3655189996984175,\n",
       " 'Recall': 0.6045816733067729,\n",
       " 'F1 Score': 0.4555941349437755}"
      ]
     },
     "execution_count": 171,
     "metadata": {},
     "output_type": "execute_result"
    }
   ],
   "source": [
    "# Calculate performance metrics for secondary class\n",
    "secondary_accuracy = accuracy_score(true_secondary, test_df['assigned_secondary'])\n",
    "secondary_precision = precision_score(true_secondary, test_df['assigned_secondary'], average='weighted')\n",
    "secondary_recall = recall_score(true_secondary, test_df['assigned_secondary'], average='weighted')\n",
    "secondary_f1 = f1_score(true_secondary, test_df['assigned_secondary'], average='weighted')\n",
    "\n",
    "\n",
    "secondary_metrics = {\n",
    "    \"Accuracy\": secondary_accuracy,\n",
    "    \"Precision\": secondary_precision,\n",
    "    \"Recall\": secondary_recall,\n",
    "    \"F1 Score\": secondary_f1\n",
    "}\n",
    "\n",
    "secondary_metrics"
   ]
  },
  {
   "cell_type": "code",
   "execution_count": null,
   "metadata": {},
   "outputs": [],
   "source": [
    "vegan_class = ['vegan', 'non vegan']\n",
    "vegetarian_class = ['vegetarian', 'non vegetarian']\n",
    "\n",
    "specific_class_df2 = df[df['clean_labels_tags'].apply(\n",
    "    lambda x: \n",
    "        any(category in x for category in vegan_class) or any(category in x for category in vegetarian_class)\n",
    "    )]\n",
    "\n",
    "known_embeddings = np.array(specific_class_df['cleaned_ingredients'].apply(product_embedding).tolist())\n",
    "\n",
    "predict_embeddings = np.array(specific_class_df2['cleaned_ingredients'].apply(product_embedding).tolist())\n",
    "\n",
    "known_embeddings.shape, predict_embeddings.shape"
   ]
  },
  {
   "cell_type": "code",
   "execution_count": null,
   "metadata": {},
   "outputs": [],
   "source": [
    "# Define primary and secondary classes\n",
    "primary_classes = ['vegan', 'non vegan']\n",
    "secondary_classes = ['vegetarian', 'non vegetarian']\n",
    "\n",
    "# Now applying the function to the entire test dataset\n",
    "test_primary, test_secondary = assign_dual_class_based_on_neighbors_flat_lists(\n",
    "    predict_embeddings,\n",
    "    known_embeddings,\n",
    "    specific_class_df['clean_labels_tags'],\n",
    "    primary_classes,\n",
    "    secondary_classes,\n",
    "    k=15\n",
    ")\n",
    "\n",
    "# Assigning the results back to the test dataframe\n",
    "df['assigned_primary'] = test_primary if 'vegan' not in df['clean_labels_tags'] and 'non vegan' not in df['clean_labels_tags'] else None\n",
    "df['assigned_secondary'] = test_secondary if 'vegetarian' not in df['clean_labels_tags'] and 'non vegetarian' not in df['clean_labels_tags'] else None\n",
    "\n",
    "# Display the first few rows of the test set with the assigned labels\n",
    "test_df[['clean_labels_tags', 'assigned_primary', 'assigned_secondary']].head()\n",
    "# Display the first few rows of the subset of unlabeled products with the predicted labels\n",
    "df[['cleaned_ingredients', 'predicted_primary', 'predicted_secondary']].head()\n"
   ]
  },
  {
   "cell_type": "code",
   "execution_count": null,
   "metadata": {},
   "outputs": [],
   "source": []
  },
  {
   "cell_type": "code",
   "execution_count": 172,
   "metadata": {},
   "outputs": [
    {
     "data": {
      "text/html": [
       "<div>\n",
       "<style scoped>\n",
       "    .dataframe tbody tr th:only-of-type {\n",
       "        vertical-align: middle;\n",
       "    }\n",
       "\n",
       "    .dataframe tbody tr th {\n",
       "        vertical-align: top;\n",
       "    }\n",
       "\n",
       "    .dataframe thead th {\n",
       "        text-align: right;\n",
       "    }\n",
       "</style>\n",
       "<table border=\"1\" class=\"dataframe\">\n",
       "  <thead>\n",
       "    <tr style=\"text-align: right;\">\n",
       "      <th></th>\n",
       "      <th>id</th>\n",
       "      <th>ingredients_tags</th>\n",
       "      <th>labels_tags</th>\n",
       "      <th>Vegan</th>\n",
       "      <th>Vegetarian</th>\n",
       "      <th>cleaned_ingredients</th>\n",
       "      <th>clean_labels_tags</th>\n",
       "    </tr>\n",
       "  </thead>\n",
       "  <tbody>\n",
       "    <tr>\n",
       "      <th>7769</th>\n",
       "      <td>3280220923007</td>\n",
       "      <td>[en:mint, en:herb]</td>\n",
       "      <td>[en:palm-oil-free, en:vegan, en:vegetarian]</td>\n",
       "      <td>1</td>\n",
       "      <td>1</td>\n",
       "      <td>[mint, herb]</td>\n",
       "      <td>[palm oil free, vegan, vegetarian]</td>\n",
       "    </tr>\n",
       "    <tr>\n",
       "      <th>7608</th>\n",
       "      <td>3245390207456</td>\n",
       "      <td>[fr:lentilles-vertes-du-puy, en:vegetable, en:...</td>\n",
       "      <td>[en:may-contain-palm-oil, en:non-vegan, en:non...</td>\n",
       "      <td>0</td>\n",
       "      <td>0</td>\n",
       "      <td>[fr:lentilles vertes du puy, vegetable, legume...</td>\n",
       "      <td>[may contain palm oil, non vegan, non vegetarian]</td>\n",
       "    </tr>\n",
       "    <tr>\n",
       "      <th>8588</th>\n",
       "      <td>3245414667181</td>\n",
       "      <td>[en:water, en:wheat-flour, en:cereal, en:flour...</td>\n",
       "      <td>[en:palm-oil-free, en:non-vegan, en:non-vegeta...</td>\n",
       "      <td>0</td>\n",
       "      <td>0</td>\n",
       "      <td>[water, wheat flour, cereal, flour, wheat, cer...</td>\n",
       "      <td>[palm oil free, non vegan, non vegetarian]</td>\n",
       "    </tr>\n",
       "    <tr>\n",
       "      <th>225</th>\n",
       "      <td>3023260030980</td>\n",
       "      <td>[en:sheeps-milk, en:dairy, en:milk]</td>\n",
       "      <td>[en:palm-oil-free, en:non-vegan, en:vegetarian]</td>\n",
       "      <td>0</td>\n",
       "      <td>1</td>\n",
       "      <td>[sheeps milk, dairy, milk]</td>\n",
       "      <td>[palm oil free, non vegan, vegetarian]</td>\n",
       "    </tr>\n",
       "    <tr>\n",
       "      <th>902</th>\n",
       "      <td>3175681225084</td>\n",
       "      <td>[fr:seitan-de-ble, en:brown-rice, en:rice, en:...</td>\n",
       "      <td>[en:may-contain-palm-oil, en:vegan, en:vegetar...</td>\n",
       "      <td>1</td>\n",
       "      <td>1</td>\n",
       "      <td>[fr:seitan de ble, brown rice, rice, garden pe...</td>\n",
       "      <td>[may contain palm oil, vegan, vegetarian]</td>\n",
       "    </tr>\n",
       "  </tbody>\n",
       "</table>\n",
       "</div>"
      ],
      "text/plain": [
       "                 id                                   ingredients_tags  \\\n",
       "7769  3280220923007                                 [en:mint, en:herb]   \n",
       "7608  3245390207456  [fr:lentilles-vertes-du-puy, en:vegetable, en:...   \n",
       "8588  3245414667181  [en:water, en:wheat-flour, en:cereal, en:flour...   \n",
       "225   3023260030980                [en:sheeps-milk, en:dairy, en:milk]   \n",
       "902   3175681225084  [fr:seitan-de-ble, en:brown-rice, en:rice, en:...   \n",
       "\n",
       "                                            labels_tags  Vegan  Vegetarian  \\\n",
       "7769        [en:palm-oil-free, en:vegan, en:vegetarian]      1           1   \n",
       "7608  [en:may-contain-palm-oil, en:non-vegan, en:non...      0           0   \n",
       "8588  [en:palm-oil-free, en:non-vegan, en:non-vegeta...      0           0   \n",
       "225     [en:palm-oil-free, en:non-vegan, en:vegetarian]      0           1   \n",
       "902   [en:may-contain-palm-oil, en:vegan, en:vegetar...      1           1   \n",
       "\n",
       "                                    cleaned_ingredients  \\\n",
       "7769                                       [mint, herb]   \n",
       "7608  [fr:lentilles vertes du puy, vegetable, legume...   \n",
       "8588  [water, wheat flour, cereal, flour, wheat, cer...   \n",
       "225                          [sheeps milk, dairy, milk]   \n",
       "902   [fr:seitan de ble, brown rice, rice, garden pe...   \n",
       "\n",
       "                                      clean_labels_tags  \n",
       "7769                 [palm oil free, vegan, vegetarian]  \n",
       "7608  [may contain palm oil, non vegan, non vegetarian]  \n",
       "8588         [palm oil free, non vegan, non vegetarian]  \n",
       "225              [palm oil free, non vegan, vegetarian]  \n",
       "902           [may contain palm oil, vegan, vegetarian]  "
      ]
     },
     "execution_count": 172,
     "metadata": {},
     "output_type": "execute_result"
    }
   ],
   "source": [
    "train_df.head()"
   ]
  },
  {
   "cell_type": "code",
   "execution_count": 179,
   "metadata": {},
   "outputs": [
    {
     "data": {
      "text/html": [
       "<style>#sk-container-id-3 {color: black;background-color: white;}#sk-container-id-3 pre{padding: 0;}#sk-container-id-3 div.sk-toggleable {background-color: white;}#sk-container-id-3 label.sk-toggleable__label {cursor: pointer;display: block;width: 100%;margin-bottom: 0;padding: 0.3em;box-sizing: border-box;text-align: center;}#sk-container-id-3 label.sk-toggleable__label-arrow:before {content: \"▸\";float: left;margin-right: 0.25em;color: #696969;}#sk-container-id-3 label.sk-toggleable__label-arrow:hover:before {color: black;}#sk-container-id-3 div.sk-estimator:hover label.sk-toggleable__label-arrow:before {color: black;}#sk-container-id-3 div.sk-toggleable__content {max-height: 0;max-width: 0;overflow: hidden;text-align: left;background-color: #f0f8ff;}#sk-container-id-3 div.sk-toggleable__content pre {margin: 0.2em;color: black;border-radius: 0.25em;background-color: #f0f8ff;}#sk-container-id-3 input.sk-toggleable__control:checked~div.sk-toggleable__content {max-height: 200px;max-width: 100%;overflow: auto;}#sk-container-id-3 input.sk-toggleable__control:checked~label.sk-toggleable__label-arrow:before {content: \"▾\";}#sk-container-id-3 div.sk-estimator input.sk-toggleable__control:checked~label.sk-toggleable__label {background-color: #d4ebff;}#sk-container-id-3 div.sk-label input.sk-toggleable__control:checked~label.sk-toggleable__label {background-color: #d4ebff;}#sk-container-id-3 input.sk-hidden--visually {border: 0;clip: rect(1px 1px 1px 1px);clip: rect(1px, 1px, 1px, 1px);height: 1px;margin: -1px;overflow: hidden;padding: 0;position: absolute;width: 1px;}#sk-container-id-3 div.sk-estimator {font-family: monospace;background-color: #f0f8ff;border: 1px dotted black;border-radius: 0.25em;box-sizing: border-box;margin-bottom: 0.5em;}#sk-container-id-3 div.sk-estimator:hover {background-color: #d4ebff;}#sk-container-id-3 div.sk-parallel-item::after {content: \"\";width: 100%;border-bottom: 1px solid gray;flex-grow: 1;}#sk-container-id-3 div.sk-label:hover label.sk-toggleable__label {background-color: #d4ebff;}#sk-container-id-3 div.sk-serial::before {content: \"\";position: absolute;border-left: 1px solid gray;box-sizing: border-box;top: 0;bottom: 0;left: 50%;z-index: 0;}#sk-container-id-3 div.sk-serial {display: flex;flex-direction: column;align-items: center;background-color: white;padding-right: 0.2em;padding-left: 0.2em;position: relative;}#sk-container-id-3 div.sk-item {position: relative;z-index: 1;}#sk-container-id-3 div.sk-parallel {display: flex;align-items: stretch;justify-content: center;background-color: white;position: relative;}#sk-container-id-3 div.sk-item::before, #sk-container-id-3 div.sk-parallel-item::before {content: \"\";position: absolute;border-left: 1px solid gray;box-sizing: border-box;top: 0;bottom: 0;left: 50%;z-index: -1;}#sk-container-id-3 div.sk-parallel-item {display: flex;flex-direction: column;z-index: 1;position: relative;background-color: white;}#sk-container-id-3 div.sk-parallel-item:first-child::after {align-self: flex-end;width: 50%;}#sk-container-id-3 div.sk-parallel-item:last-child::after {align-self: flex-start;width: 50%;}#sk-container-id-3 div.sk-parallel-item:only-child::after {width: 0;}#sk-container-id-3 div.sk-dashed-wrapped {border: 1px dashed gray;margin: 0 0.4em 0.5em 0.4em;box-sizing: border-box;padding-bottom: 0.4em;background-color: white;}#sk-container-id-3 div.sk-label label {font-family: monospace;font-weight: bold;display: inline-block;line-height: 1.2em;}#sk-container-id-3 div.sk-label-container {text-align: center;}#sk-container-id-3 div.sk-container {/* jupyter's `normalize.less` sets `[hidden] { display: none; }` but bootstrap.min.css set `[hidden] { display: none !important; }` so we also need the `!important` here to be able to override the default hidden behavior on the sphinx rendered scikit-learn.org. See: https://github.com/scikit-learn/scikit-learn/issues/21755 */display: inline-block !important;position: relative;}#sk-container-id-3 div.sk-text-repr-fallback {display: none;}</style><div id=\"sk-container-id-3\" class=\"sk-top-container\"><div class=\"sk-text-repr-fallback\"><pre>KNeighborsClassifier(n_neighbors=30)</pre><b>In a Jupyter environment, please rerun this cell to show the HTML representation or trust the notebook. <br />On GitHub, the HTML representation is unable to render, please try loading this page with nbviewer.org.</b></div><div class=\"sk-container\" hidden><div class=\"sk-item\"><div class=\"sk-estimator sk-toggleable\"><input class=\"sk-toggleable__control sk-hidden--visually\" id=\"sk-estimator-id-3\" type=\"checkbox\" checked><label for=\"sk-estimator-id-3\" class=\"sk-toggleable__label sk-toggleable__label-arrow\">KNeighborsClassifier</label><div class=\"sk-toggleable__content\"><pre>KNeighborsClassifier(n_neighbors=30)</pre></div></div></div></div></div>"
      ],
      "text/plain": [
       "KNeighborsClassifier(n_neighbors=30)"
      ]
     },
     "execution_count": 179,
     "metadata": {},
     "output_type": "execute_result"
    }
   ],
   "source": [
    "from sklearn.neighbors import KNeighborsClassifier\n",
    "\n",
    "knn_vegan = KNeighborsClassifier(n_neighbors=30)\n",
    "knn_vegan.fit(train_embeddings, train_df['Vegan'])\n",
    "\n",
    "knn_vegetarian = KNeighborsClassifier(n_neighbors=30)\n",
    "knn_vegetarian.fit(train_embeddings, train_df['Vegetarian'])"
   ]
  },
  {
   "cell_type": "code",
   "execution_count": 180,
   "metadata": {},
   "outputs": [],
   "source": [
    "knn_vegan_predictions = knn_vegan.predict(test_embeddings)\n",
    "\n",
    "knn_vegetarian_predictions = knn_vegetarian.predict(test_embeddings)"
   ]
  },
  {
   "cell_type": "code",
   "execution_count": 182,
   "metadata": {},
   "outputs": [
    {
     "name": "stdout",
     "output_type": "stream",
     "text": [
      "KNN Classifier Report:\n",
      "               precision    recall  f1-score   support\n",
      "\n",
      "           0       0.00      0.00      0.00       549\n",
      "           1       0.45      1.00      0.62       455\n",
      "\n",
      "    accuracy                           0.45      1004\n",
      "   macro avg       0.23      0.50      0.31      1004\n",
      "weighted avg       0.21      0.45      0.28      1004\n",
      "\n"
     ]
    },
    {
     "name": "stderr",
     "output_type": "stream",
     "text": [
      "/Users/steven/opt/miniconda3/lib/python3.9/site-packages/sklearn/metrics/_classification.py:1334: UndefinedMetricWarning: Precision and F-score are ill-defined and being set to 0.0 in labels with no predicted samples. Use `zero_division` parameter to control this behavior.\n",
      "  _warn_prf(average, modifier, msg_start, len(result))\n",
      "/Users/steven/opt/miniconda3/lib/python3.9/site-packages/sklearn/metrics/_classification.py:1334: UndefinedMetricWarning: Precision and F-score are ill-defined and being set to 0.0 in labels with no predicted samples. Use `zero_division` parameter to control this behavior.\n",
      "  _warn_prf(average, modifier, msg_start, len(result))\n",
      "/Users/steven/opt/miniconda3/lib/python3.9/site-packages/sklearn/metrics/_classification.py:1334: UndefinedMetricWarning: Precision and F-score are ill-defined and being set to 0.0 in labels with no predicted samples. Use `zero_division` parameter to control this behavior.\n",
      "  _warn_prf(average, modifier, msg_start, len(result))\n"
     ]
    }
   ],
   "source": [
    "from sklearn.metrics import classification_report\n",
    "\n",
    "knn_vegan_report = classification_report(test_df['Vegan'], knn_vegan_predictions)\n",
    "print(\"KNN Classifier Report:\\n\", knn_vegan_report)"
   ]
  },
  {
   "cell_type": "code",
   "execution_count": 184,
   "metadata": {},
   "outputs": [
    {
     "name": "stdout",
     "output_type": "stream",
     "text": [
      "KNN Classifier Report:\n",
      "               precision    recall  f1-score   support\n",
      "\n",
      "           0       0.00      0.00      0.00       397\n",
      "           1       0.60      1.00      0.75       607\n",
      "\n",
      "    accuracy                           0.60      1004\n",
      "   macro avg       0.30      0.50      0.38      1004\n",
      "weighted avg       0.37      0.60      0.46      1004\n",
      "\n"
     ]
    },
    {
     "name": "stderr",
     "output_type": "stream",
     "text": [
      "/Users/steven/opt/miniconda3/lib/python3.9/site-packages/sklearn/metrics/_classification.py:1334: UndefinedMetricWarning: Precision and F-score are ill-defined and being set to 0.0 in labels with no predicted samples. Use `zero_division` parameter to control this behavior.\n",
      "  _warn_prf(average, modifier, msg_start, len(result))\n",
      "/Users/steven/opt/miniconda3/lib/python3.9/site-packages/sklearn/metrics/_classification.py:1334: UndefinedMetricWarning: Precision and F-score are ill-defined and being set to 0.0 in labels with no predicted samples. Use `zero_division` parameter to control this behavior.\n",
      "  _warn_prf(average, modifier, msg_start, len(result))\n",
      "/Users/steven/opt/miniconda3/lib/python3.9/site-packages/sklearn/metrics/_classification.py:1334: UndefinedMetricWarning: Precision and F-score are ill-defined and being set to 0.0 in labels with no predicted samples. Use `zero_division` parameter to control this behavior.\n",
      "  _warn_prf(average, modifier, msg_start, len(result))\n"
     ]
    }
   ],
   "source": [
    "knn_vegetarian_report = classification_report(test_df['Vegetarian'], knn_vegetarian_predictions)\n",
    "print(\"KNN Classifier Report:\\n\", knn_vegetarian_report)"
   ]
  },
  {
   "cell_type": "code",
   "execution_count": null,
   "metadata": {},
   "outputs": [],
   "source": []
  },
  {
   "cell_type": "code",
   "execution_count": 186,
   "metadata": {},
   "outputs": [
    {
     "data": {
      "text/plain": [
       "((4015, 3650), (1004, 3650))"
      ]
     },
     "execution_count": 186,
     "metadata": {},
     "output_type": "execute_result"
    }
   ],
   "source": [
    "from sklearn.feature_extraction.text import TfidfVectorizer\n",
    "\n",
    "# Preprocessing ingredient lists: joining the lists into single strings for each product\n",
    "train_ingredients_str = [\" \".join(ing) for ing in train_df['cleaned_ingredients']]\n",
    "test_ingredients_str = [\" \".join(ing) for ing in test_df['cleaned_ingredients']]\n",
    "\n",
    "# Using TF-IDF to create feature vectors\n",
    "vectorizer = TfidfVectorizer()\n",
    "train_features = vectorizer.fit_transform(train_ingredients_str)\n",
    "test_features = vectorizer.transform(test_ingredients_str)\n",
    "\n",
    "# Checking the shape of the created feature vectors\n",
    "train_features.shape, test_features.shape"
   ]
  },
  {
   "cell_type": "code",
   "execution_count": 187,
   "metadata": {},
   "outputs": [
    {
     "data": {
      "text/html": [
       "<style>#sk-container-id-4 {color: black;background-color: white;}#sk-container-id-4 pre{padding: 0;}#sk-container-id-4 div.sk-toggleable {background-color: white;}#sk-container-id-4 label.sk-toggleable__label {cursor: pointer;display: block;width: 100%;margin-bottom: 0;padding: 0.3em;box-sizing: border-box;text-align: center;}#sk-container-id-4 label.sk-toggleable__label-arrow:before {content: \"▸\";float: left;margin-right: 0.25em;color: #696969;}#sk-container-id-4 label.sk-toggleable__label-arrow:hover:before {color: black;}#sk-container-id-4 div.sk-estimator:hover label.sk-toggleable__label-arrow:before {color: black;}#sk-container-id-4 div.sk-toggleable__content {max-height: 0;max-width: 0;overflow: hidden;text-align: left;background-color: #f0f8ff;}#sk-container-id-4 div.sk-toggleable__content pre {margin: 0.2em;color: black;border-radius: 0.25em;background-color: #f0f8ff;}#sk-container-id-4 input.sk-toggleable__control:checked~div.sk-toggleable__content {max-height: 200px;max-width: 100%;overflow: auto;}#sk-container-id-4 input.sk-toggleable__control:checked~label.sk-toggleable__label-arrow:before {content: \"▾\";}#sk-container-id-4 div.sk-estimator input.sk-toggleable__control:checked~label.sk-toggleable__label {background-color: #d4ebff;}#sk-container-id-4 div.sk-label input.sk-toggleable__control:checked~label.sk-toggleable__label {background-color: #d4ebff;}#sk-container-id-4 input.sk-hidden--visually {border: 0;clip: rect(1px 1px 1px 1px);clip: rect(1px, 1px, 1px, 1px);height: 1px;margin: -1px;overflow: hidden;padding: 0;position: absolute;width: 1px;}#sk-container-id-4 div.sk-estimator {font-family: monospace;background-color: #f0f8ff;border: 1px dotted black;border-radius: 0.25em;box-sizing: border-box;margin-bottom: 0.5em;}#sk-container-id-4 div.sk-estimator:hover {background-color: #d4ebff;}#sk-container-id-4 div.sk-parallel-item::after {content: \"\";width: 100%;border-bottom: 1px solid gray;flex-grow: 1;}#sk-container-id-4 div.sk-label:hover label.sk-toggleable__label {background-color: #d4ebff;}#sk-container-id-4 div.sk-serial::before {content: \"\";position: absolute;border-left: 1px solid gray;box-sizing: border-box;top: 0;bottom: 0;left: 50%;z-index: 0;}#sk-container-id-4 div.sk-serial {display: flex;flex-direction: column;align-items: center;background-color: white;padding-right: 0.2em;padding-left: 0.2em;position: relative;}#sk-container-id-4 div.sk-item {position: relative;z-index: 1;}#sk-container-id-4 div.sk-parallel {display: flex;align-items: stretch;justify-content: center;background-color: white;position: relative;}#sk-container-id-4 div.sk-item::before, #sk-container-id-4 div.sk-parallel-item::before {content: \"\";position: absolute;border-left: 1px solid gray;box-sizing: border-box;top: 0;bottom: 0;left: 50%;z-index: -1;}#sk-container-id-4 div.sk-parallel-item {display: flex;flex-direction: column;z-index: 1;position: relative;background-color: white;}#sk-container-id-4 div.sk-parallel-item:first-child::after {align-self: flex-end;width: 50%;}#sk-container-id-4 div.sk-parallel-item:last-child::after {align-self: flex-start;width: 50%;}#sk-container-id-4 div.sk-parallel-item:only-child::after {width: 0;}#sk-container-id-4 div.sk-dashed-wrapped {border: 1px dashed gray;margin: 0 0.4em 0.5em 0.4em;box-sizing: border-box;padding-bottom: 0.4em;background-color: white;}#sk-container-id-4 div.sk-label label {font-family: monospace;font-weight: bold;display: inline-block;line-height: 1.2em;}#sk-container-id-4 div.sk-label-container {text-align: center;}#sk-container-id-4 div.sk-container {/* jupyter's `normalize.less` sets `[hidden] { display: none; }` but bootstrap.min.css set `[hidden] { display: none !important; }` so we also need the `!important` here to be able to override the default hidden behavior on the sphinx rendered scikit-learn.org. See: https://github.com/scikit-learn/scikit-learn/issues/21755 */display: inline-block !important;position: relative;}#sk-container-id-4 div.sk-text-repr-fallback {display: none;}</style><div id=\"sk-container-id-4\" class=\"sk-top-container\"><div class=\"sk-text-repr-fallback\"><pre>RandomForestClassifier()</pre><b>In a Jupyter environment, please rerun this cell to show the HTML representation or trust the notebook. <br />On GitHub, the HTML representation is unable to render, please try loading this page with nbviewer.org.</b></div><div class=\"sk-container\" hidden><div class=\"sk-item\"><div class=\"sk-estimator sk-toggleable\"><input class=\"sk-toggleable__control sk-hidden--visually\" id=\"sk-estimator-id-4\" type=\"checkbox\" checked><label for=\"sk-estimator-id-4\" class=\"sk-toggleable__label sk-toggleable__label-arrow\">RandomForestClassifier</label><div class=\"sk-toggleable__content\"><pre>RandomForestClassifier()</pre></div></div></div></div></div>"
      ],
      "text/plain": [
       "RandomForestClassifier()"
      ]
     },
     "execution_count": 187,
     "metadata": {},
     "output_type": "execute_result"
    }
   ],
   "source": [
    "from sklearn.ensemble import RandomForestClassifier\n",
    "\n",
    "rf_vegan = RandomForestClassifier()\n",
    "rf_vegan.fit(train_features, train_df['Vegan'])\n",
    "\n",
    "rf_vegetarian = RandomForestClassifier()\n",
    "rf_vegetarian.fit(train_features, train_df['Vegetarian'])"
   ]
  },
  {
   "cell_type": "code",
   "execution_count": 188,
   "metadata": {},
   "outputs": [],
   "source": [
    "rf_vegan_predictions = rf_vegan.predict(test_features)\n",
    "rf_vegetarian_predictions = rf_vegetarian.predict(test_features)"
   ]
  },
  {
   "cell_type": "code",
   "execution_count": 190,
   "metadata": {},
   "outputs": [
    {
     "name": "stdout",
     "output_type": "stream",
     "text": [
      "Random Forest Classifier Report:\n",
      "               precision    recall  f1-score   support\n",
      "\n",
      "           0       0.97      0.99      0.98       549\n",
      "           1       0.98      0.96      0.97       455\n",
      "\n",
      "    accuracy                           0.98      1004\n",
      "   macro avg       0.98      0.98      0.98      1004\n",
      "weighted avg       0.98      0.98      0.98      1004\n",
      "\n"
     ]
    }
   ],
   "source": [
    "rf_report = classification_report(test_df['Vegan'], rf_vegan_predictions)\n",
    "print(\"Random Forest Classifier Report:\\n\", rf_report)"
   ]
  },
  {
   "cell_type": "code",
   "execution_count": 191,
   "metadata": {},
   "outputs": [
    {
     "name": "stdout",
     "output_type": "stream",
     "text": [
      "Random Forest Classifier Report:\n",
      "               precision    recall  f1-score   support\n",
      "\n",
      "           0       0.96      0.99      0.98       397\n",
      "           1       0.99      0.98      0.98       607\n",
      "\n",
      "    accuracy                           0.98      1004\n",
      "   macro avg       0.98      0.98      0.98      1004\n",
      "weighted avg       0.98      0.98      0.98      1004\n",
      "\n"
     ]
    }
   ],
   "source": [
    "rf_report = classification_report(test_df['Vegetarian'], rf_vegetarian_predictions)\n",
    "print(\"Random Forest Classifier Report:\\n\", rf_report)"
   ]
  },
  {
   "cell_type": "code",
   "execution_count": 192,
   "metadata": {},
   "outputs": [],
   "source": [
    "# Filter out rows from the original DataFrame\n",
    "remaining_df = df[~df.index.isin(train_df.index) & ~df.index.isin(test_df.index)]\n",
    "\n",
    "# Convert ingredient lists to strings\n",
    "remaining_ingredients_str = [\" \".join(ing) for ing in remaining_df['cleaned_ingredients']]\n",
    "\n",
    "# Apply TF-IDF vectorization\n",
    "remaining_features = vectorizer.transform(remaining_ingredients_str)"
   ]
  },
  {
   "cell_type": "code",
   "execution_count": 193,
   "metadata": {},
   "outputs": [],
   "source": [
    "rf_vegan_remaining_predictions = rf_vegan.predict(remaining_features)\n",
    "rf_vegetarian_remaining_predictions = rf_vegetarian.predict(remaining_features)"
   ]
  },
  {
   "cell_type": "code",
   "execution_count": 196,
   "metadata": {},
   "outputs": [],
   "source": [
    "# Create a mask for selecting rows not in train_df or test_df\n",
    "not_in_train_or_test = ~df.index.isin(train_df.index) & ~df.index.isin(test_df.index)\n",
    "\n",
    "# Assign the predictions to the corresponding columns\n",
    "df.loc[not_in_train_or_test, 'Vegan'] = rf_vegan_remaining_predictions\n",
    "df.loc[not_in_train_or_test, 'Vegetarian'] = rf_vegetarian_remaining_predictions"
   ]
  },
  {
   "cell_type": "code",
   "execution_count": null,
   "metadata": {},
   "outputs": [],
   "source": [
    "df.to_csv('all_veg_data.csv', index=False)"
   ]
  },
  {
   "cell_type": "code",
   "execution_count": 3,
   "metadata": {},
   "outputs": [],
   "source": [
    "df = pd.read_csv('all_veg_data.csv')"
   ]
  },
  {
   "cell_type": "code",
   "execution_count": 5,
   "metadata": {},
   "outputs": [
    {
     "data": {
      "text/html": [
       "<div>\n",
       "<style scoped>\n",
       "    .dataframe tbody tr th:only-of-type {\n",
       "        vertical-align: middle;\n",
       "    }\n",
       "\n",
       "    .dataframe tbody tr th {\n",
       "        vertical-align: top;\n",
       "    }\n",
       "\n",
       "    .dataframe thead th {\n",
       "        text-align: right;\n",
       "    }\n",
       "</style>\n",
       "<table border=\"1\" class=\"dataframe\">\n",
       "  <thead>\n",
       "    <tr style=\"text-align: right;\">\n",
       "      <th></th>\n",
       "      <th>id</th>\n",
       "      <th>ingredients_tags</th>\n",
       "      <th>labels_tags</th>\n",
       "      <th>Vegan</th>\n",
       "      <th>Vegetarian</th>\n",
       "      <th>cleaned_ingredients</th>\n",
       "      <th>clean_labels_tags</th>\n",
       "    </tr>\n",
       "  </thead>\n",
       "  <tbody>\n",
       "    <tr>\n",
       "      <th>0</th>\n",
       "      <td>3274080005003</td>\n",
       "      <td>['en:spring-water', 'en:water']</td>\n",
       "      <td>['en:palm-oil-free', 'en:vegan', 'en:vegetarian']</td>\n",
       "      <td>1</td>\n",
       "      <td>1</td>\n",
       "      <td>['spring water', 'water']</td>\n",
       "      <td>['palm oil free', 'vegan', 'vegetarian']</td>\n",
       "    </tr>\n",
       "    <tr>\n",
       "      <th>1</th>\n",
       "      <td>3017620422003</td>\n",
       "      <td>['en:sugar', 'en:added-sugar', 'en:disaccharid...</td>\n",
       "      <td>['en:palm-oil', 'en:non-vegan', 'en:vegetarian...</td>\n",
       "      <td>0</td>\n",
       "      <td>1</td>\n",
       "      <td>['sugar', 'added sugar', 'disaccharide', 'palm...</td>\n",
       "      <td>['palm oil', 'non vegan', 'vegetarian status u...</td>\n",
       "    </tr>\n",
       "    <tr>\n",
       "      <th>2</th>\n",
       "      <td>7622210449283</td>\n",
       "      <td>['en:cereal', 'en:sugar', 'en:added-sugar', 'e...</td>\n",
       "      <td>['en:palm-oil', 'en:non-vegan', 'en:vegetarian...</td>\n",
       "      <td>0</td>\n",
       "      <td>1</td>\n",
       "      <td>['cereal', 'sugar', 'added sugar', 'disacchari...</td>\n",
       "      <td>['palm oil', 'non vegan', 'vegetarian status u...</td>\n",
       "    </tr>\n",
       "    <tr>\n",
       "      <th>3</th>\n",
       "      <td>5449000214911</td>\n",
       "      <td>['en:carbonated-water', 'en:water', 'en:sugar'...</td>\n",
       "      <td>['en:palm-oil-free', 'en:maybe-vegan', 'en:may...</td>\n",
       "      <td>1</td>\n",
       "      <td>1</td>\n",
       "      <td>['carbonated water', 'water', 'sugar', 'added ...</td>\n",
       "      <td>['palm oil free', 'maybe vegan', 'maybe vegeta...</td>\n",
       "    </tr>\n",
       "    <tr>\n",
       "      <th>4</th>\n",
       "      <td>3017620425035</td>\n",
       "      <td>['en:sugar', 'en:added-sugar', 'en:disaccharid...</td>\n",
       "      <td>['en:palm-oil', 'en:non-vegan', 'en:vegetarian...</td>\n",
       "      <td>0</td>\n",
       "      <td>1</td>\n",
       "      <td>['sugar', 'added sugar', 'disaccharide', 'palm...</td>\n",
       "      <td>['palm oil', 'non vegan', 'vegetarian status u...</td>\n",
       "    </tr>\n",
       "  </tbody>\n",
       "</table>\n",
       "</div>"
      ],
      "text/plain": [
       "              id                                   ingredients_tags  \\\n",
       "0  3274080005003                    ['en:spring-water', 'en:water']   \n",
       "1  3017620422003  ['en:sugar', 'en:added-sugar', 'en:disaccharid...   \n",
       "2  7622210449283  ['en:cereal', 'en:sugar', 'en:added-sugar', 'e...   \n",
       "3  5449000214911  ['en:carbonated-water', 'en:water', 'en:sugar'...   \n",
       "4  3017620425035  ['en:sugar', 'en:added-sugar', 'en:disaccharid...   \n",
       "\n",
       "                                         labels_tags  Vegan  Vegetarian  \\\n",
       "0  ['en:palm-oil-free', 'en:vegan', 'en:vegetarian']      1           1   \n",
       "1  ['en:palm-oil', 'en:non-vegan', 'en:vegetarian...      0           1   \n",
       "2  ['en:palm-oil', 'en:non-vegan', 'en:vegetarian...      0           1   \n",
       "3  ['en:palm-oil-free', 'en:maybe-vegan', 'en:may...      1           1   \n",
       "4  ['en:palm-oil', 'en:non-vegan', 'en:vegetarian...      0           1   \n",
       "\n",
       "                                 cleaned_ingredients  \\\n",
       "0                          ['spring water', 'water']   \n",
       "1  ['sugar', 'added sugar', 'disaccharide', 'palm...   \n",
       "2  ['cereal', 'sugar', 'added sugar', 'disacchari...   \n",
       "3  ['carbonated water', 'water', 'sugar', 'added ...   \n",
       "4  ['sugar', 'added sugar', 'disaccharide', 'palm...   \n",
       "\n",
       "                                   clean_labels_tags  \n",
       "0           ['palm oil free', 'vegan', 'vegetarian']  \n",
       "1  ['palm oil', 'non vegan', 'vegetarian status u...  \n",
       "2  ['palm oil', 'non vegan', 'vegetarian status u...  \n",
       "3  ['palm oil free', 'maybe vegan', 'maybe vegeta...  \n",
       "4  ['palm oil', 'non vegan', 'vegetarian status u...  "
      ]
     },
     "execution_count": 5,
     "metadata": {},
     "output_type": "execute_result"
    }
   ],
   "source": [
    "df.head()"
   ]
  },
  {
   "cell_type": "code",
   "execution_count": 8,
   "metadata": {},
   "outputs": [
    {
     "data": {
      "text/plain": [
       "0       ['en:palm-oil-free', 'en:vegan', 'en:vegetarian']\n",
       "1       ['en:palm-oil', 'en:non-vegan', 'en:vegetarian...\n",
       "2       ['en:palm-oil', 'en:non-vegan', 'en:vegetarian...\n",
       "3       ['en:palm-oil-free', 'en:maybe-vegan', 'en:may...\n",
       "4       ['en:palm-oil', 'en:non-vegan', 'en:vegetarian...\n",
       "                              ...                        \n",
       "9944    ['en:palm-oil-free', 'en:vegan', 'en:vegetarian']\n",
       "9945                                                  NaN\n",
       "9946    ['en:palm-oil-free', 'en:non-vegan', 'en:non-v...\n",
       "9947    ['en:palm-oil-free', 'en:non-vegan', 'en:non-v...\n",
       "9948    ['en:palm-oil-free', 'en:non-vegan', 'en:non-v...\n",
       "Name: labels_tags, Length: 9949, dtype: object"
      ]
     },
     "execution_count": 8,
     "metadata": {},
     "output_type": "execute_result"
    }
   ],
   "source": [
    "df['labels_tags']"
   ]
  },
  {
   "cell_type": "code",
   "execution_count": 11,
   "metadata": {},
   "outputs": [],
   "source": [
    "# Step 1: Filter Labels\n",
    "allowed_labels = {\n",
    "    'may contain-palm-oil',\n",
    "    'palm oil',\n",
    "    'palm oil content-unknown',\n",
    "    'palm oil free',\n",
    "}\n",
    "\n",
    "# Updating labels_tags column by keeping only allowed labels\n",
    "df['clean_labels_tags'] = df['clean_labels_tags'].apply(lambda tags: [tag for tag in tags if tag and tag in allowed_labels] if tags is list() else [''])\n",
    "\n",
    "# Step 2: Update Labels Based on Vegan and Vegetarian Columns\n",
    "df['clean_labels_tags'] = df.apply(lambda row: row['clean_labels_tags'] + \n",
    "                             (['vegan'] if row['Vegan'] == 1 else ['non vegan']) + \n",
    "                             (['vegetarian'] if row['Vegetarian'] == 1 else ['non vegetarian']), axis=1)"
   ]
  },
  {
   "cell_type": "code",
   "execution_count": 12,
   "metadata": {},
   "outputs": [],
   "source": [
    "f = open('final_extracted_products.json')\n",
    "json_data = json.load(f)"
   ]
  },
  {
   "cell_type": "code",
   "execution_count": 34,
   "metadata": {},
   "outputs": [
    {
     "name": "stderr",
     "output_type": "stream",
     "text": [
      "  0%|          | 0/9949 [00:00<?, ?it/s]"
     ]
    },
    {
     "name": "stderr",
     "output_type": "stream",
     "text": [
      "100%|██████████| 9949/9949 [00:03<00:00, 3077.78it/s]\n"
     ]
    }
   ],
   "source": [
    "for product_id, product_data in tqdm(json_data.items()):\n",
    "    corresponding_row = df[df['id'] == int(product_id)].iloc[0]\n",
    "    product_data['ingredients_analysis_tags'] = corresponding_row['clean_labels_tags']\n",
    "    product_data['ingredients_tags'] = corresponding_row['cleaned_ingredients']\n",
    "\n",
    "# Step 3: Write the Updated JSON Data Back to a File\n",
    "with open('final_extracted_products.json', 'w') as file:\n",
    "    json.dump(json_data, file)"
   ]
  },
  {
   "cell_type": "code",
   "execution_count": 31,
   "metadata": {},
   "outputs": [],
   "source": [
    "from gensim.models import Word2Vec\n",
    "import numpy as np\n",
    "from sklearn.manifold import TSNE\n",
    "import seaborn as sns\n",
    "import matplotlib.patches as patches\n",
    "import ast"
   ]
  },
  {
   "cell_type": "code",
   "execution_count": 32,
   "metadata": {},
   "outputs": [
    {
     "name": "stderr",
     "output_type": "stream",
     "text": [
      "/Users/steven/opt/miniconda3/lib/python3.9/site-packages/sklearn/manifold/_t_sne.py:800: FutureWarning: The default initialization in TSNE will change from 'random' to 'pca' in 1.2.\n",
      "  warnings.warn(\n",
      "/Users/steven/opt/miniconda3/lib/python3.9/site-packages/sklearn/manifold/_t_sne.py:810: FutureWarning: The default learning rate in TSNE will change from 200.0 to 'auto' in 1.2.\n",
      "  warnings.warn(\n"
     ]
    }
   ],
   "source": [
    "model = Word2Vec.load('ingredients2vec.model')\n",
    "\n",
    "def product_embedding(ingredients):\n",
    "    valid_ingredients = [ingredient for ingredient in ingredients if ingredient in model.wv]\n",
    "    if not valid_ingredients:\n",
    "        return np.zeros(model.vector_size)\n",
    "    return np.mean([model.wv[ingredient] for ingredient in valid_ingredients], axis=0)\n",
    "\n",
    "product_embeddings = df['cleaned_ingredients'].apply(product_embedding)\n",
    "\n",
    "embedding_matrix = np.array(product_embeddings.tolist())\n",
    "\n",
    "tsne = TSNE(n_components=3, random_state=1236)\n",
    "reduced_embeddings = tsne.fit_transform(embedding_matrix)"
   ]
  },
  {
   "cell_type": "code",
   "execution_count": null,
   "metadata": {},
   "outputs": [],
   "source": [
    "plt.figure(figsize=(12, 8))\n",
    "for category in tqdm(labels_tags):\n",
    "    indices = df[df['clean_labels_tags'].apply(lambda x: category in x)].index\n",
    "    print(np.std(reduced_embeddings))\n",
    "    plt.scatter(reduced_embeddings[indices, 0], reduced_embeddings[indices, 1], alpha=1, label=category)\n",
    "\n",
    "plt.title('Product Embeddings Visualized with TSNE')\n",
    "plt.xlabel('TSNE Component 1')\n",
    "plt.ylabel('TSNE Component 2')\n",
    "plt.legend()\n",
    "plt.show()"
   ]
  }
 ],
 "metadata": {
  "kernelspec": {
   "display_name": "base",
   "language": "python",
   "name": "python3"
  },
  "language_info": {
   "codemirror_mode": {
    "name": "ipython",
    "version": 3
   },
   "file_extension": ".py",
   "mimetype": "text/x-python",
   "name": "python",
   "nbconvert_exporter": "python",
   "pygments_lexer": "ipython3",
   "version": "3.9.12"
  }
 },
 "nbformat": 4,
 "nbformat_minor": 2
}
