{
 "cells": [
  {
   "cell_type": "code",
   "execution_count": 4,
   "metadata": {},
   "outputs": [],
   "source": [
    "from streamlite.Products_database import ProductDatabase\n",
    "from streamlite.shopping import ShoppingCart\n",
    "import pandas as pd\n",
    "from tqdm import tqdm\n",
    "import json"
   ]
  },
  {
   "cell_type": "code",
   "execution_count": 8,
   "metadata": {},
   "outputs": [],
   "source": [
    "json_file = \"../data/final_extracted_products.json\""
   ]
  },
  {
   "cell_type": "code",
   "execution_count": 9,
   "metadata": {},
   "outputs": [],
   "source": [
    "f = open(json_file)\n",
    "json_data = json.load(f)"
   ]
  },
  {
   "cell_type": "markdown",
   "metadata": {},
   "source": [
    "### Merge with the carrefour dataset (products price)"
   ]
  },
  {
   "cell_type": "code",
   "execution_count": 5,
   "metadata": {},
   "outputs": [],
   "source": [
    "# csv_data = pd.read_csv(\"PRICE_subset.csv\")\n",
    "# csv_data['codebarre'] = csv_data['codebarre'].astype(str)  # Convert to string"
   ]
  },
  {
   "cell_type": "code",
   "execution_count": 6,
   "metadata": {},
   "outputs": [
    {
     "data": {
      "text/html": [
       "<div>\n",
       "<style scoped>\n",
       "    .dataframe tbody tr th:only-of-type {\n",
       "        vertical-align: middle;\n",
       "    }\n",
       "\n",
       "    .dataframe tbody tr th {\n",
       "        vertical-align: top;\n",
       "    }\n",
       "\n",
       "    .dataframe thead th {\n",
       "        text-align: right;\n",
       "    }\n",
       "</style>\n",
       "<table border=\"1\" class=\"dataframe\">\n",
       "  <thead>\n",
       "    <tr style=\"text-align: right;\">\n",
       "      <th></th>\n",
       "      <th>codebarre</th>\n",
       "      <th>carrefour</th>\n",
       "    </tr>\n",
       "  </thead>\n",
       "  <tbody>\n",
       "    <tr>\n",
       "      <th>0</th>\n",
       "      <td>3274080005003</td>\n",
       "      <td>NaN</td>\n",
       "    </tr>\n",
       "    <tr>\n",
       "      <th>1</th>\n",
       "      <td>3017620422003</td>\n",
       "      <td>3,21</td>\n",
       "    </tr>\n",
       "    <tr>\n",
       "      <th>2</th>\n",
       "      <td>7622210449283</td>\n",
       "      <td>1,49</td>\n",
       "    </tr>\n",
       "    <tr>\n",
       "      <th>3</th>\n",
       "      <td>5449000214911</td>\n",
       "      <td>NaN</td>\n",
       "    </tr>\n",
       "    <tr>\n",
       "      <th>4</th>\n",
       "      <td>3017620425035</td>\n",
       "      <td>5,89</td>\n",
       "    </tr>\n",
       "  </tbody>\n",
       "</table>\n",
       "</div>"
      ],
      "text/plain": [
       "       codebarre carrefour\n",
       "0  3274080005003       NaN\n",
       "1  3017620422003      3,21\n",
       "2  7622210449283      1,49\n",
       "3  5449000214911       NaN\n",
       "4  3017620425035      5,89"
      ]
     },
     "execution_count": 6,
     "metadata": {},
     "output_type": "execute_result"
    }
   ],
   "source": [
    "# csv_data.head()"
   ]
  },
  {
   "cell_type": "code",
   "execution_count": 13,
   "metadata": {},
   "outputs": [
    {
     "name": "stderr",
     "output_type": "stream",
     "text": [
      "100%|██████████| 692/692 [00:00<00:00, 16077.70it/s]\n"
     ]
    }
   ],
   "source": [
    "# # Merging CSV data with JSON data\n",
    "# for index, row in tqdm(csv_data.iterrows(), total=len(csv_data)):\n",
    "#     product_id = row['codebarre']\n",
    "#     price = row['carrefour']\n",
    "#     if price and product_id in json_data:\n",
    "#         json_data[product_id]['price'] = int(price) if type(price) is float() and 'N' in price else 0"
   ]
  },
  {
   "cell_type": "code",
   "execution_count": 14,
   "metadata": {},
   "outputs": [
    {
     "name": "stdout",
     "output_type": "stream",
     "text": [
      "Data with price saved to final_extracted_products.json\n"
     ]
    }
   ],
   "source": [
    "# with open(json_file, 'w', encoding='utf-8') as file:\n",
    "#     json.dump(json_data, file, ensure_ascii=False, indent=4)\n",
    "\n",
    "# print(f\"Data with price saved to {json_file}\")"
   ]
  },
  {
   "cell_type": "code",
   "execution_count": null,
   "metadata": {},
   "outputs": [],
   "source": [
    "# f = open(json_file)\n",
    "# json_data = json.load(f)"
   ]
  },
  {
   "cell_type": "markdown",
   "metadata": {},
   "source": [
    "### Let's test our product database"
   ]
  },
  {
   "cell_type": "code",
   "execution_count": 5,
   "metadata": {},
   "outputs": [],
   "source": [
    "product_database = ProductDatabase(json_data, ngram_size=3)"
   ]
  },
  {
   "cell_type": "markdown",
   "metadata": {},
   "source": [
    "Research of a product using Leveinhstein distance"
   ]
  },
  {
   "cell_type": "code",
   "execution_count": 6,
   "metadata": {},
   "outputs": [
    {
     "name": "stdout",
     "output_type": "stream",
     "text": [
      "Product(ID: 3560070218196, Name: Pain azyme, Price: None, Eco Score: unknown, Nutriscore Score: a)\n",
      "Product(ID: 3523680374317, Name: Pain Nordique, Price: None, Eco Score: unknown, Nutriscore Score: unknown)\n",
      "Product(ID: 3560071442033, Name: Pain de mie, Price: None, Eco Score: b, Nutriscore Score: c)\n",
      "Product(ID: 3523680383616, Name: Pain nordique, Price: None, Eco Score: unknown, Nutriscore Score: a)\n",
      "Product(ID: 3560070434169, Name: Piperade, Price: None, Eco Score: a, Nutriscore Score: a)\n"
     ]
    }
   ],
   "source": [
    "search_results = product_database.search_products_lvsn_dist(\"pain perdu\")\n",
    "print(*search_results[:5], sep=\"\\n\")"
   ]
  },
  {
   "cell_type": "markdown",
   "metadata": {},
   "source": [
    "Research of a product using ngram correspondace"
   ]
  },
  {
   "cell_type": "code",
   "execution_count": 7,
   "metadata": {},
   "outputs": [
    {
     "name": "stdout",
     "output_type": "stream",
     "text": [
      "Product(ID: 3228857001194, Name: Harrys beau & bon pain de mie farine de ble cereales & graines 320g, Price: None, Eco Score: b, Nutriscore Score: a)\n",
      "Product(ID: 3175681085688, Name: Pain complet de seigle aux graines de tournesol, Price: None, Eco Score: b, Nutriscore Score: a)\n",
      "Product(ID: 3513851560724, Name: Pain multicéréales et graines, Price: None, Eco Score: unknown, Nutriscore Score: a)\n",
      "Product(ID: 3175681161252, Name: Pain complet de seigle aux graines de courges, Price: None, Eco Score: b, Nutriscore Score: a)\n",
      "Product(ID: 3523680357501, Name: Pain aux graines bio, Price: None, Eco Score: unknown, Nutriscore Score: a)\n"
     ]
    }
   ],
   "source": [
    "search_results = product_database.search_products_ngram(\"pain perdu\")\n",
    "print(*search_results[:5], sep=\"\\n\")"
   ]
  },
  {
   "cell_type": "markdown",
   "metadata": {},
   "source": [
    "### Let's test our product shopping cart"
   ]
  },
  {
   "cell_type": "code",
   "execution_count": 8,
   "metadata": {},
   "outputs": [],
   "source": [
    "panier = ShoppingCart(product_database)"
   ]
  },
  {
   "cell_type": "markdown",
   "metadata": {},
   "source": [
    "Let's add a product to the cart"
   ]
  },
  {
   "cell_type": "code",
   "execution_count": 9,
   "metadata": {},
   "outputs": [],
   "source": [
    "panier.add_product(\"3228857001194\")"
   ]
  },
  {
   "cell_type": "markdown",
   "metadata": {},
   "source": [
    "List of products in the cart"
   ]
  },
  {
   "cell_type": "code",
   "execution_count": 10,
   "metadata": {},
   "outputs": [
    {
     "data": {
      "text/plain": [
       "dict_values([<Products.Product object at 0x17f34f370>])"
      ]
     },
     "execution_count": 10,
     "metadata": {},
     "output_type": "execute_result"
    }
   ],
   "source": [
    "panier.list_products()"
   ]
  },
  {
   "cell_type": "markdown",
   "metadata": {},
   "source": [
    "Let's remove the product from the cart"
   ]
  },
  {
   "cell_type": "code",
   "execution_count": 11,
   "metadata": {},
   "outputs": [],
   "source": [
    "panier.remove_product(\"3228857001194\")"
   ]
  },
  {
   "cell_type": "code",
   "execution_count": 12,
   "metadata": {},
   "outputs": [
    {
     "data": {
      "text/plain": [
       "dict_values([])"
      ]
     },
     "execution_count": 12,
     "metadata": {},
     "output_type": "execute_result"
    }
   ],
   "source": [
    "panier.list_products()"
   ]
  },
  {
   "cell_type": "markdown",
   "metadata": {},
   "source": [
    "### Let's run the streamlit api"
   ]
  },
  {
   "cell_type": "code",
   "execution_count": 4,
   "metadata": {},
   "outputs": [
    {
     "name": "stdout",
     "output_type": "stream",
     "text": [
      "\u001b[0m\n",
      "\u001b[34m\u001b[1m  You can now view your Streamlit app in your browser.\u001b[0m\n",
      "\u001b[0m\n",
      "\u001b[34m  Local URL: \u001b[0m\u001b[1mhttp://localhost:8501\u001b[0m\n",
      "\u001b[34m  Network URL: \u001b[0m\u001b[1mhttp://192.168.1.77:8501\u001b[0m\n",
      "\u001b[0m\n",
      "\u001b[34m\u001b[1m  For better performance, install the Watchdog module:\u001b[0m\n",
      "\n",
      "  $ xcode-select --install\n",
      "  $ pip install watchdog\n",
      "            \u001b[0m\n",
      "2024-01-23 19:38:48.018 loading Word2Vec object from ../model/ingredients2vec.model\n",
      "2024-01-23 19:38:48.026 loading wv recursively from ../model/ingredients2vec.model.wv.* with mmap=None\n",
      "2024-01-23 19:38:48.026 setting ignored attribute cum_table to None\n",
      "2024-01-23 19:38:48.069 Word2Vec lifecycle event {'fname': '../model/ingredients2vec.model', 'datetime': '2024-01-23T19:38:48.028990', 'gensim': '4.3.1', 'python': '3.9.12 (main, Apr  5 2022, 01:52:34) \\n[Clang 12.0.0 ]', 'platform': 'macOS-14.2-arm64-arm-64bit', 'event': 'loaded'}\n",
      "2024-01-23 19:42:43.833 loading Word2Vec object from ../model/ingredients2vec.model\n",
      "2024-01-23 19:42:43.841 loading wv recursively from ../model/ingredients2vec.model.wv.* with mmap=None\n",
      "2024-01-23 19:42:43.842 setting ignored attribute cum_table to None\n",
      "2024-01-23 19:42:43.845 Word2Vec lifecycle event {'fname': '../model/ingredients2vec.model', 'datetime': '2024-01-23T19:42:43.845957', 'gensim': '4.3.1', 'python': '3.9.12 (main, Apr  5 2022, 01:52:34) \\n[Clang 12.0.0 ]', 'platform': 'macOS-14.2-arm64-arm-64bit', 'event': 'loaded'}\n",
      "2024-01-23 20:00:28.236 loading Word2Vec object from ../model/ingredients2vec.model\n",
      "2024-01-23 20:00:28.244 loading wv recursively from ../model/ingredients2vec.model.wv.* with mmap=None\n",
      "2024-01-23 20:00:28.244 setting ignored attribute cum_table to None\n",
      "2024-01-23 20:00:28.247 Word2Vec lifecycle event {'fname': '../model/ingredients2vec.model', 'datetime': '2024-01-23T20:00:28.247265', 'gensim': '4.3.1', 'python': '3.9.12 (main, Apr  5 2022, 01:52:34) \\n[Clang 12.0.0 ]', 'platform': 'macOS-14.2-arm64-arm-64bit', 'event': 'loaded'}\n",
      "2024-01-23 20:00:36.697 loading Word2Vec object from ../model/ingredients2vec.model\n",
      "2024-01-23 20:00:36.700 loading wv recursively from ../model/ingredients2vec.model.wv.* with mmap=None\n",
      "2024-01-23 20:00:36.700 setting ignored attribute cum_table to None\n",
      "2024-01-23 20:00:36.701 Word2Vec lifecycle event {'fname': '../model/ingredients2vec.model', 'datetime': '2024-01-23T20:00:36.701412', 'gensim': '4.3.1', 'python': '3.9.12 (main, Apr  5 2022, 01:52:34) \\n[Clang 12.0.0 ]', 'platform': 'macOS-14.2-arm64-arm-64bit', 'event': 'loaded'}\n",
      "2024-01-23 20:06:01.755 loading Word2Vec object from ../model/ingredients2vec.model\n",
      "2024-01-23 20:06:01.761 loading wv recursively from ../model/ingredients2vec.model.wv.* with mmap=None\n",
      "2024-01-23 20:06:01.761 setting ignored attribute cum_table to None\n",
      "2024-01-23 20:06:01.764 Word2Vec lifecycle event {'fname': '../model/ingredients2vec.model', 'datetime': '2024-01-23T20:06:01.764213', 'gensim': '4.3.1', 'python': '3.9.12 (main, Apr  5 2022, 01:52:34) \\n[Clang 12.0.0 ]', 'platform': 'macOS-14.2-arm64-arm-64bit', 'event': 'loaded'}\n",
      "2024-01-23 20:06:05.905 loading Word2Vec object from ../model/ingredients2vec.model\n",
      "2024-01-23 20:06:05.907 loading wv recursively from ../model/ingredients2vec.model.wv.* with mmap=None\n",
      "2024-01-23 20:06:05.907 setting ignored attribute cum_table to None\n",
      "2024-01-23 20:06:05.908 Word2Vec lifecycle event {'fname': '../model/ingredients2vec.model', 'datetime': '2024-01-23T20:06:05.908808', 'gensim': '4.3.1', 'python': '3.9.12 (main, Apr  5 2022, 01:52:34) \\n[Clang 12.0.0 ]', 'platform': 'macOS-14.2-arm64-arm-64bit', 'event': 'loaded'}\n",
      "2024-01-23 20:06:19.379 loading Word2Vec object from ../model/ingredients2vec.model\n",
      "2024-01-23 20:06:19.382 loading wv recursively from ../model/ingredients2vec.model.wv.* with mmap=None\n",
      "2024-01-23 20:06:19.382 setting ignored attribute cum_table to None\n",
      "2024-01-23 20:06:19.383 Word2Vec lifecycle event {'fname': '../model/ingredients2vec.model', 'datetime': '2024-01-23T20:06:19.383750', 'gensim': '4.3.1', 'python': '3.9.12 (main, Apr  5 2022, 01:52:34) \\n[Clang 12.0.0 ]', 'platform': 'macOS-14.2-arm64-arm-64bit', 'event': 'loaded'}\n",
      "2024-01-23 20:06:33.621 loading Word2Vec object from ../model/ingredients2vec.model\n",
      "2024-01-23 20:06:33.623 loading wv recursively from ../model/ingredients2vec.model.wv.* with mmap=None\n",
      "2024-01-23 20:06:33.624 setting ignored attribute cum_table to None\n",
      "2024-01-23 20:06:33.625 Word2Vec lifecycle event {'fname': '../model/ingredients2vec.model', 'datetime': '2024-01-23T20:06:33.625065', 'gensim': '4.3.1', 'python': '3.9.12 (main, Apr  5 2022, 01:52:34) \\n[Clang 12.0.0 ]', 'platform': 'macOS-14.2-arm64-arm-64bit', 'event': 'loaded'}\n",
      "2024-01-23 20:06:37.405 loading Word2Vec object from ../model/ingredients2vec.model\n",
      "2024-01-23 20:06:37.407 loading wv recursively from ../model/ingredients2vec.model.wv.* with mmap=None\n",
      "2024-01-23 20:06:37.407 setting ignored attribute cum_table to None\n",
      "2024-01-23 20:06:37.408 Word2Vec lifecycle event {'fname': '../model/ingredients2vec.model', 'datetime': '2024-01-23T20:06:37.408529', 'gensim': '4.3.1', 'python': '3.9.12 (main, Apr  5 2022, 01:52:34) \\n[Clang 12.0.0 ]', 'platform': 'macOS-14.2-arm64-arm-64bit', 'event': 'loaded'}\n",
      "2024-01-23 20:06:47.448 loading Word2Vec object from ../model/ingredients2vec.model\n",
      "2024-01-23 20:06:47.450 loading wv recursively from ../model/ingredients2vec.model.wv.* with mmap=None\n",
      "2024-01-23 20:06:47.450 setting ignored attribute cum_table to None\n",
      "2024-01-23 20:06:47.451 Word2Vec lifecycle event {'fname': '../model/ingredients2vec.model', 'datetime': '2024-01-23T20:06:47.451373', 'gensim': '4.3.1', 'python': '3.9.12 (main, Apr  5 2022, 01:52:34) \\n[Clang 12.0.0 ]', 'platform': 'macOS-14.2-arm64-arm-64bit', 'event': 'loaded'}\n",
      "2024-01-23 20:07:05.502 loading Word2Vec object from ../model/ingredients2vec.model\n",
      "2024-01-23 20:07:05.506 loading wv recursively from ../model/ingredients2vec.model.wv.* with mmap=None\n",
      "2024-01-23 20:07:05.506 setting ignored attribute cum_table to None\n",
      "2024-01-23 20:07:05.507 Word2Vec lifecycle event {'fname': '../model/ingredients2vec.model', 'datetime': '2024-01-23T20:07:05.507867', 'gensim': '4.3.1', 'python': '3.9.12 (main, Apr  5 2022, 01:52:34) \\n[Clang 12.0.0 ]', 'platform': 'macOS-14.2-arm64-arm-64bit', 'event': 'loaded'}\n",
      "2024-01-23 20:07:11.598 loading Word2Vec object from ../model/ingredients2vec.model\n",
      "2024-01-23 20:07:11.599 loading wv recursively from ../model/ingredients2vec.model.wv.* with mmap=None\n",
      "2024-01-23 20:07:11.599 setting ignored attribute cum_table to None\n",
      "2024-01-23 20:07:11.600 Word2Vec lifecycle event {'fname': '../model/ingredients2vec.model', 'datetime': '2024-01-23T20:07:11.600389', 'gensim': '4.3.1', 'python': '3.9.12 (main, Apr  5 2022, 01:52:34) \\n[Clang 12.0.0 ]', 'platform': 'macOS-14.2-arm64-arm-64bit', 'event': 'loaded'}\n",
      "2024-01-23 22:54:22.795 loading Word2Vec object from ../model/ingredients2vec.model\n",
      "2024-01-23 22:54:22.804 loading wv recursively from ../model/ingredients2vec.model.wv.* with mmap=None\n",
      "2024-01-23 22:54:22.804 setting ignored attribute cum_table to None\n",
      "2024-01-23 22:54:22.807 Word2Vec lifecycle event {'fname': '../model/ingredients2vec.model', 'datetime': '2024-01-23T22:54:22.807522', 'gensim': '4.3.1', 'python': '3.9.12 (main, Apr  5 2022, 01:52:34) \\n[Clang 12.0.0 ]', 'platform': 'macOS-14.2-arm64-arm-64bit', 'event': 'loaded'}\n",
      "2024-01-24 00:17:50.442 loading Word2Vec object from ../model/ingredients2vec.model\n",
      "2024-01-24 00:17:50.452 loading wv recursively from ../model/ingredients2vec.model.wv.* with mmap=None\n",
      "2024-01-24 00:17:50.452 setting ignored attribute cum_table to None\n",
      "2024-01-24 00:17:50.455 Word2Vec lifecycle event {'fname': '../model/ingredients2vec.model', 'datetime': '2024-01-24T00:17:50.455637', 'gensim': '4.3.1', 'python': '3.9.12 (main, Apr  5 2022, 01:52:34) \\n[Clang 12.0.0 ]', 'platform': 'macOS-14.2-arm64-arm-64bit', 'event': 'loaded'}\n",
      "2024-01-24 02:00:08.330 loading Word2Vec object from ../model/ingredients2vec.model\n",
      "2024-01-24 02:00:08.336 loading wv recursively from ../model/ingredients2vec.model.wv.* with mmap=None\n",
      "2024-01-24 02:00:08.337 setting ignored attribute cum_table to None\n",
      "2024-01-24 02:00:08.339 Word2Vec lifecycle event {'fname': '../model/ingredients2vec.model', 'datetime': '2024-01-24T02:00:08.339224', 'gensim': '4.3.1', 'python': '3.9.12 (main, Apr  5 2022, 01:52:34) \\n[Clang 12.0.0 ]', 'platform': 'macOS-14.2-arm64-arm-64bit', 'event': 'loaded'}\n",
      "2024-01-24 03:19:36.178 loading Word2Vec object from ../model/ingredients2vec.model\n",
      "2024-01-24 03:19:36.186 loading wv recursively from ../model/ingredients2vec.model.wv.* with mmap=None\n",
      "2024-01-24 03:19:36.186 setting ignored attribute cum_table to None\n",
      "2024-01-24 03:19:36.188 Word2Vec lifecycle event {'fname': '../model/ingredients2vec.model', 'datetime': '2024-01-24T03:19:36.188800', 'gensim': '4.3.1', 'python': '3.9.12 (main, Apr  5 2022, 01:52:34) \\n[Clang 12.0.0 ]', 'platform': 'macOS-14.2-arm64-arm-64bit', 'event': 'loaded'}\n",
      "2024-01-24 17:44:37.074 loading Word2Vec object from ../model/ingredients2vec.model\n",
      "2024-01-24 17:44:37.084 loading wv recursively from ../model/ingredients2vec.model.wv.* with mmap=None\n",
      "2024-01-24 17:44:37.084 setting ignored attribute cum_table to None\n",
      "2024-01-24 17:44:37.086 Word2Vec lifecycle event {'fname': '../model/ingredients2vec.model', 'datetime': '2024-01-24T17:44:37.086685', 'gensim': '4.3.1', 'python': '3.9.12 (main, Apr  5 2022, 01:52:34) \\n[Clang 12.0.0 ]', 'platform': 'macOS-14.2-arm64-arm-64bit', 'event': 'loaded'}\n",
      "2024-01-24 19:02:27.000 loading Word2Vec object from ../model/ingredients2vec.model\n",
      "2024-01-24 19:02:27.007 loading wv recursively from ../model/ingredients2vec.model.wv.* with mmap=None\n",
      "2024-01-24 19:02:27.007 setting ignored attribute cum_table to None\n",
      "2024-01-24 19:02:27.010 Word2Vec lifecycle event {'fname': '../model/ingredients2vec.model', 'datetime': '2024-01-24T19:02:27.010315', 'gensim': '4.3.1', 'python': '3.9.12 (main, Apr  5 2022, 01:52:34) \\n[Clang 12.0.0 ]', 'platform': 'macOS-14.2-arm64-arm-64bit', 'event': 'loaded'}\n",
      "/Users/steven/opt/miniconda3/lib/python3.9/site-packages/sklearn/manifold/_t_sne.py:800: FutureWarning: The default initialization in TSNE will change from 'random' to 'pca' in 1.2.\n",
      "  warnings.warn(\n",
      "/Users/steven/opt/miniconda3/lib/python3.9/site-packages/sklearn/manifold/_t_sne.py:810: FutureWarning: The default learning rate in TSNE will change from 200.0 to 'auto' in 1.2.\n",
      "  warnings.warn(\n",
      "2024-01-24 19:21:11.638 loading Word2Vec object from ../model/ingredients2vec.model\n",
      "2024-01-24 19:21:11.649 loading wv recursively from ../model/ingredients2vec.model.wv.* with mmap=None\n",
      "2024-01-24 19:21:11.649 setting ignored attribute cum_table to None\n",
      "2024-01-24 19:21:11.654 Word2Vec lifecycle event {'fname': '../model/ingredients2vec.model', 'datetime': '2024-01-24T19:21:11.653960', 'gensim': '4.3.1', 'python': '3.9.12 (main, Apr  5 2022, 01:52:34) \\n[Clang 12.0.0 ]', 'platform': 'macOS-14.2-arm64-arm-64bit', 'event': 'loaded'}\n",
      "2024-01-24 19:21:17.087 loading Word2Vec object from ../model/ingredients2vec.model\n",
      "2024-01-24 19:21:17.089 loading wv recursively from ../model/ingredients2vec.model.wv.* with mmap=None\n",
      "2024-01-24 19:21:17.089 setting ignored attribute cum_table to None\n",
      "2024-01-24 19:21:17.090 Word2Vec lifecycle event {'fname': '../model/ingredients2vec.model', 'datetime': '2024-01-24T19:21:17.090936', 'gensim': '4.3.1', 'python': '3.9.12 (main, Apr  5 2022, 01:52:34) \\n[Clang 12.0.0 ]', 'platform': 'macOS-14.2-arm64-arm-64bit', 'event': 'loaded'}\n"
     ]
    }
   ],
   "source": [
    "! streamlit run ../streamlite/app.py"
   ]
  },
  {
   "cell_type": "code",
   "execution_count": null,
   "metadata": {},
   "outputs": [],
   "source": []
  }
 ],
 "metadata": {
  "kernelspec": {
   "display_name": "base",
   "language": "python",
   "name": "python3"
  },
  "language_info": {
   "codemirror_mode": {
    "name": "ipython",
    "version": 3
   },
   "file_extension": ".py",
   "mimetype": "text/x-python",
   "name": "python",
   "nbconvert_exporter": "python",
   "pygments_lexer": "ipython3",
   "version": "3.9.12"
  }
 },
 "nbformat": 4,
 "nbformat_minor": 2
}
