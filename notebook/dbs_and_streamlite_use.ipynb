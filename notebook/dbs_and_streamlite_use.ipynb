{
 "cells": [
  {
   "cell_type": "code",
   "execution_count": 2,
   "metadata": {},
   "outputs": [],
   "source": [
    "import os\n",
    "os.chdir(\"..\")"
   ]
  },
  {
   "cell_type": "code",
   "execution_count": 4,
   "metadata": {},
   "outputs": [],
   "source": [
    "from streamlite.Products_database import ProductDatabase\n",
    "from streamlite.shopping import ShoppingCart\n",
    "\n",
    "# try:\n",
    "#     from Products_database import ProductDatabase\n",
    "#     from shopping import ShoppingCart\n",
    "# except Exception:\n",
    "#     from streamlite.Products_database import ProductDatabase\n",
    "#     from streamlite.shopping import ShoppingCart\n",
    "\n",
    "import pandas as pd\n",
    "from tqdm import tqdm\n",
    "import json"
   ]
  },
  {
   "cell_type": "code",
   "execution_count": 10,
   "metadata": {},
   "outputs": [],
   "source": [
    "json_file = \"data/final_extracted_products.json\""
   ]
  },
  {
   "cell_type": "code",
   "execution_count": 11,
   "metadata": {},
   "outputs": [],
   "source": [
    "f = open(json_file)\n",
    "json_data = json.load(f)"
   ]
  },
  {
   "cell_type": "markdown",
   "metadata": {},
   "source": [
    "### Merge with the carrefour dataset (products price)"
   ]
  },
  {
   "cell_type": "code",
   "execution_count": 12,
   "metadata": {},
   "outputs": [],
   "source": [
    "# csv_data = pd.read_csv(\"data/Prices.csv\")\n",
    "# csv_data['codebarre'] = csv_data['codebarre'].astype(str)  # Convert to string"
   ]
  },
  {
   "cell_type": "code",
   "execution_count": 13,
   "metadata": {},
   "outputs": [
    {
     "data": {
      "text/html": [
       "<div>\n",
       "<style scoped>\n",
       "    .dataframe tbody tr th:only-of-type {\n",
       "        vertical-align: middle;\n",
       "    }\n",
       "\n",
       "    .dataframe tbody tr th {\n",
       "        vertical-align: top;\n",
       "    }\n",
       "\n",
       "    .dataframe thead th {\n",
       "        text-align: right;\n",
       "    }\n",
       "</style>\n",
       "<table border=\"1\" class=\"dataframe\">\n",
       "  <thead>\n",
       "    <tr style=\"text-align: right;\">\n",
       "      <th></th>\n",
       "      <th>codebarre</th>\n",
       "      <th>carrefour</th>\n",
       "      <th>gout_qualite</th>\n",
       "      <th>product_name</th>\n",
       "    </tr>\n",
       "  </thead>\n",
       "  <tbody>\n",
       "    <tr>\n",
       "      <th>0</th>\n",
       "      <td>3274080005003</td>\n",
       "      <td>NaN</td>\n",
       "      <td>0.39</td>\n",
       "      <td>Eau de source</td>\n",
       "    </tr>\n",
       "    <tr>\n",
       "      <th>1</th>\n",
       "      <td>3017620422003</td>\n",
       "      <td>3,21</td>\n",
       "      <td>2.95</td>\n",
       "      <td>Nutella</td>\n",
       "    </tr>\n",
       "    <tr>\n",
       "      <th>2</th>\n",
       "      <td>7622210449283</td>\n",
       "      <td>1,49</td>\n",
       "      <td>2.10</td>\n",
       "      <td>Prince Chocolat biscuits au blé complet</td>\n",
       "    </tr>\n",
       "    <tr>\n",
       "      <th>3</th>\n",
       "      <td>5449000214911</td>\n",
       "      <td>NaN</td>\n",
       "      <td>1.50</td>\n",
       "      <td>Coca-cola</td>\n",
       "    </tr>\n",
       "    <tr>\n",
       "      <th>4</th>\n",
       "      <td>3017620425035</td>\n",
       "      <td>5,89</td>\n",
       "      <td>15.95</td>\n",
       "      <td>Nutella</td>\n",
       "    </tr>\n",
       "  </tbody>\n",
       "</table>\n",
       "</div>"
      ],
      "text/plain": [
       "       codebarre carrefour  gout_qualite  \\\n",
       "0  3274080005003       NaN          0.39   \n",
       "1  3017620422003      3,21          2.95   \n",
       "2  7622210449283      1,49          2.10   \n",
       "3  5449000214911       NaN          1.50   \n",
       "4  3017620425035      5,89         15.95   \n",
       "\n",
       "                              product_name  \n",
       "0                            Eau de source  \n",
       "1                                  Nutella  \n",
       "2  Prince Chocolat biscuits au blé complet  \n",
       "3                                Coca-cola  \n",
       "4                                  Nutella  "
      ]
     },
     "execution_count": 13,
     "metadata": {},
     "output_type": "execute_result"
    }
   ],
   "source": [
    "# csv_data.head()"
   ]
  },
  {
   "cell_type": "code",
   "execution_count": 23,
   "metadata": {},
   "outputs": [
    {
     "data": {
      "text/plain": [
       "692"
      ]
     },
     "execution_count": 23,
     "metadata": {},
     "output_type": "execute_result"
    }
   ],
   "source": [
    "# len(csv_data)"
   ]
  },
  {
   "cell_type": "code",
   "execution_count": 29,
   "metadata": {},
   "outputs": [
    {
     "name": "stderr",
     "output_type": "stream",
     "text": [
      "100%|██████████| 692/692 [00:00<00:00, 21994.65it/s]"
     ]
    },
    {
     "name": "stdout",
     "output_type": "stream",
     "text": [
      "number of rows with prices 514\n"
     ]
    },
    {
     "name": "stderr",
     "output_type": "stream",
     "text": [
      "\n"
     ]
    }
   ],
   "source": [
    "# Merging CSV data with JSON data\n",
    "# i = 0\n",
    "\n",
    "# for index, row in tqdm(csv_data.iterrows(), total=len(csv_data)):\n",
    "#     product_id = row['codebarre']\n",
    "#     price = row['carrefour']\n",
    "#     if price and product_id in json_data:\n",
    "#         if price and type(price) is str and ('N' not in price and 'n' not in price):\n",
    "#             json_data[product_id]['price'] = float(price.replace(',', '.'))\n",
    "#             i += 1\n",
    "#         else:\n",
    "#             json_data[product_id]['price'] = 0\n",
    "            \n",
    "# print(f'number of rows with prices {i}')"
   ]
  },
  {
   "cell_type": "code",
   "execution_count": 30,
   "metadata": {},
   "outputs": [
    {
     "name": "stdout",
     "output_type": "stream",
     "text": [
      "Data with price saved to data/final_extracted_products.json\n"
     ]
    }
   ],
   "source": [
    "# with open(json_file, 'w', encoding='utf-8') as file:\n",
    "#     json.dump(json_data, file, ensure_ascii=False, indent=4)\n",
    "\n",
    "# print(f\"Data with price saved to {json_file}\")"
   ]
  },
  {
   "cell_type": "code",
   "execution_count": null,
   "metadata": {},
   "outputs": [],
   "source": [
    "# f = open(json_file)\n",
    "# json_data = json.load(f)"
   ]
  },
  {
   "cell_type": "markdown",
   "metadata": {},
   "source": [
    "### Let's test our product database"
   ]
  },
  {
   "cell_type": "code",
   "execution_count": 5,
   "metadata": {},
   "outputs": [],
   "source": [
    "product_database = ProductDatabase(json_data, ngram_size=3)"
   ]
  },
  {
   "cell_type": "markdown",
   "metadata": {},
   "source": [
    "Research of a product using Leveinhstein distance"
   ]
  },
  {
   "cell_type": "code",
   "execution_count": 6,
   "metadata": {},
   "outputs": [
    {
     "name": "stdout",
     "output_type": "stream",
     "text": [
      "Product(ID: 3560070218196, Name: Pain azyme, Price: None, Eco Score: unknown, Nutriscore Score: a)\n",
      "Product(ID: 3523680374317, Name: Pain Nordique, Price: None, Eco Score: unknown, Nutriscore Score: unknown)\n",
      "Product(ID: 3560071442033, Name: Pain de mie, Price: None, Eco Score: b, Nutriscore Score: c)\n",
      "Product(ID: 3523680383616, Name: Pain nordique, Price: None, Eco Score: unknown, Nutriscore Score: a)\n",
      "Product(ID: 3560070434169, Name: Piperade, Price: None, Eco Score: a, Nutriscore Score: a)\n"
     ]
    }
   ],
   "source": [
    "search_results = product_database.search_products_lvsn_dist(\"pain perdu\")\n",
    "print(*search_results[:5], sep=\"\\n\")"
   ]
  },
  {
   "cell_type": "markdown",
   "metadata": {},
   "source": [
    "Research of a product using ngram correspondace"
   ]
  },
  {
   "cell_type": "code",
   "execution_count": 7,
   "metadata": {},
   "outputs": [
    {
     "name": "stdout",
     "output_type": "stream",
     "text": [
      "Product(ID: 3228857001194, Name: Harrys beau & bon pain de mie farine de ble cereales & graines 320g, Price: None, Eco Score: b, Nutriscore Score: a)\n",
      "Product(ID: 3175681085688, Name: Pain complet de seigle aux graines de tournesol, Price: None, Eco Score: b, Nutriscore Score: a)\n",
      "Product(ID: 3513851560724, Name: Pain multicéréales et graines, Price: None, Eco Score: unknown, Nutriscore Score: a)\n",
      "Product(ID: 3175681161252, Name: Pain complet de seigle aux graines de courges, Price: None, Eco Score: b, Nutriscore Score: a)\n",
      "Product(ID: 3523680357501, Name: Pain aux graines bio, Price: None, Eco Score: unknown, Nutriscore Score: a)\n"
     ]
    }
   ],
   "source": [
    "search_results = product_database.search_products_ngram(\"pain perdu\")\n",
    "print(*search_results[:5], sep=\"\\n\")"
   ]
  },
  {
   "cell_type": "markdown",
   "metadata": {},
   "source": [
    "### Let's test our product shopping cart"
   ]
  },
  {
   "cell_type": "code",
   "execution_count": 8,
   "metadata": {},
   "outputs": [],
   "source": [
    "panier = ShoppingCart(product_database)"
   ]
  },
  {
   "cell_type": "markdown",
   "metadata": {},
   "source": [
    "Let's add a product to the cart"
   ]
  },
  {
   "cell_type": "code",
   "execution_count": 9,
   "metadata": {},
   "outputs": [],
   "source": [
    "panier.add_product(\"3228857001194\")"
   ]
  },
  {
   "cell_type": "markdown",
   "metadata": {},
   "source": [
    "List of products in the cart"
   ]
  },
  {
   "cell_type": "code",
   "execution_count": 10,
   "metadata": {},
   "outputs": [
    {
     "data": {
      "text/plain": [
       "dict_values([<Products.Product object at 0x17f34f370>])"
      ]
     },
     "execution_count": 10,
     "metadata": {},
     "output_type": "execute_result"
    }
   ],
   "source": [
    "panier.list_products()"
   ]
  },
  {
   "cell_type": "markdown",
   "metadata": {},
   "source": [
    "Let's remove the product from the cart"
   ]
  },
  {
   "cell_type": "code",
   "execution_count": 11,
   "metadata": {},
   "outputs": [],
   "source": [
    "panier.remove_product(\"3228857001194\")"
   ]
  },
  {
   "cell_type": "code",
   "execution_count": 12,
   "metadata": {},
   "outputs": [
    {
     "data": {
      "text/plain": [
       "dict_values([])"
      ]
     },
     "execution_count": 12,
     "metadata": {},
     "output_type": "execute_result"
    }
   ],
   "source": [
    "panier.list_products()"
   ]
  },
  {
   "cell_type": "markdown",
   "metadata": {},
   "source": [
    "### Let's run the streamlit api"
   ]
  },
  {
   "cell_type": "code",
   "execution_count": 33,
   "metadata": {},
   "outputs": [
    {
     "name": "stdout",
     "output_type": "stream",
     "text": [
      "\u001b[0m\n",
      "\u001b[34m\u001b[1m  You can now view your Streamlit app in your browser.\u001b[0m\n",
      "\u001b[0m\n",
      "\u001b[34m  Local URL: \u001b[0m\u001b[1mhttp://localhost:8501\u001b[0m\n",
      "\u001b[34m  Network URL: \u001b[0m\u001b[1mhttp://192.168.1.77:8501\u001b[0m\n",
      "\u001b[0m\n",
      "\u001b[34m\u001b[1m  For better performance, install the Watchdog module:\u001b[0m\n",
      "\n",
      "  $ xcode-select --install\n",
      "  $ pip install watchdog\n",
      "            \u001b[0m\n",
      "2024-01-25 17:42:35.815 Uncaught app exception\n",
      "Traceback (most recent call last):\n",
      "  File \"/Users/steven/opt/miniconda3/lib/python3.9/site-packages/streamlit/runtime/scriptrunner/script_runner.py\", line 564, in _run_script\n",
      "    exec(code, module.__dict__)\n",
      "  File \"/Users/steven/Documents/ESILV_A5/Web_scrap/Project/streamlite/app.py\", line 3, in <module>\n",
      "    from Products_database import ProductDatabase\n",
      "  File \"/Users/steven/Documents/ESILV_A5/Web_scrap/Project/streamlite/Products_database.py\", line 1, in <module>\n",
      "    from streamlite.Products import Product\n",
      "ModuleNotFoundError: No module named 'streamlite'\n",
      "2024-01-25 17:43:03.211 Uncaught app exception\n",
      "Traceback (most recent call last):\n",
      "  File \"/Users/steven/opt/miniconda3/lib/python3.9/site-packages/streamlit/runtime/scriptrunner/script_runner.py\", line 564, in _run_script\n",
      "    exec(code, module.__dict__)\n",
      "  File \"/Users/steven/Documents/ESILV_A5/Web_scrap/Project/streamlite/app.py\", line 3, in <module>\n",
      "    from Products_database import ProductDatabase\n",
      "  File \"/Users/steven/Documents/ESILV_A5/Web_scrap/Project/streamlite/Products_database.py\", line 1, in <module>\n",
      "    from streamlite.Products import Product\n",
      "ModuleNotFoundError: No module named 'streamlite'\n",
      "2024-01-25 17:46:38.661 loading Word2Vec object from model/ingredients2vec.model\n",
      "2024-01-25 17:46:38.665 loading wv recursively from model/ingredients2vec.model.wv.* with mmap=None\n",
      "2024-01-25 17:46:38.665 setting ignored attribute cum_table to None\n",
      "2024-01-25 17:46:38.710 Word2Vec lifecycle event {'fname': 'model/ingredients2vec.model', 'datetime': '2024-01-25T17:46:38.667214', 'gensim': '4.3.1', 'python': '3.9.12 (main, Apr  5 2022, 01:52:34) \\n[Clang 12.0.0 ]', 'platform': 'macOS-14.2-arm64-arm-64bit', 'event': 'loaded'}\n",
      "2024-01-25 17:46:51.013 loading Word2Vec object from model/ingredients2vec.model\n",
      "2024-01-25 17:46:51.015 loading wv recursively from model/ingredients2vec.model.wv.* with mmap=None\n",
      "2024-01-25 17:46:51.015 setting ignored attribute cum_table to None\n",
      "2024-01-25 17:46:51.016 Word2Vec lifecycle event {'fname': 'model/ingredients2vec.model', 'datetime': '2024-01-25T17:46:51.016772', 'gensim': '4.3.1', 'python': '3.9.12 (main, Apr  5 2022, 01:52:34) \\n[Clang 12.0.0 ]', 'platform': 'macOS-14.2-arm64-arm-64bit', 'event': 'loaded'}\n",
      "2024-01-25 17:46:58.499 loading Word2Vec object from model/ingredients2vec.model\n",
      "2024-01-25 17:46:58.501 loading wv recursively from model/ingredients2vec.model.wv.* with mmap=None\n",
      "2024-01-25 17:46:58.501 setting ignored attribute cum_table to None\n",
      "2024-01-25 17:46:58.503 Word2Vec lifecycle event {'fname': 'model/ingredients2vec.model', 'datetime': '2024-01-25T17:46:58.503045', 'gensim': '4.3.1', 'python': '3.9.12 (main, Apr  5 2022, 01:52:34) \\n[Clang 12.0.0 ]', 'platform': 'macOS-14.2-arm64-arm-64bit', 'event': 'loaded'}\n",
      "2024-01-25 17:46:58.508 Uncaught app exception\n",
      "Traceback (most recent call last):\n",
      "  File \"/Users/steven/opt/miniconda3/lib/python3.9/site-packages/streamlit/runtime/scriptrunner/script_runner.py\", line 564, in _run_script\n",
      "    exec(code, module.__dict__)\n",
      "  File \"/Users/steven/Documents/ESILV_A5/Web_scrap/Project/streamlite/app.py\", line 757, in <module>\n",
      "    page_search_products()\n",
      "  File \"/Users/steven/Documents/ESILV_A5/Web_scrap/Project/streamlite/app.py\", line 214, in page_search_products\n",
      "    price_range = st.slider(\n",
      "  File \"/Users/steven/opt/miniconda3/lib/python3.9/site-packages/streamlit/runtime/metrics_util.py\", line 311, in wrapped_func\n",
      "    result = non_optional_func(*args, **kwargs)\n",
      "  File \"/Users/steven/opt/miniconda3/lib/python3.9/site-packages/streamlit/elements/slider.py\", line 305, in slider\n",
      "    return self._slider(\n",
      "  File \"/Users/steven/opt/miniconda3/lib/python3.9/site-packages/streamlit/elements/slider.py\", line 385, in _slider\n",
      "    raise StreamlitAPIException(\n",
      "streamlit.errors.StreamlitAPIException: Slider tuple/list components must be of the same type.\n",
      "But were: [<class 'int'>, <class 'float'>]\n",
      "2024-01-25 17:47:05.970 loading Word2Vec object from model/ingredients2vec.model\n",
      "2024-01-25 17:47:05.973 loading wv recursively from model/ingredients2vec.model.wv.* with mmap=None\n",
      "2024-01-25 17:47:05.973 setting ignored attribute cum_table to None\n",
      "2024-01-25 17:47:05.974 Word2Vec lifecycle event {'fname': 'model/ingredients2vec.model', 'datetime': '2024-01-25T17:47:05.974411', 'gensim': '4.3.1', 'python': '3.9.12 (main, Apr  5 2022, 01:52:34) \\n[Clang 12.0.0 ]', 'platform': 'macOS-14.2-arm64-arm-64bit', 'event': 'loaded'}\n",
      "2024-01-25 17:47:05.977 Uncaught app exception\n",
      "Traceback (most recent call last):\n",
      "  File \"/Users/steven/opt/miniconda3/lib/python3.9/site-packages/streamlit/runtime/scriptrunner/script_runner.py\", line 564, in _run_script\n",
      "    exec(code, module.__dict__)\n",
      "  File \"/Users/steven/Documents/ESILV_A5/Web_scrap/Project/streamlite/app.py\", line 757, in <module>\n",
      "    page_search_products()\n",
      "  File \"/Users/steven/Documents/ESILV_A5/Web_scrap/Project/streamlite/app.py\", line 214, in page_search_products\n",
      "    price_range = st.slider(\n",
      "  File \"/Users/steven/opt/miniconda3/lib/python3.9/site-packages/streamlit/runtime/metrics_util.py\", line 311, in wrapped_func\n",
      "    result = non_optional_func(*args, **kwargs)\n",
      "  File \"/Users/steven/opt/miniconda3/lib/python3.9/site-packages/streamlit/elements/slider.py\", line 305, in slider\n",
      "    return self._slider(\n",
      "  File \"/Users/steven/opt/miniconda3/lib/python3.9/site-packages/streamlit/elements/slider.py\", line 385, in _slider\n",
      "    raise StreamlitAPIException(\n",
      "streamlit.errors.StreamlitAPIException: Slider tuple/list components must be of the same type.\n",
      "But were: [<class 'int'>, <class 'float'>]\n",
      "2024-01-25 17:47:43.227 loading Word2Vec object from model/ingredients2vec.model\n",
      "2024-01-25 17:47:43.229 loading wv recursively from model/ingredients2vec.model.wv.* with mmap=None\n",
      "2024-01-25 17:47:43.229 setting ignored attribute cum_table to None\n",
      "2024-01-25 17:47:43.230 Word2Vec lifecycle event {'fname': 'model/ingredients2vec.model', 'datetime': '2024-01-25T17:47:43.230593', 'gensim': '4.3.1', 'python': '3.9.12 (main, Apr  5 2022, 01:52:34) \\n[Clang 12.0.0 ]', 'platform': 'macOS-14.2-arm64-arm-64bit', 'event': 'loaded'}\n",
      "2024-01-25 17:48:04.064 loading Word2Vec object from model/ingredients2vec.model\n",
      "2024-01-25 17:48:04.066 loading wv recursively from model/ingredients2vec.model.wv.* with mmap=None\n",
      "2024-01-25 17:48:04.067 setting ignored attribute cum_table to None\n",
      "2024-01-25 17:48:04.068 Word2Vec lifecycle event {'fname': 'model/ingredients2vec.model', 'datetime': '2024-01-25T17:48:04.068092', 'gensim': '4.3.1', 'python': '3.9.12 (main, Apr  5 2022, 01:52:34) \\n[Clang 12.0.0 ]', 'platform': 'macOS-14.2-arm64-arm-64bit', 'event': 'loaded'}\n",
      "2024-01-25 17:48:10.366 loading Word2Vec object from model/ingredients2vec.model\n",
      "2024-01-25 17:48:10.367 loading wv recursively from model/ingredients2vec.model.wv.* with mmap=None\n",
      "2024-01-25 17:48:10.367 setting ignored attribute cum_table to None\n",
      "2024-01-25 17:48:10.368 Word2Vec lifecycle event {'fname': 'model/ingredients2vec.model', 'datetime': '2024-01-25T17:48:10.368747', 'gensim': '4.3.1', 'python': '3.9.12 (main, Apr  5 2022, 01:52:34) \\n[Clang 12.0.0 ]', 'platform': 'macOS-14.2-arm64-arm-64bit', 'event': 'loaded'}\n",
      "2024-01-25 17:49:09.499 loading Word2Vec object from model/ingredients2vec.model\n",
      "2024-01-25 17:49:09.502 loading wv recursively from model/ingredients2vec.model.wv.* with mmap=None\n",
      "2024-01-25 17:49:09.502 setting ignored attribute cum_table to None\n",
      "2024-01-25 17:49:09.503 Word2Vec lifecycle event {'fname': 'model/ingredients2vec.model', 'datetime': '2024-01-25T17:49:09.503539', 'gensim': '4.3.1', 'python': '3.9.12 (main, Apr  5 2022, 01:52:34) \\n[Clang 12.0.0 ]', 'platform': 'macOS-14.2-arm64-arm-64bit', 'event': 'loaded'}\n",
      "2024-01-25 17:49:16.686 loading Word2Vec object from model/ingredients2vec.model\n",
      "2024-01-25 17:49:16.687 loading wv recursively from model/ingredients2vec.model.wv.* with mmap=None\n",
      "2024-01-25 17:49:16.687 setting ignored attribute cum_table to None\n",
      "2024-01-25 17:49:16.688 Word2Vec lifecycle event {'fname': 'model/ingredients2vec.model', 'datetime': '2024-01-25T17:49:16.688783', 'gensim': '4.3.1', 'python': '3.9.12 (main, Apr  5 2022, 01:52:34) \\n[Clang 12.0.0 ]', 'platform': 'macOS-14.2-arm64-arm-64bit', 'event': 'loaded'}\n",
      "2024-01-25 17:49:20.665 loading Word2Vec object from model/ingredients2vec.model\n",
      "2024-01-25 17:49:20.666 loading wv recursively from model/ingredients2vec.model.wv.* with mmap=None\n",
      "2024-01-25 17:49:20.666 setting ignored attribute cum_table to None\n",
      "2024-01-25 17:49:20.667 Word2Vec lifecycle event {'fname': 'model/ingredients2vec.model', 'datetime': '2024-01-25T17:49:20.667929', 'gensim': '4.3.1', 'python': '3.9.12 (main, Apr  5 2022, 01:52:34) \\n[Clang 12.0.0 ]', 'platform': 'macOS-14.2-arm64-arm-64bit', 'event': 'loaded'}\n",
      "2024-01-25 17:49:27.967 loading Word2Vec object from model/ingredients2vec.model\n",
      "2024-01-25 17:49:27.968 loading wv recursively from model/ingredients2vec.model.wv.* with mmap=None\n",
      "2024-01-25 17:49:27.968 setting ignored attribute cum_table to None\n",
      "2024-01-25 17:49:27.969 Word2Vec lifecycle event {'fname': 'model/ingredients2vec.model', 'datetime': '2024-01-25T17:49:27.969758', 'gensim': '4.3.1', 'python': '3.9.12 (main, Apr  5 2022, 01:52:34) \\n[Clang 12.0.0 ]', 'platform': 'macOS-14.2-arm64-arm-64bit', 'event': 'loaded'}\n",
      "2024-01-25 17:49:54.507 loading Word2Vec object from model/ingredients2vec.model\n",
      "2024-01-25 17:49:54.510 loading wv recursively from model/ingredients2vec.model.wv.* with mmap=None\n",
      "2024-01-25 17:49:54.510 setting ignored attribute cum_table to None\n",
      "2024-01-25 17:49:54.511 Word2Vec lifecycle event {'fname': 'model/ingredients2vec.model', 'datetime': '2024-01-25T17:49:54.511347', 'gensim': '4.3.1', 'python': '3.9.12 (main, Apr  5 2022, 01:52:34) \\n[Clang 12.0.0 ]', 'platform': 'macOS-14.2-arm64-arm-64bit', 'event': 'loaded'}\n",
      "2024-01-25 17:50:05.056 loading Word2Vec object from model/ingredients2vec.model\n",
      "2024-01-25 17:50:05.059 loading wv recursively from model/ingredients2vec.model.wv.* with mmap=None\n",
      "2024-01-25 17:50:05.059 setting ignored attribute cum_table to None\n",
      "2024-01-25 17:50:05.060 Word2Vec lifecycle event {'fname': 'model/ingredients2vec.model', 'datetime': '2024-01-25T17:50:05.060629', 'gensim': '4.3.1', 'python': '3.9.12 (main, Apr  5 2022, 01:52:34) \\n[Clang 12.0.0 ]', 'platform': 'macOS-14.2-arm64-arm-64bit', 'event': 'loaded'}\n",
      "2024-01-25 17:50:15.039 loading Word2Vec object from model/ingredients2vec.model\n",
      "2024-01-25 17:50:15.041 loading wv recursively from model/ingredients2vec.model.wv.* with mmap=None\n",
      "2024-01-25 17:50:15.041 setting ignored attribute cum_table to None\n",
      "2024-01-25 17:50:15.042 Word2Vec lifecycle event {'fname': 'model/ingredients2vec.model', 'datetime': '2024-01-25T17:50:15.042840', 'gensim': '4.3.1', 'python': '3.9.12 (main, Apr  5 2022, 01:52:34) \\n[Clang 12.0.0 ]', 'platform': 'macOS-14.2-arm64-arm-64bit', 'event': 'loaded'}\n",
      "2024-01-25 17:51:02.389 loading Word2Vec object from model/ingredients2vec.model\n",
      "2024-01-25 17:51:02.392 loading wv recursively from model/ingredients2vec.model.wv.* with mmap=None\n",
      "2024-01-25 17:51:02.392 setting ignored attribute cum_table to None\n",
      "2024-01-25 17:51:02.393 Word2Vec lifecycle event {'fname': 'model/ingredients2vec.model', 'datetime': '2024-01-25T17:51:02.393443', 'gensim': '4.3.1', 'python': '3.9.12 (main, Apr  5 2022, 01:52:34) \\n[Clang 12.0.0 ]', 'platform': 'macOS-14.2-arm64-arm-64bit', 'event': 'loaded'}\n",
      "2024-01-25 17:51:10.243 loading Word2Vec object from model/ingredients2vec.model\n",
      "2024-01-25 17:51:10.245 loading wv recursively from model/ingredients2vec.model.wv.* with mmap=None\n",
      "2024-01-25 17:51:10.245 setting ignored attribute cum_table to None\n",
      "2024-01-25 17:51:10.246 Word2Vec lifecycle event {'fname': 'model/ingredients2vec.model', 'datetime': '2024-01-25T17:51:10.246386', 'gensim': '4.3.1', 'python': '3.9.12 (main, Apr  5 2022, 01:52:34) \\n[Clang 12.0.0 ]', 'platform': 'macOS-14.2-arm64-arm-64bit', 'event': 'loaded'}\n",
      "2024-01-25 17:51:44.564 loading Word2Vec object from model/ingredients2vec.model\n",
      "2024-01-25 17:51:44.568 loading wv recursively from model/ingredients2vec.model.wv.* with mmap=None\n",
      "2024-01-25 17:51:44.568 setting ignored attribute cum_table to None\n",
      "2024-01-25 17:51:44.570 Word2Vec lifecycle event {'fname': 'model/ingredients2vec.model', 'datetime': '2024-01-25T17:51:44.570129', 'gensim': '4.3.1', 'python': '3.9.12 (main, Apr  5 2022, 01:52:34) \\n[Clang 12.0.0 ]', 'platform': 'macOS-14.2-arm64-arm-64bit', 'event': 'loaded'}\n",
      "2024-01-25 17:51:54.360 loading Word2Vec object from model/ingredients2vec.model\n",
      "2024-01-25 17:51:54.362 loading wv recursively from model/ingredients2vec.model.wv.* with mmap=None\n",
      "2024-01-25 17:51:54.362 setting ignored attribute cum_table to None\n",
      "2024-01-25 17:51:54.364 Word2Vec lifecycle event {'fname': 'model/ingredients2vec.model', 'datetime': '2024-01-25T17:51:54.363986', 'gensim': '4.3.1', 'python': '3.9.12 (main, Apr  5 2022, 01:52:34) \\n[Clang 12.0.0 ]', 'platform': 'macOS-14.2-arm64-arm-64bit', 'event': 'loaded'}\n",
      "2024-01-25 17:52:02.720 loading Word2Vec object from model/ingredients2vec.model\n",
      "2024-01-25 17:52:02.722 loading wv recursively from model/ingredients2vec.model.wv.* with mmap=None\n",
      "2024-01-25 17:52:02.722 setting ignored attribute cum_table to None\n",
      "2024-01-25 17:52:02.723 Word2Vec lifecycle event {'fname': 'model/ingredients2vec.model', 'datetime': '2024-01-25T17:52:02.723438', 'gensim': '4.3.1', 'python': '3.9.12 (main, Apr  5 2022, 01:52:34) \\n[Clang 12.0.0 ]', 'platform': 'macOS-14.2-arm64-arm-64bit', 'event': 'loaded'}\n",
      "2024-01-25 17:52:06.920 loading Word2Vec object from model/ingredients2vec.model\n",
      "2024-01-25 17:52:06.922 loading wv recursively from model/ingredients2vec.model.wv.* with mmap=None\n",
      "2024-01-25 17:52:06.922 setting ignored attribute cum_table to None\n",
      "2024-01-25 17:52:06.923 Word2Vec lifecycle event {'fname': 'model/ingredients2vec.model', 'datetime': '2024-01-25T17:52:06.923609', 'gensim': '4.3.1', 'python': '3.9.12 (main, Apr  5 2022, 01:52:34) \\n[Clang 12.0.0 ]', 'platform': 'macOS-14.2-arm64-arm-64bit', 'event': 'loaded'}\n",
      "2024-01-25 17:52:17.970 loading Word2Vec object from model/ingredients2vec.model\n",
      "2024-01-25 17:52:17.972 loading wv recursively from model/ingredients2vec.model.wv.* with mmap=None\n",
      "2024-01-25 17:52:17.972 setting ignored attribute cum_table to None\n",
      "2024-01-25 17:52:17.974 Word2Vec lifecycle event {'fname': 'model/ingredients2vec.model', 'datetime': '2024-01-25T17:52:17.973980', 'gensim': '4.3.1', 'python': '3.9.12 (main, Apr  5 2022, 01:52:34) \\n[Clang 12.0.0 ]', 'platform': 'macOS-14.2-arm64-arm-64bit', 'event': 'loaded'}\n",
      "2024-01-25 17:52:22.267 loading Word2Vec object from model/ingredients2vec.model\n",
      "2024-01-25 17:52:22.268 loading wv recursively from model/ingredients2vec.model.wv.* with mmap=None\n",
      "2024-01-25 17:52:22.268 setting ignored attribute cum_table to None\n",
      "2024-01-25 17:52:22.269 Word2Vec lifecycle event {'fname': 'model/ingredients2vec.model', 'datetime': '2024-01-25T17:52:22.269334', 'gensim': '4.3.1', 'python': '3.9.12 (main, Apr  5 2022, 01:52:34) \\n[Clang 12.0.0 ]', 'platform': 'macOS-14.2-arm64-arm-64bit', 'event': 'loaded'}\n",
      "2024-01-25 17:53:01.436 loading Word2Vec object from model/ingredients2vec.model\n",
      "2024-01-25 17:53:01.438 loading wv recursively from model/ingredients2vec.model.wv.* with mmap=None\n",
      "2024-01-25 17:53:01.439 setting ignored attribute cum_table to None\n",
      "2024-01-25 17:53:01.440 Word2Vec lifecycle event {'fname': 'model/ingredients2vec.model', 'datetime': '2024-01-25T17:53:01.440065', 'gensim': '4.3.1', 'python': '3.9.12 (main, Apr  5 2022, 01:52:34) \\n[Clang 12.0.0 ]', 'platform': 'macOS-14.2-arm64-arm-64bit', 'event': 'loaded'}\n",
      "2024-01-25 17:53:05.507 loading Word2Vec object from model/ingredients2vec.model\n",
      "2024-01-25 17:53:05.508 loading wv recursively from model/ingredients2vec.model.wv.* with mmap=None\n",
      "2024-01-25 17:53:05.508 setting ignored attribute cum_table to None\n",
      "2024-01-25 17:53:05.509 Word2Vec lifecycle event {'fname': 'model/ingredients2vec.model', 'datetime': '2024-01-25T17:53:05.509893', 'gensim': '4.3.1', 'python': '3.9.12 (main, Apr  5 2022, 01:52:34) \\n[Clang 12.0.0 ]', 'platform': 'macOS-14.2-arm64-arm-64bit', 'event': 'loaded'}\n",
      "2024-01-25 17:53:31.237 loading Word2Vec object from model/ingredients2vec.model\n",
      "2024-01-25 17:53:31.247 loading wv recursively from model/ingredients2vec.model.wv.* with mmap=None\n",
      "2024-01-25 17:53:31.247 setting ignored attribute cum_table to None\n",
      "2024-01-25 17:53:31.250 Word2Vec lifecycle event {'fname': 'model/ingredients2vec.model', 'datetime': '2024-01-25T17:53:31.250466', 'gensim': '4.3.1', 'python': '3.9.12 (main, Apr  5 2022, 01:52:34) \\n[Clang 12.0.0 ]', 'platform': 'macOS-14.2-arm64-arm-64bit', 'event': 'loaded'}\n",
      "2024-01-25 17:53:37.049 loading Word2Vec object from model/ingredients2vec.model\n",
      "2024-01-25 17:53:37.053 loading wv recursively from model/ingredients2vec.model.wv.* with mmap=None\n",
      "2024-01-25 17:53:37.053 setting ignored attribute cum_table to None\n",
      "2024-01-25 17:53:37.054 Word2Vec lifecycle event {'fname': 'model/ingredients2vec.model', 'datetime': '2024-01-25T17:53:37.054873', 'gensim': '4.3.1', 'python': '3.9.12 (main, Apr  5 2022, 01:52:34) \\n[Clang 12.0.0 ]', 'platform': 'macOS-14.2-arm64-arm-64bit', 'event': 'loaded'}\n",
      "2024-01-25 17:53:41.850 loading Word2Vec object from model/ingredients2vec.model\n",
      "2024-01-25 17:53:41.851 loading wv recursively from model/ingredients2vec.model.wv.* with mmap=None\n",
      "2024-01-25 17:53:41.851 setting ignored attribute cum_table to None\n",
      "2024-01-25 17:53:41.853 Word2Vec lifecycle event {'fname': 'model/ingredients2vec.model', 'datetime': '2024-01-25T17:53:41.853050', 'gensim': '4.3.1', 'python': '3.9.12 (main, Apr  5 2022, 01:52:34) \\n[Clang 12.0.0 ]', 'platform': 'macOS-14.2-arm64-arm-64bit', 'event': 'loaded'}\n",
      "2024-01-25 17:53:59.546 loading Word2Vec object from model/ingredients2vec.model\n",
      "2024-01-25 17:53:59.548 loading wv recursively from model/ingredients2vec.model.wv.* with mmap=None\n",
      "2024-01-25 17:53:59.548 setting ignored attribute cum_table to None\n",
      "2024-01-25 17:53:59.549 Word2Vec lifecycle event {'fname': 'model/ingredients2vec.model', 'datetime': '2024-01-25T17:53:59.549537', 'gensim': '4.3.1', 'python': '3.9.12 (main, Apr  5 2022, 01:52:34) \\n[Clang 12.0.0 ]', 'platform': 'macOS-14.2-arm64-arm-64bit', 'event': 'loaded'}\n",
      "2024-01-25 17:55:59.415 loading Word2Vec object from model/ingredients2vec.model\n",
      "2024-01-25 17:55:59.423 loading wv recursively from model/ingredients2vec.model.wv.* with mmap=None\n",
      "2024-01-25 17:55:59.423 setting ignored attribute cum_table to None\n",
      "2024-01-25 17:55:59.426 Word2Vec lifecycle event {'fname': 'model/ingredients2vec.model', 'datetime': '2024-01-25T17:55:59.425984', 'gensim': '4.3.1', 'python': '3.9.12 (main, Apr  5 2022, 01:52:34) \\n[Clang 12.0.0 ]', 'platform': 'macOS-14.2-arm64-arm-64bit', 'event': 'loaded'}\n",
      "/Users/steven/opt/miniconda3/lib/python3.9/site-packages/sklearn/manifold/_t_sne.py:800: FutureWarning: The default initialization in TSNE will change from 'random' to 'pca' in 1.2.\n",
      "  warnings.warn(\n",
      "/Users/steven/opt/miniconda3/lib/python3.9/site-packages/sklearn/manifold/_t_sne.py:810: FutureWarning: The default learning rate in TSNE will change from 200.0 to 'auto' in 1.2.\n",
      "  warnings.warn(\n",
      "2024-01-25 17:56:56.044 loading Word2Vec object from model/ingredients2vec.model\n",
      "2024-01-25 17:56:56.049 loading wv recursively from model/ingredients2vec.model.wv.* with mmap=None\n",
      "2024-01-25 17:56:56.050 setting ignored attribute cum_table to None\n",
      "2024-01-25 17:56:56.051 Word2Vec lifecycle event {'fname': 'model/ingredients2vec.model', 'datetime': '2024-01-25T17:56:56.051631', 'gensim': '4.3.1', 'python': '3.9.12 (main, Apr  5 2022, 01:52:34) \\n[Clang 12.0.0 ]', 'platform': 'macOS-14.2-arm64-arm-64bit', 'event': 'loaded'}\n",
      "2024-01-25 17:56:59.944 loading Word2Vec object from model/ingredients2vec.model\n",
      "2024-01-25 17:56:59.945 loading wv recursively from model/ingredients2vec.model.wv.* with mmap=None\n",
      "2024-01-25 17:56:59.945 setting ignored attribute cum_table to None\n",
      "2024-01-25 17:56:59.946 Word2Vec lifecycle event {'fname': 'model/ingredients2vec.model', 'datetime': '2024-01-25T17:56:59.946455', 'gensim': '4.3.1', 'python': '3.9.12 (main, Apr  5 2022, 01:52:34) \\n[Clang 12.0.0 ]', 'platform': 'macOS-14.2-arm64-arm-64bit', 'event': 'loaded'}\n",
      "/Users/steven/opt/miniconda3/lib/python3.9/site-packages/sklearn/manifold/_t_sne.py:800: FutureWarning:\n",
      "\n",
      "The default initialization in TSNE will change from 'random' to 'pca' in 1.2.\n",
      "\n",
      "/Users/steven/opt/miniconda3/lib/python3.9/site-packages/sklearn/manifold/_t_sne.py:810: FutureWarning:\n",
      "\n",
      "The default learning rate in TSNE will change from 200.0 to 'auto' in 1.2.\n",
      "\n",
      "2024-01-25 17:57:18.336 loading Word2Vec object from model/ingredients2vec.model\n",
      "2024-01-25 17:57:18.338 loading wv recursively from model/ingredients2vec.model.wv.* with mmap=None\n",
      "2024-01-25 17:57:18.338 setting ignored attribute cum_table to None\n",
      "2024-01-25 17:57:18.339 Word2Vec lifecycle event {'fname': 'model/ingredients2vec.model', 'datetime': '2024-01-25T17:57:18.339492', 'gensim': '4.3.1', 'python': '3.9.12 (main, Apr  5 2022, 01:52:34) \\n[Clang 12.0.0 ]', 'platform': 'macOS-14.2-arm64-arm-64bit', 'event': 'loaded'}\n",
      "2024-01-25 17:57:30.378 loading Word2Vec object from model/ingredients2vec.model\n",
      "2024-01-25 17:57:30.381 loading wv recursively from model/ingredients2vec.model.wv.* with mmap=None\n",
      "2024-01-25 17:57:30.381 setting ignored attribute cum_table to None\n",
      "2024-01-25 17:57:30.382 Word2Vec lifecycle event {'fname': 'model/ingredients2vec.model', 'datetime': '2024-01-25T17:57:30.382224', 'gensim': '4.3.1', 'python': '3.9.12 (main, Apr  5 2022, 01:52:34) \\n[Clang 12.0.0 ]', 'platform': 'macOS-14.2-arm64-arm-64bit', 'event': 'loaded'}\n",
      "2024-01-25 17:57:34.515 loading Word2Vec object from model/ingredients2vec.model\n",
      "2024-01-25 17:57:34.516 loading wv recursively from model/ingredients2vec.model.wv.* with mmap=None\n",
      "2024-01-25 17:57:34.516 setting ignored attribute cum_table to None\n",
      "2024-01-25 17:57:34.516 Word2Vec lifecycle event {'fname': 'model/ingredients2vec.model', 'datetime': '2024-01-25T17:57:34.516860', 'gensim': '4.3.1', 'python': '3.9.12 (main, Apr  5 2022, 01:52:34) \\n[Clang 12.0.0 ]', 'platform': 'macOS-14.2-arm64-arm-64bit', 'event': 'loaded'}\n",
      "2024-01-25 17:57:39.760 loading Word2Vec object from model/ingredients2vec.model\n",
      "2024-01-25 17:57:39.762 loading wv recursively from model/ingredients2vec.model.wv.* with mmap=None\n",
      "2024-01-25 17:57:39.762 setting ignored attribute cum_table to None\n",
      "2024-01-25 17:57:39.763 Word2Vec lifecycle event {'fname': 'model/ingredients2vec.model', 'datetime': '2024-01-25T17:57:39.763133', 'gensim': '4.3.1', 'python': '3.9.12 (main, Apr  5 2022, 01:52:34) \\n[Clang 12.0.0 ]', 'platform': 'macOS-14.2-arm64-arm-64bit', 'event': 'loaded'}\n",
      "2024-01-25 18:00:44.653 loading Word2Vec object from model/ingredients2vec.model\n",
      "2024-01-25 18:00:44.667 loading wv recursively from model/ingredients2vec.model.wv.* with mmap=None\n",
      "2024-01-25 18:00:44.667 setting ignored attribute cum_table to None\n",
      "2024-01-25 18:00:44.670 Word2Vec lifecycle event {'fname': 'model/ingredients2vec.model', 'datetime': '2024-01-25T18:00:44.670477', 'gensim': '4.3.1', 'python': '3.9.12 (main, Apr  5 2022, 01:52:34) \\n[Clang 12.0.0 ]', 'platform': 'macOS-14.2-arm64-arm-64bit', 'event': 'loaded'}\n",
      "2024-01-25 18:00:53.693 loading Word2Vec object from model/ingredients2vec.model\n",
      "2024-01-25 18:00:53.699 loading wv recursively from model/ingredients2vec.model.wv.* with mmap=None\n",
      "2024-01-25 18:00:53.699 setting ignored attribute cum_table to None\n",
      "2024-01-25 18:00:53.702 Word2Vec lifecycle event {'fname': 'model/ingredients2vec.model', 'datetime': '2024-01-25T18:00:53.701979', 'gensim': '4.3.1', 'python': '3.9.12 (main, Apr  5 2022, 01:52:34) \\n[Clang 12.0.0 ]', 'platform': 'macOS-14.2-arm64-arm-64bit', 'event': 'loaded'}\n",
      "2024-01-25 18:01:02.724 loading Word2Vec object from model/ingredients2vec.model\n",
      "2024-01-25 18:01:02.727 loading wv recursively from model/ingredients2vec.model.wv.* with mmap=None\n",
      "2024-01-25 18:01:02.727 setting ignored attribute cum_table to None\n",
      "2024-01-25 18:01:02.727 Word2Vec lifecycle event {'fname': 'model/ingredients2vec.model', 'datetime': '2024-01-25T18:01:02.727878', 'gensim': '4.3.1', 'python': '3.9.12 (main, Apr  5 2022, 01:52:34) \\n[Clang 12.0.0 ]', 'platform': 'macOS-14.2-arm64-arm-64bit', 'event': 'loaded'}\n",
      "2024-01-25 18:08:28.437 loading Word2Vec object from model/ingredients2vec.model\n",
      "2024-01-25 18:08:28.443 loading wv recursively from model/ingredients2vec.model.wv.* with mmap=None\n",
      "2024-01-25 18:08:28.443 setting ignored attribute cum_table to None\n",
      "2024-01-25 18:08:28.445 Word2Vec lifecycle event {'fname': 'model/ingredients2vec.model', 'datetime': '2024-01-25T18:08:28.445361', 'gensim': '4.3.1', 'python': '3.9.12 (main, Apr  5 2022, 01:52:34) \\n[Clang 12.0.0 ]', 'platform': 'macOS-14.2-arm64-arm-64bit', 'event': 'loaded'}\n",
      "2024-01-25 18:08:37.833 loading Word2Vec object from model/ingredients2vec.model\n",
      "2024-01-25 18:08:37.839 loading wv recursively from model/ingredients2vec.model.wv.* with mmap=None\n",
      "2024-01-25 18:08:37.839 setting ignored attribute cum_table to None\n",
      "2024-01-25 18:08:37.841 Word2Vec lifecycle event {'fname': 'model/ingredients2vec.model', 'datetime': '2024-01-25T18:08:37.841551', 'gensim': '4.3.1', 'python': '3.9.12 (main, Apr  5 2022, 01:52:34) \\n[Clang 12.0.0 ]', 'platform': 'macOS-14.2-arm64-arm-64bit', 'event': 'loaded'}\n",
      "2024-01-25 18:08:53.455 loading Word2Vec object from model/ingredients2vec.model\n",
      "2024-01-25 18:08:53.457 loading wv recursively from model/ingredients2vec.model.wv.* with mmap=None\n",
      "2024-01-25 18:08:53.457 setting ignored attribute cum_table to None\n",
      "2024-01-25 18:08:53.458 Word2Vec lifecycle event {'fname': 'model/ingredients2vec.model', 'datetime': '2024-01-25T18:08:53.458505', 'gensim': '4.3.1', 'python': '3.9.12 (main, Apr  5 2022, 01:52:34) \\n[Clang 12.0.0 ]', 'platform': 'macOS-14.2-arm64-arm-64bit', 'event': 'loaded'}\n",
      "2024-01-25 18:08:57.739 loading Word2Vec object from model/ingredients2vec.model\n",
      "2024-01-25 18:08:57.740 loading wv recursively from model/ingredients2vec.model.wv.* with mmap=None\n",
      "2024-01-25 18:08:57.740 setting ignored attribute cum_table to None\n",
      "2024-01-25 18:08:57.741 Word2Vec lifecycle event {'fname': 'model/ingredients2vec.model', 'datetime': '2024-01-25T18:08:57.741120', 'gensim': '4.3.1', 'python': '3.9.12 (main, Apr  5 2022, 01:52:34) \\n[Clang 12.0.0 ]', 'platform': 'macOS-14.2-arm64-arm-64bit', 'event': 'loaded'}\n",
      "2024-01-25 18:09:03.866 loading Word2Vec object from model/ingredients2vec.model\n",
      "2024-01-25 18:09:03.868 loading wv recursively from model/ingredients2vec.model.wv.* with mmap=None\n",
      "2024-01-25 18:09:03.868 setting ignored attribute cum_table to None\n",
      "2024-01-25 18:09:03.869 Word2Vec lifecycle event {'fname': 'model/ingredients2vec.model', 'datetime': '2024-01-25T18:09:03.869076', 'gensim': '4.3.1', 'python': '3.9.12 (main, Apr  5 2022, 01:52:34) \\n[Clang 12.0.0 ]', 'platform': 'macOS-14.2-arm64-arm-64bit', 'event': 'loaded'}\n",
      "2024-01-25 18:09:08.393 loading Word2Vec object from model/ingredients2vec.model\n",
      "2024-01-25 18:09:08.394 loading wv recursively from model/ingredients2vec.model.wv.* with mmap=None\n",
      "2024-01-25 18:09:08.394 setting ignored attribute cum_table to None\n",
      "2024-01-25 18:09:08.395 Word2Vec lifecycle event {'fname': 'model/ingredients2vec.model', 'datetime': '2024-01-25T18:09:08.395153', 'gensim': '4.3.1', 'python': '3.9.12 (main, Apr  5 2022, 01:52:34) \\n[Clang 12.0.0 ]', 'platform': 'macOS-14.2-arm64-arm-64bit', 'event': 'loaded'}\n",
      "2024-01-25 18:09:12.858 loading Word2Vec object from model/ingredients2vec.model\n",
      "2024-01-25 18:09:12.860 loading wv recursively from model/ingredients2vec.model.wv.* with mmap=None\n",
      "2024-01-25 18:09:12.860 setting ignored attribute cum_table to None\n",
      "2024-01-25 18:09:12.861 Word2Vec lifecycle event {'fname': 'model/ingredients2vec.model', 'datetime': '2024-01-25T18:09:12.860971', 'gensim': '4.3.1', 'python': '3.9.12 (main, Apr  5 2022, 01:52:34) \\n[Clang 12.0.0 ]', 'platform': 'macOS-14.2-arm64-arm-64bit', 'event': 'loaded'}\n",
      "2024-01-25 18:10:04.504 loading Word2Vec object from model/ingredients2vec.model\n",
      "2024-01-25 18:10:04.506 loading wv recursively from model/ingredients2vec.model.wv.* with mmap=None\n",
      "2024-01-25 18:10:04.506 setting ignored attribute cum_table to None\n",
      "2024-01-25 18:10:04.506 Word2Vec lifecycle event {'fname': 'model/ingredients2vec.model', 'datetime': '2024-01-25T18:10:04.506989', 'gensim': '4.3.1', 'python': '3.9.12 (main, Apr  5 2022, 01:52:34) \\n[Clang 12.0.0 ]', 'platform': 'macOS-14.2-arm64-arm-64bit', 'event': 'loaded'}\n",
      "2024-01-25 18:10:08.119 loading Word2Vec object from model/ingredients2vec.model\n",
      "2024-01-25 18:10:08.119 loading wv recursively from model/ingredients2vec.model.wv.* with mmap=None\n",
      "2024-01-25 18:10:08.119 setting ignored attribute cum_table to None\n",
      "2024-01-25 18:10:08.120 Word2Vec lifecycle event {'fname': 'model/ingredients2vec.model', 'datetime': '2024-01-25T18:10:08.120679', 'gensim': '4.3.1', 'python': '3.9.12 (main, Apr  5 2022, 01:52:34) \\n[Clang 12.0.0 ]', 'platform': 'macOS-14.2-arm64-arm-64bit', 'event': 'loaded'}\n",
      "2024-01-25 18:10:44.091 loading Word2Vec object from model/ingredients2vec.model\n",
      "2024-01-25 18:10:44.094 loading wv recursively from model/ingredients2vec.model.wv.* with mmap=None\n",
      "2024-01-25 18:10:44.094 setting ignored attribute cum_table to None\n",
      "2024-01-25 18:10:44.095 Word2Vec lifecycle event {'fname': 'model/ingredients2vec.model', 'datetime': '2024-01-25T18:10:44.095897', 'gensim': '4.3.1', 'python': '3.9.12 (main, Apr  5 2022, 01:52:34) \\n[Clang 12.0.0 ]', 'platform': 'macOS-14.2-arm64-arm-64bit', 'event': 'loaded'}\n",
      "/Users/steven/opt/miniconda3/lib/python3.9/site-packages/sklearn/manifold/_t_sne.py:800: FutureWarning:\n",
      "\n",
      "The default initialization in TSNE will change from 'random' to 'pca' in 1.2.\n",
      "\n",
      "/Users/steven/opt/miniconda3/lib/python3.9/site-packages/sklearn/manifold/_t_sne.py:810: FutureWarning:\n",
      "\n",
      "The default learning rate in TSNE will change from 200.0 to 'auto' in 1.2.\n",
      "\n",
      "2024-01-25 18:11:09.322 loading Word2Vec object from model/ingredients2vec.model\n",
      "2024-01-25 18:11:09.338 loading wv recursively from model/ingredients2vec.model.wv.* with mmap=None\n",
      "2024-01-25 18:11:09.338 setting ignored attribute cum_table to None\n",
      "2024-01-25 18:11:09.339 Word2Vec lifecycle event {'fname': 'model/ingredients2vec.model', 'datetime': '2024-01-25T18:11:09.339401', 'gensim': '4.3.1', 'python': '3.9.12 (main, Apr  5 2022, 01:52:34) \\n[Clang 12.0.0 ]', 'platform': 'macOS-14.2-arm64-arm-64bit', 'event': 'loaded'}\n"
     ]
    }
   ],
   "source": [
    "! streamlit run streamlite/app.py"
   ]
  },
  {
   "cell_type": "code",
   "execution_count": null,
   "metadata": {},
   "outputs": [],
   "source": []
  }
 ],
 "metadata": {
  "kernelspec": {
   "display_name": "base",
   "language": "python",
   "name": "python3"
  },
  "language_info": {
   "codemirror_mode": {
    "name": "ipython",
    "version": 3
   },
   "file_extension": ".py",
   "mimetype": "text/x-python",
   "name": "python",
   "nbconvert_exporter": "python",
   "pygments_lexer": "ipython3",
   "version": "3.9.12"
  }
 },
 "nbformat": 4,
 "nbformat_minor": 2
}
